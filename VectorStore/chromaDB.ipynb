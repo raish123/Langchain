{
 "cells": [
  {
   "cell_type": "code",
   "execution_count": 1,
   "id": "cf4b8c84",
   "metadata": {},
   "outputs": [],
   "source": [
    "#importing the module\n",
    "from langchain_openai import OpenAIEmbeddings #this class we used to load openai embedding models\n",
    "from langchain_core.prompts import PromptTemplate,ChatPromptTemplate #this class we used to create dynamic or role based prompt\n",
    "import os\n",
    "from langchain_core.runnables import RunnableBranch,RunnableParallel,RunnablePassthrough,RunnableLambda,RunnableSequence\n",
    "from langchain_openai import ChatOpenAI #this class we used to load openai llm models\n",
    "from langchain_chroma import Chroma #this class we used to create chroma vector store database\n",
    "from langchain_community.document_loaders import TextLoader,PDFPlumberLoader,DirectoryLoader\n",
    "from langchain_core.output_parsers import StrOutputParser,PydanticOutputParser\n",
    "from langchain.text_splitter import RecursiveCharacterTextSplitter,CharacterTextSplitter\n",
    "from dotenv import load_dotenv\n",
    "from typing import TypedDict,Literal,Annotated\n",
    "from pydantic import BaseModel,Field,computed_field\n"
   ]
  },
  {
   "cell_type": "code",
   "execution_count": 2,
   "id": "dfb9b80a",
   "metadata": {},
   "outputs": [],
   "source": [
    "load_dotenv()\n",
    "\n",
    "\n",
    "#creating an object of embedding models\n",
    "emb_models = OpenAIEmbeddings(\n",
    "    model=\"text-embedding-3-large\",\n",
    "    dimensions=128\n",
    ")\n",
    "\n",
    "\n",
    "#creating and object llm chatmodel \n",
    "chat_model = ChatOpenAI(\n",
    "    temperature=0 #we called as creative parameter\n",
    ")\n"
   ]
  },
  {
   "cell_type": "code",
   "execution_count": 3,
   "id": "0ffe564f",
   "metadata": {},
   "outputs": [],
   "source": [
    "# Custom Loader Class\n",
    "class CustomTextLoader(TextLoader):\n",
    "    def lazy_load(self):\n",
    "        # File name extract\n",
    "        filename = os.path.basename(self.file_path)   # e.g. \"RCB_virat.txt\"\n",
    "        team_name = filename.split(\"_\")[0]            # e.g. \"RCB\"\n",
    "        \n",
    "        # Iterate lazily from parent class\n",
    "        for doc in super().lazy_load():\n",
    "            doc.metadata[\"team\"] = team_name\n",
    "            yield doc"
   ]
  },
  {
   "cell_type": "code",
   "execution_count": 4,
   "id": "5dbb41ea",
   "metadata": {},
   "outputs": [
    {
     "data": {
      "text/plain": [
       "'d:\\\\Langchain\\\\VectorStore'"
      ]
     },
     "execution_count": 4,
     "metadata": {},
     "output_type": "execute_result"
    }
   ],
   "source": [
    "os.getcwd()"
   ]
  },
  {
   "cell_type": "code",
   "execution_count": 5,
   "id": "c120134a",
   "metadata": {},
   "outputs": [
    {
     "data": {
      "text/plain": [
       "'d:\\\\Langchain'"
      ]
     },
     "execution_count": 5,
     "metadata": {},
     "output_type": "execute_result"
    }
   ],
   "source": [
    "os.chdir('../')\n",
    "%pwd"
   ]
  },
  {
   "cell_type": "code",
   "execution_count": 6,
   "id": "d30af4af",
   "metadata": {},
   "outputs": [
    {
     "name": "stderr",
     "output_type": "stream",
     "text": [
      "100%|██████████| 5/5 [00:00<00:00, 5005.14it/s]"
     ]
    },
    {
     "name": "stdout",
     "output_type": "stream",
     "text": [
      "[Document(metadata={'source': 'VectorStore\\\\textDocument\\\\CSK_dhoni.txt', 'team': 'CSK'}, page_content='MS Dhoni, famously known as Captain Cool, has led Chennai Super Kings to multiple IPL titles. \\nHis finishing skills, wicketkeeping, and leadership are legendary.'), Document(metadata={'source': 'VectorStore\\\\textDocument\\\\CSK_jadeja.txt', 'team': 'CSK'}, page_content='Ravindra Jadeja is a dynamic all-rounder who contributes with both bat and ball. \\nRepresenting Chennai Super Kings, his quick fielding and match-winning performances make him a key player.'), Document(metadata={'source': 'VectorStore\\\\textDocument\\\\MI_bumrah.txt', 'team': 'MI'}, page_content='Jasprit Bumrah is considered one of the best fast bowlers in T20 cricket. \\nPlaying for Mumbai Indians, he is known for his yorkers and death-over expertise.'), Document(metadata={'source': 'VectorStore\\\\textDocument\\\\MI_rohit.txt', 'team': 'MI'}, page_content=\"Rohit Sharma is the most successful captain in IPL history, leading Mumbai Indians to five titles. \\nHe's known for his calm demeanor and ability to play big innings under pressure.\"), Document(metadata={'source': 'VectorStore\\\\textDocument\\\\RCB_virat.txt', 'team': 'RCB'}, page_content='Virat Kohli is one of the most successful and consistent batsmen in IPL history. \\nKnown for his aggressive batting style and fitness, he has led the Royal Challengers Bangalore in multiple seasons.')]\n"
     ]
    },
    {
     "name": "stderr",
     "output_type": "stream",
     "text": [
      "\n"
     ]
    }
   ],
   "source": [
    "# DirectoryLoader with CustomTextLoader\n",
    "loader = DirectoryLoader(\n",
    "    path=r\"VectorStore\\textDocument\",\n",
    "    loader_cls=CustomTextLoader,\n",
    "    show_progress=True,\n",
    "    glob=\"*.txt\"\n",
    ")\n",
    "\n",
    "# lazy load documents\n",
    "documents = list(loader.lazy_load())\n",
    "print(documents)\n"
   ]
  },
  {
   "cell_type": "code",
   "execution_count": 7,
   "id": "332a9ef7",
   "metadata": {},
   "outputs": [],
   "source": [
    "#now creating object chroma vector store database by using Chroma class.\n",
    "chroma = Chroma(\n",
    "    #embedding_function parameter we have to define embedding models who will convert doc to embedding vectors\n",
    "    embedding_function=emb_models, \n",
    "    persist_directory= \"chroma_db\", #means which loaction u want to store embedding vectors\n",
    "    collection_name=\"sample\"\n",
    "    \n",
    ")\n",
    "\n"
   ]
  },
  {
   "cell_type": "code",
   "execution_count": 8,
   "id": "bab067d1",
   "metadata": {},
   "outputs": [
    {
     "data": {
      "text/plain": [
       "['63447478-e734-41c7-bf9f-f314a18b7880',\n",
       " '15456d66-b0f7-458d-bb2d-a93040306a54',\n",
       " '615e61f7-1687-4e20-ab02-2583dff5e43c',\n",
       " '6955a72f-fec7-440e-ae7a-e632fdae9574',\n",
       " 'ca83dbc1-ea29-4585-8d8f-757b063f534f']"
      ]
     },
     "execution_count": 8,
     "metadata": {},
     "output_type": "execute_result"
    }
   ],
   "source": [
    "#Now adding the documents to vector database\n",
    "chroma.add_documents(documents)\n"
   ]
  },
  {
   "cell_type": "code",
   "execution_count": 9,
   "id": "d1e4a1fb",
   "metadata": {},
   "outputs": [
    {
     "data": {
      "text/plain": [
       "{'ids': ['63447478-e734-41c7-bf9f-f314a18b7880',\n",
       "  '15456d66-b0f7-458d-bb2d-a93040306a54',\n",
       "  '615e61f7-1687-4e20-ab02-2583dff5e43c',\n",
       "  '6955a72f-fec7-440e-ae7a-e632fdae9574',\n",
       "  'ca83dbc1-ea29-4585-8d8f-757b063f534f'],\n",
       " 'embeddings': array([[ 0.21147315, -0.12693517, -0.04423499,  0.10522371,  0.02577169,\n",
       "          0.06312568, -0.03609318, -0.04530346, -0.02159394, -0.03085764,\n",
       "          0.01772605,  0.05141516, -0.01458472, -0.07962298, -0.06551906,\n",
       "          0.01970273, -0.05372307,  0.15420273, -0.09445345, -0.14676613,\n",
       "          0.0188159 , -0.07192993, -0.11650683,  0.00033006, -0.03252447,\n",
       "          0.04466238, -0.0295541 , -0.09146171, -0.05624468, -0.08338401,\n",
       "          0.05197076,  0.07688767,  0.23916809, -0.12941405, -0.18155576,\n",
       "          0.07970845, -0.03596497, -0.13727804,  0.06410868, -0.05004751,\n",
       "          0.04645742, -0.01444582, -0.03357157, -0.09069241, -0.00969644,\n",
       "          0.04991929, -0.25728947, -0.13009787, -0.05727042,  0.02649825,\n",
       "          0.15317699, -0.08231554, -0.01988437,  0.08321306, -0.00865467,\n",
       "          0.04000381, -0.00137032, -0.0005496 , -0.0463292 , -0.08650398,\n",
       "         -0.04923546, -0.17283699, -0.04357253, -0.01233023,  0.09077788,\n",
       "         -0.16266508,  0.08124706, -0.07449428,  0.11009596, -0.00313064,\n",
       "         -0.06175802,  0.18104289, -0.01346282, -0.04607277, -0.06227089,\n",
       "         -0.00734579,  0.22138862,  0.0268829 , -0.05624468,  0.00797085,\n",
       "          0.05521894, -0.00128151, -0.09154719,  0.09154719,  0.00280475,\n",
       "         -0.15249316, -0.08889736, -0.17181125, -0.08299936,  0.04487607,\n",
       "          0.17104195,  0.11060883, -0.00730305,  0.06692946, -0.03521703,\n",
       "         -0.04590181,  0.11795996,  0.04838068, -0.01657209, -0.05444963,\n",
       "         -0.11795996,  0.08381141,  0.07586193, -0.09915475, -0.07175898,\n",
       "         -0.12223388, -0.07022037,  0.04624372, -0.04327336, -0.05697124,\n",
       "          0.03113545, -0.03361432, -0.04316651,  0.08680315,  0.00205415,\n",
       "         -0.03013108, -0.10949761, -0.04842342,  0.09727423, -0.13531205,\n",
       "         -0.08458071,  0.02778043, -0.08906832,  0.02222434, -0.0822728 ,\n",
       "         -0.07863998,  0.05778329, -0.04043121],\n",
       "        [ 0.05292594, -0.09979302, -0.05096572,  0.05657908, -0.08633879,\n",
       "         -0.00452187, -0.04962921, -0.04744624, -0.02811134,  0.00743993,\n",
       "          0.10558458,  0.05466341,  0.0482927 , -0.13739361, -0.06397445,\n",
       "          0.18693371, -0.00896021,  0.06112323, -0.09854561, -0.015782  ,\n",
       "         -0.01601589,  0.00580827, -0.01646139,  0.01464596,  0.02441365,\n",
       "          0.0266189 ,  0.01450117, -0.07021152, -0.08348756, -0.0339029 ,\n",
       "          0.09057108, -0.00582497,  0.26427332, -0.06134598, -0.1067429 ,\n",
       "          0.1553029 ,  0.06936506, -0.08682884,  0.0197804 , -0.087408  ,\n",
       "          0.04541919, -0.11093064, -0.13382958, -0.01186156, -0.01436752,\n",
       "          0.1267015 , -0.10398076, -0.02526011, -0.06544462, -0.02822271,\n",
       "          0.09186304, -0.00828082, -0.05181218, -0.00864836,  0.04954011,\n",
       "          0.03232136,  0.05114393,  0.13142385,  0.02276528,  0.00305449,\n",
       "          0.09435787, -0.05092117, -0.06958781, -0.01989178,  0.01737468,\n",
       "         -0.13694811,  0.10540638,  0.00218854,  0.02403497,  0.04486231,\n",
       "         -0.0392044 ,  0.12474128, -0.00316865, -0.1559266 , -0.15717401,\n",
       "          0.04363717,  0.0104805 ,  0.07315185, -0.19085416,  0.0539506 ,\n",
       "          0.00715035, -0.0092832 , -0.2243561 ,  0.04187743,  0.11217805,\n",
       "         -0.0367764 ,  0.03742239, -0.17927104, -0.05265864, -0.05608902,\n",
       "          0.03503893,  0.1071884 ,  0.1265233 ,  0.04078594,  0.07515662,\n",
       "          0.08379941,  0.09783281, -0.01350993, -0.11476198,  0.0633953 ,\n",
       "          0.07203809, -0.09498157,  0.06121233, -0.24734414, -0.00204097,\n",
       "         -0.01414477, -0.23647383,  0.08076998, -0.058272  , -0.12108814,\n",
       "         -0.06188058, -0.05372785, -0.00284009,  0.2434237 ,  0.01248527,\n",
       "         -0.03782334, -0.11396006, -0.07622583,  0.00877087, -0.04668888,\n",
       "         -0.06793945,  0.05029747,  0.02657435,  0.05292594,  0.06811765,\n",
       "         -0.08036903,  0.13587889,  0.01260778],\n",
       "        [-0.01086969, -0.10061273, -0.03970894, -0.03049378,  0.05629621,\n",
       "          0.08306205, -0.1564063 , -0.04536369, -0.13646805,  0.10689579,\n",
       "         -0.01161319,  0.13135783,  0.06768949, -0.04197084, -0.08427677,\n",
       "          0.05030636,  0.11778642, -0.0119064 , -0.21060815, -0.06580458,\n",
       "         -0.03422173,  0.04314367,  0.01682813, -0.09374325,  0.05420186,\n",
       "          0.00995865,  0.07133367,  0.0081418 , -0.11167091,  0.06358457,\n",
       "          0.13303332,  0.03732137,  0.1006965 , -0.14643718, -0.0667261 ,\n",
       "          0.05663131,  0.09181645, -0.08628735, -0.03459872, -0.16277313,\n",
       "          0.03309078,  0.05290336,  0.03476626,  0.02402223, -0.02927906,\n",
       "          0.11343017, -0.06957442,  0.00475156, -0.02823188,  0.0085502 ,\n",
       "          0.18061702,  0.01916333,  0.07330237,  0.07682088,  0.11552452,\n",
       "         -0.02075504,  0.14099187,  0.12574497,  0.01648256,  0.00104063,\n",
       "          0.05457884, -0.16252181,  0.13496011, -0.045992  ,  0.01993824,\n",
       "          0.00463637,  0.24210723, -0.05348978, -0.06169965,  0.07192009,\n",
       "         -0.10371237,  0.07342803, -0.09952366, -0.22954111, -0.13144161,\n",
       "          0.07346991,  0.15012324,  0.08239186, -0.11460301,  0.11636227,\n",
       "         -0.02089117, -0.01839889, -0.08494697,  0.0430599 ,  0.09793196,\n",
       "         -0.01959267,  0.02293317, -0.18044947,  0.06706119,  0.02684961,\n",
       "          0.04557313,  0.12105361,  0.14032167,  0.03168757,  0.02041994,\n",
       "          0.06312381,  0.05357356,  0.06241173, -0.02984453,  0.11284375,\n",
       "          0.09307306, -0.08075826,  0.03445211, -0.04925919, -0.00078407,\n",
       "         -0.08205676, -0.22367692,  0.00269648, -0.00740354, -0.05382488,\n",
       "         -0.05717584,  0.01840937, -0.02098542,  0.10513653,  0.07434954,\n",
       "          0.03696533, -0.05876755, -0.04787691,  0.04364632, -0.08821416,\n",
       "          0.08771151, -0.02714282,  0.07271595, -0.03547834,  0.02268185,\n",
       "         -0.1725747 ,  0.03378192,  0.07728163],\n",
       "        [-0.00560576, -0.14139278, -0.04999821, -0.06316978, -0.08382316,\n",
       "         -0.00157504, -0.01664367, -0.04699652, -0.14381205,  0.00172765,\n",
       "         -0.1277732 ,  0.00213506, -0.13288054, -0.06218415, -0.1282212 ,\n",
       "          0.03868589, -0.05958568,  0.05954088, -0.10958388, -0.0534031 ,\n",
       "          0.08216551, -0.01547884, -0.13458298,  0.04287481,  0.00534815,\n",
       "         -0.04202358,  0.09479947, -0.08772086, -0.05559836, -0.10770223,\n",
       "          0.06173614,  0.08458478,  0.12616035, -0.09730834, -0.01889493,\n",
       "          0.00986188,  0.01007468, -0.02374467, -0.02609673, -0.0069946 ,\n",
       "          0.05936167, -0.0781334 ,  0.0249095 , -0.01714768,  0.09417225,\n",
       "          0.13816708, -0.14417045, -0.1208738 , -0.04860937,  0.01600525,\n",
       "          0.14658973,  0.06240816,  0.07907423,  0.02425988,  0.01653166,\n",
       "          0.03263772,  0.06841152, -0.04515967,  0.05116304, -0.00553856,\n",
       "         -0.08619762, -0.17212644, -0.10779183, -0.07051718,  0.14936741,\n",
       "         -0.1279524 ,  0.20070964, -0.06576825,  0.14291602,  0.05004301,\n",
       "         -0.14336403,  0.18762767, -0.02804559, -0.14022794, -0.08669044,\n",
       "          0.08682484,  0.1953335 ,  0.02329666, -0.11961936,  0.02997204,\n",
       "          0.06814272,  0.03277212, -0.05143185, -0.04325562,  0.05851045,\n",
       "         -0.0603473 ,  0.09883158, -0.17364968,  0.02681355, -0.05138705,\n",
       "          0.10151965,  0.11325759, -0.0071178 ,  0.04114996,  0.08404716,\n",
       "         -0.08252392,  0.11979857, -0.0212582 , -0.05868965, -0.06536504,\n",
       "          0.01277956,  0.01871573, -0.08337515, -0.07033798, -0.05815203,\n",
       "         -0.17786101, -0.16970718,  0.12687717, -0.07938784, -0.03716265,\n",
       "         -0.04955019,  0.02638794,  0.06997957,  0.05815203,  0.02179581,\n",
       "          0.08140389, -0.08126949, -0.05550876, -0.03731945, -0.20787784,\n",
       "         -0.1312677 , -0.01022589, -0.03801387, -0.06612666, -0.0072746 ,\n",
       "         -0.06818752,  0.1316261 , -0.05362711],\n",
       "        [ 0.02417239, -0.0700766 , -0.03455018, -0.01274409,  0.02582775,\n",
       "          0.12487302, -0.06867591, -0.07797135, -0.1552636 , -0.0238965 ,\n",
       "          0.01812399,  0.03845512,  0.05742801, -0.17062867, -0.04681677,\n",
       "          0.01760404, -0.01150258,  0.02072374, -0.14745373, -0.09796292,\n",
       "         -0.12190187, -0.0494908 , -0.08862504,  0.05004258,  0.01535446,\n",
       "          0.0738542 ,  0.12241121,  0.00321255,  0.01463289, -0.11748759,\n",
       "          0.11859117,  0.06158761,  0.12198676, -0.00433204, -0.0998305 ,\n",
       "          0.13701227, -0.02463929, -0.05589999, -0.09134151, -0.00170576,\n",
       "          0.01178908, -0.10127363, -0.1393043 ,  0.03573864,  0.04282695,\n",
       "          0.0427845 , -0.07852314, -0.04834479, -0.0738542 , -0.09881182,\n",
       "          0.20577307,  0.02188037,  0.2173181 ,  0.06222428,  0.05764023,\n",
       "          0.09660469, -0.04800523,  0.01818766,  0.1417661 ,  0.09592557,\n",
       "         -0.12385434, -0.14448258, -0.07016149, -0.15254712,  0.04346362,\n",
       "         -0.05547554,  0.04974547,  0.0228566 ,  0.04257227,  0.12699527,\n",
       "         -0.13073042,  0.06409186,  0.03924035, -0.07054349, -0.10942306,\n",
       "          0.04813256,  0.07321753,  0.14329413, -0.02555186,  0.09176596,\n",
       "          0.05955025, -0.04102303, -0.09363354,  0.10687637,  0.08607834,\n",
       "         -0.14575593,  0.11434668, -0.20831977, -0.12767439, -0.11086619,\n",
       "          0.08421076,  0.02412995,  0.06561988, -0.05488131, -0.02440584,\n",
       "          0.0410867 ,  0.08242808, -0.02659176, -0.03255527,  0.11714804,\n",
       "          0.07631601, -0.02529719,  0.04482186, -0.13573892,  0.16748774,\n",
       "         -0.08153673, -0.16714817,  0.13378645, -0.10517856, -0.01408111,\n",
       "         -0.01259554, -0.01604419,  0.00417552,  0.02005523, -0.14295456,\n",
       "          0.06740256, -0.05016992, -0.04134137,  0.04558587, -0.08701213,\n",
       "         -0.02459684,  0.01574707, -0.02302638, -0.12614636,  0.01995973,\n",
       "         -0.08964372,  0.05025481, -0.08514455]]),\n",
       " 'documents': ['MS Dhoni, famously known as Captain Cool, has led Chennai Super Kings to multiple IPL titles. \\nHis finishing skills, wicketkeeping, and leadership are legendary.',\n",
       "  'Ravindra Jadeja is a dynamic all-rounder who contributes with both bat and ball. \\nRepresenting Chennai Super Kings, his quick fielding and match-winning performances make him a key player.',\n",
       "  'Jasprit Bumrah is considered one of the best fast bowlers in T20 cricket. \\nPlaying for Mumbai Indians, he is known for his yorkers and death-over expertise.',\n",
       "  \"Rohit Sharma is the most successful captain in IPL history, leading Mumbai Indians to five titles. \\nHe's known for his calm demeanor and ability to play big innings under pressure.\",\n",
       "  'Virat Kohli is one of the most successful and consistent batsmen in IPL history. \\nKnown for his aggressive batting style and fitness, he has led the Royal Challengers Bangalore in multiple seasons.'],\n",
       " 'uris': None,\n",
       " 'included': ['embeddings', 'metadatas', 'documents'],\n",
       " 'data': None,\n",
       " 'metadatas': [{'source': 'VectorStore\\\\textDocument\\\\CSK_dhoni.txt',\n",
       "   'team': 'CSK'},\n",
       "  {'team': 'CSK', 'source': 'VectorStore\\\\textDocument\\\\CSK_jadeja.txt'},\n",
       "  {'team': 'MI', 'source': 'VectorStore\\\\textDocument\\\\MI_bumrah.txt'},\n",
       "  {'source': 'VectorStore\\\\textDocument\\\\MI_rohit.txt', 'team': 'MI'},\n",
       "  {'source': 'VectorStore\\\\textDocument\\\\RCB_virat.txt', 'team': 'RCB'}]}"
      ]
     },
     "execution_count": 9,
     "metadata": {},
     "output_type": "execute_result"
    }
   ],
   "source": [
    "\n",
    "#if i want to show the documents from vector store database\n",
    "chroma.get(include=[\"embeddings\", \"metadatas\", \"documents\"])"
   ]
  },
  {
   "cell_type": "code",
   "execution_count": null,
   "id": "419a6d4b",
   "metadata": {},
   "outputs": [],
   "source": []
  },
  {
   "cell_type": "code",
   "execution_count": 10,
   "id": "a60b960b",
   "metadata": {},
   "outputs": [
    {
     "data": {
      "text/plain": [
       "[Document(id='615e61f7-1687-4e20-ab02-2583dff5e43c', metadata={'source': 'VectorStore\\\\textDocument\\\\MI_bumrah.txt', 'team': 'MI'}, page_content='Jasprit Bumrah is considered one of the best fast bowlers in T20 cricket. \\nPlaying for Mumbai Indians, he is known for his yorkers and death-over expertise.'),\n",
       " Document(id='15456d66-b0f7-458d-bb2d-a93040306a54', metadata={'source': 'VectorStore\\\\textDocument\\\\CSK_jadeja.txt', 'team': 'CSK'}, page_content='Ravindra Jadeja is a dynamic all-rounder who contributes with both bat and ball. \\nRepresenting Chennai Super Kings, his quick fielding and match-winning performances make him a key player.')]"
      ]
     },
     "execution_count": 10,
     "metadata": {},
     "output_type": "execute_result"
    }
   ],
   "source": [
    "#now doing semantic search in vector store database.\n",
    "chroma.similarity_search(query=\"who among these are bowler?\",k=2)"
   ]
  },
  {
   "cell_type": "code",
   "execution_count": 14,
   "id": "f83e997e",
   "metadata": {},
   "outputs": [
    {
     "data": {
      "text/plain": [
       "[(Document(id='615e61f7-1687-4e20-ab02-2583dff5e43c', metadata={'source': 'VectorStore\\\\textDocument\\\\MI_bumrah.txt', 'team': 'MI'}, page_content='Jasprit Bumrah is considered one of the best fast bowlers in T20 cricket. \\nPlaying for Mumbai Indians, he is known for his yorkers and death-over expertise.'),\n",
       "  0.8214887976646423),\n",
       " (Document(id='15456d66-b0f7-458d-bb2d-a93040306a54', metadata={'source': 'VectorStore\\\\textDocument\\\\CSK_jadeja.txt', 'team': 'CSK'}, page_content='Ravindra Jadeja is a dynamic all-rounder who contributes with both bat and ball. \\nRepresenting Chennai Super Kings, his quick fielding and match-winning performances make him a key player.'),\n",
       "  0.9553366899490356)]"
      ]
     },
     "execution_count": 14,
     "metadata": {},
     "output_type": "execute_result"
    }
   ],
   "source": [
    "#now doing semantic search and also want to see scores in vector store database.\n",
    "chroma.similarity_search_with_score(\n",
    "    query=\"who among these are a bowler?\",\n",
    "    k=2\n",
    "    \n",
    ")"
   ]
  },
  {
   "cell_type": "code",
   "execution_count": null,
   "id": "cd254934",
   "metadata": {},
   "outputs": [],
   "source": [
    "#now doing semantic search and also want to see scores in vector store database.\n",
    "chroma.similarity_search_with_score(\n",
    "    query=\"who among these are a bowler?\",\n",
    "    k=2\n",
    "    \n",
    ")"
   ]
  },
  {
   "cell_type": "code",
   "execution_count": 16,
   "id": "d25daeb6",
   "metadata": {},
   "outputs": [
    {
     "data": {
      "text/plain": [
       "[(Document(id='ca83dbc1-ea29-4585-8d8f-757b063f534f', metadata={'source': 'VectorStore\\\\textDocument\\\\RCB_virat.txt', 'team': 'RCB'}, page_content='Virat Kohli is one of the most successful and consistent batsmen in IPL history. \\nKnown for his aggressive batting style and fitness, he has led the Royal Challengers Bangalore in multiple seasons.'),\n",
       "  0.6539552211761475)]"
      ]
     },
     "execution_count": 16,
     "metadata": {},
     "output_type": "execute_result"
    }
   ],
   "source": [
    "#using metadata se we can filter the documents\n",
    "chroma.similarity_search_with_score(\n",
    "    query = \"who is the best batsman in IPL Team\",\n",
    "    k = 2,\n",
    "    filter={'team':'RCB'}\n",
    ")"
   ]
  },
  {
   "cell_type": "code",
   "execution_count": 19,
   "id": "5a8e47d4",
   "metadata": {},
   "outputs": [
    {
     "data": {
      "text/plain": [
       "[(Document(id='63447478-e734-41c7-bf9f-f314a18b7880', metadata={'team': 'CSK', 'source': 'VectorStore\\\\textDocument\\\\CSK_dhoni.txt'}, page_content='MS Dhoni, famously known as Captain Cool, has led Chennai Super Kings to multiple IPL titles. \\nHis finishing skills, wicketkeeping, and leadership are legendary.'),\n",
       "  1.671717643737793),\n",
       " (Document(id='15456d66-b0f7-458d-bb2d-a93040306a54', metadata={'team': 'CSK', 'source': 'VectorStore\\\\textDocument\\\\CSK_jadeja.txt'}, page_content='Ravindra Jadeja is a dynamic all-rounder who contributes with both bat and ball. \\nRepresenting Chennai Super Kings, his quick fielding and match-winning performances make him a key player.'),\n",
       "  1.7176929712295532)]"
      ]
     },
     "execution_count": 19,
     "metadata": {},
     "output_type": "execute_result"
    }
   ],
   "source": [
    "#using metadata se we can filter the documents\n",
    "chroma.similarity_search_with_score(\n",
    "    query = \"\",\n",
    "    k = 2,\n",
    "    filter={'team':'CSK'}\n",
    ")"
   ]
  },
  {
   "cell_type": "markdown",
   "id": "38a5493a",
   "metadata": {},
   "source": [
    "# how to update the vectors or document in vector store database"
   ]
  },
  {
   "cell_type": "code",
   "execution_count": 20,
   "id": "33a6fb02",
   "metadata": {},
   "outputs": [
    {
     "data": {
      "text/plain": [
       "Document(metadata={'team': 'RCB'}, page_content=\"Virat Kohli, the former captain of Royal Challengers Bangalore (RCB), is renowned for his aggressive leadership and consistent batting performances. He holds the record for the most runs in IPL history, including multiple centuries in a single season. Despite RCB not winning an IPL title under his captaincy, Kohli's passion and fitness set a benchmark for the league. His ability to chase targets and anchor innings has made him one of the most dependable players in T20 cricket.\")"
      ]
     },
     "execution_count": 20,
     "metadata": {},
     "output_type": "execute_result"
    }
   ],
   "source": [
    "# update documents\n",
    "from langchain.schema import Document\n",
    "updated_doc1 = Document(\n",
    "    page_content=\"Virat Kohli, the former captain of Royal Challengers Bangalore (RCB), is renowned for his aggressive leadership and consistent batting performances. He holds the record for the most runs in IPL history, including multiple centuries in a single season. Despite RCB not winning an IPL title under his captaincy, Kohli's passion and fitness set a benchmark for the league. His ability to chase targets and anchor innings has made him one of the most dependable players in T20 cricket.\",\n",
    "    metadata={\"team\": \"RCB\"}\n",
    ")\n",
    "updated_doc1\n"
   ]
  },
  {
   "cell_type": "code",
   "execution_count": 21,
   "id": "68487249",
   "metadata": {},
   "outputs": [],
   "source": [
    "chroma.update_document(\n",
    "    document_id='ca83dbc1-ea29-4585-8d8f-757b063f534f',\n",
    "    document=updated_doc1\n",
    "    \n",
    ")"
   ]
  },
  {
   "cell_type": "code",
   "execution_count": 22,
   "id": "6fa62aa1",
   "metadata": {},
   "outputs": [
    {
     "data": {
      "text/plain": [
       "{'ids': ['63447478-e734-41c7-bf9f-f314a18b7880',\n",
       "  '15456d66-b0f7-458d-bb2d-a93040306a54',\n",
       "  '615e61f7-1687-4e20-ab02-2583dff5e43c',\n",
       "  '6955a72f-fec7-440e-ae7a-e632fdae9574',\n",
       "  'ca83dbc1-ea29-4585-8d8f-757b063f534f'],\n",
       " 'embeddings': array([[ 2.11473152e-01, -1.26935169e-01, -4.42349873e-02,\n",
       "          1.05223708e-01,  2.57716868e-02,  6.31256774e-02,\n",
       "         -3.60931829e-02, -4.53034639e-02, -2.15939395e-02,\n",
       "         -3.08576412e-02,  1.77260488e-02,  5.14151566e-02,\n",
       "         -1.45847239e-02, -7.96229765e-02, -6.55190647e-02,\n",
       "          1.97027326e-02, -5.37230708e-02,  1.54202729e-01,\n",
       "         -9.44534466e-02, -1.46766126e-01,  1.88158955e-02,\n",
       "         -7.19299316e-02, -1.16506830e-01,  3.30059498e-04,\n",
       "         -3.25244665e-02,  4.46623750e-02, -2.95540988e-02,\n",
       "         -9.14617106e-02, -5.62446788e-02, -8.33840147e-02,\n",
       "          5.19707650e-02,  7.68876672e-02,  2.39168093e-01,\n",
       "         -1.29414052e-01, -1.81555763e-01,  7.97084495e-02,\n",
       "         -3.59649658e-02, -1.37278035e-01,  6.41086772e-02,\n",
       "         -5.00475056e-02,  4.64574210e-02, -1.44458218e-02,\n",
       "         -3.35715748e-02, -9.06924084e-02, -9.69643705e-03,\n",
       "          4.99192886e-02, -2.57289469e-01, -1.30097866e-01,\n",
       "         -5.72704151e-02,  2.64982525e-02,  1.53176993e-01,\n",
       "         -8.23155418e-02, -1.98843740e-02,  8.32130611e-02,\n",
       "         -8.65467079e-03,  4.00038138e-02, -1.37032289e-03,\n",
       "         -5.49598306e-04, -4.63292040e-02, -8.65039751e-02,\n",
       "         -4.92354631e-02, -1.72836989e-01, -4.35725302e-02,\n",
       "         -1.23302350e-02,  9.07778814e-02, -1.62665084e-01,\n",
       "          8.12470615e-02, -7.44942799e-02,  1.10095963e-01,\n",
       "         -3.13064037e-03, -6.17580228e-02,  1.81042895e-01,\n",
       "         -1.34628220e-02, -4.60727662e-02, -6.22708946e-02,\n",
       "         -7.34578585e-03,  2.21388623e-01,  2.68829037e-02,\n",
       "         -5.62446788e-02,  7.97084533e-03,  5.52189387e-02,\n",
       "         -1.28150568e-03, -9.15471911e-02,  9.15471911e-02,\n",
       "          2.80475453e-03, -1.52493164e-01, -8.88973624e-02,\n",
       "         -1.71811253e-01, -8.29993635e-02,  4.48760726e-02,\n",
       "          1.71041951e-01,  1.10608831e-01, -7.30304653e-03,\n",
       "          6.69294596e-02, -3.52170318e-02, -4.59018126e-02,\n",
       "          1.17959961e-01,  4.83806804e-02, -1.65720917e-02,\n",
       "         -5.44496328e-02, -1.17959961e-01,  8.38114098e-02,\n",
       "          7.58619308e-02, -9.91547480e-02, -7.17589781e-02,\n",
       "         -1.22233875e-01, -7.02203661e-02,  4.62437235e-02,\n",
       "         -4.32733558e-02, -5.69712408e-02,  3.11354473e-02,\n",
       "         -3.36143151e-02, -4.31665070e-02,  8.68031457e-02,\n",
       "          2.05414882e-03, -3.01310774e-02, -1.09497614e-01,\n",
       "         -4.84234206e-02,  9.72742289e-02, -1.35312051e-01,\n",
       "         -8.45807120e-02,  2.77804267e-02, -8.90683159e-02,\n",
       "          2.22243406e-02, -8.22727978e-02, -7.86399767e-02,\n",
       "          5.77832870e-02, -4.04312052e-02],\n",
       "        [ 5.29259443e-02, -9.97930244e-02, -5.09657227e-02,\n",
       "          5.65790795e-02, -8.63387883e-02, -4.52187145e-03,\n",
       "         -4.96292077e-02, -4.74462360e-02, -2.81113386e-02,\n",
       "          7.43992627e-03,  1.05584584e-01,  5.46634123e-02,\n",
       "          4.82926965e-02, -1.37393609e-01, -6.39744550e-02,\n",
       "          1.86933711e-01, -8.96021072e-03,  6.11232258e-02,\n",
       "         -9.85456109e-02, -1.57819986e-02, -1.60158891e-02,\n",
       "          5.80826588e-03, -1.64613929e-02,  1.46459630e-02,\n",
       "          2.44136509e-02,  2.66188979e-02,  1.45011740e-02,\n",
       "         -7.02115223e-02, -8.34875554e-02, -3.39028984e-02,\n",
       "          9.05710757e-02, -5.82497241e-03,  2.64273316e-01,\n",
       "         -6.13459796e-02, -1.06742896e-01,  1.55302897e-01,\n",
       "          6.93650618e-02, -8.68288428e-02,  1.97804030e-02,\n",
       "         -8.74079987e-02,  4.54191901e-02, -1.10930637e-01,\n",
       "         -1.33829579e-01, -1.18615590e-02, -1.43675227e-02,\n",
       "          1.26701504e-01, -1.03980765e-01, -2.52601095e-02,\n",
       "         -6.54446185e-02, -2.82227136e-02,  9.18630436e-02,\n",
       "         -8.28081649e-03, -5.18121794e-02, -8.64835735e-03,\n",
       "          4.95401062e-02,  3.23213562e-02,  5.11439256e-02,\n",
       "          1.31423846e-01,  2.27652825e-02,  3.05449078e-03,\n",
       "          9.43578705e-02, -5.09211719e-02, -6.95878118e-02,\n",
       "         -1.98917780e-02,  1.73746776e-02, -1.36948109e-01,\n",
       "          1.05406381e-01,  2.18854123e-03,  2.40349714e-02,\n",
       "          4.48623113e-02, -3.92044038e-02,  1.24741279e-01,\n",
       "         -3.16865114e-03, -1.55926600e-01, -1.57174006e-01,\n",
       "          4.36371714e-02,  1.04804952e-02,  7.31518492e-02,\n",
       "         -1.90854162e-01,  5.39506041e-02,  7.15034828e-03,\n",
       "         -9.28320177e-03, -2.24356100e-01,  4.18774299e-02,\n",
       "          1.12178050e-01, -3.67764011e-02,  3.74223851e-02,\n",
       "         -1.79271042e-01, -5.26586398e-02, -5.60890250e-02,\n",
       "          3.50389332e-02,  1.07188396e-01,  1.26523301e-01,\n",
       "          4.07859422e-02,  7.51566216e-02,  8.37994069e-02,\n",
       "          9.78328064e-02, -1.35099264e-02, -1.14761978e-01,\n",
       "          6.33952990e-02,  7.20380917e-02, -9.49815735e-02,\n",
       "          6.12123273e-02, -2.47344136e-01, -2.04096781e-03,\n",
       "         -1.41447699e-02, -2.36473829e-01,  8.07699785e-02,\n",
       "         -5.82719967e-02, -1.21088140e-01, -6.18805848e-02,\n",
       "         -5.37278503e-02, -2.84009171e-03,  2.43423700e-01,\n",
       "          1.24852657e-02, -3.78233381e-02, -1.13960065e-01,\n",
       "         -7.62258321e-02,  8.77087098e-03, -4.66888770e-02,\n",
       "         -6.79394454e-02,  5.02974652e-02,  2.65743472e-02,\n",
       "          5.29259443e-02,  6.81176484e-02, -8.03690255e-02,\n",
       "          1.35878891e-01,  1.26077794e-02],\n",
       "        [-1.08696930e-02, -1.00612730e-01, -3.97089384e-02,\n",
       "         -3.04937828e-02,  5.62962145e-02,  8.30620527e-02,\n",
       "         -1.56406298e-01, -4.53636907e-02, -1.36468053e-01,\n",
       "          1.06895790e-01, -1.16131883e-02,  1.31357834e-01,\n",
       "          6.76894933e-02, -4.19708379e-02, -8.42767730e-02,\n",
       "          5.03063649e-02,  1.17786422e-01, -1.19063985e-02,\n",
       "         -2.10608155e-01, -6.58045784e-02, -3.42217311e-02,\n",
       "          4.31436747e-02,  1.68281291e-02, -9.37432498e-02,\n",
       "          5.42018600e-02,  9.95864999e-03,  7.13336691e-02,\n",
       "          8.14179797e-03, -1.11670911e-01,  6.35845661e-02,\n",
       "          1.33033320e-01,  3.73213738e-02,  1.00696504e-01,\n",
       "         -1.46437183e-01, -6.67260960e-02,  5.66313118e-02,\n",
       "          9.18164477e-02, -8.62873495e-02, -3.45987156e-02,\n",
       "         -1.62773132e-01,  3.30907814e-02,  5.29033616e-02,\n",
       "          3.47662643e-02,  2.40222309e-02, -2.92790588e-02,\n",
       "          1.13430172e-01, -6.95744157e-02,  4.75156400e-03,\n",
       "         -2.82318816e-02,  8.55019689e-03,  1.80617020e-01,\n",
       "          1.91633329e-02,  7.33023658e-02,  7.68208802e-02,\n",
       "          1.15524523e-01, -2.07550414e-02,  1.40991867e-01,\n",
       "          1.25744969e-01,  1.64825600e-02,  1.04063179e-03,\n",
       "          5.45788445e-02, -1.62521809e-01,  1.34960115e-01,\n",
       "         -4.59919982e-02,  1.99382436e-02,  4.63637430e-03,\n",
       "          2.42107227e-01, -5.34897819e-02, -6.16996475e-02,\n",
       "          7.19200894e-02, -1.03712372e-01,  7.34280273e-02,\n",
       "         -9.95236635e-02, -2.29541108e-01, -1.31441608e-01,\n",
       "          7.34699145e-02,  1.50123239e-01,  8.23918581e-02,\n",
       "         -1.14603005e-01,  1.16362266e-01, -2.08911728e-02,\n",
       "         -1.83988940e-02, -8.49469677e-02,  4.30599041e-02,\n",
       "          9.79319587e-02, -1.95926744e-02,  2.29331683e-02,\n",
       "         -1.80449471e-01,  6.70611933e-02,  2.68496089e-02,\n",
       "          4.55731265e-02,  1.21053614e-01,  1.40321672e-01,\n",
       "          3.16875651e-02,  2.04199441e-02,  6.31238073e-02,\n",
       "          5.35735562e-02,  6.24117255e-02, -2.98445337e-02,\n",
       "          1.12843752e-01,  9.30730551e-02, -8.07582587e-02,\n",
       "          3.44521105e-02, -4.92591895e-02, -7.84073491e-04,\n",
       "         -8.20567608e-02, -2.23676920e-01,  2.69647967e-03,\n",
       "         -7.40353856e-03, -5.38248792e-02, -5.71758449e-02,\n",
       "          1.84093658e-02, -2.09854189e-02,  1.05136529e-01,\n",
       "          7.43495375e-02,  3.69653329e-02, -5.87675534e-02,\n",
       "         -4.78769131e-02,  4.36463207e-02, -8.82141590e-02,\n",
       "          8.77115130e-02, -2.71428172e-02,  7.27159455e-02,\n",
       "         -3.54783423e-02,  2.26818454e-02, -1.72574699e-01,\n",
       "          3.37819159e-02,  7.72816315e-02],\n",
       "        [-5.60575770e-03, -1.41392782e-01, -4.99982052e-02,\n",
       "         -6.31697774e-02, -8.38231593e-02, -1.57504436e-03,\n",
       "         -1.66436676e-02, -4.69965227e-02, -1.43812045e-01,\n",
       "          1.72764855e-03, -1.27773196e-01,  2.13506003e-03,\n",
       "         -1.32880539e-01, -6.21841475e-02, -1.28221199e-01,\n",
       "          3.86858881e-02, -5.95856756e-02,  5.95408753e-02,\n",
       "         -1.09583884e-01, -5.34031019e-02,  8.21655095e-02,\n",
       "         -1.54788354e-02, -1.34582981e-01,  4.28748056e-02,\n",
       "          5.34815062e-03, -4.20235805e-02,  9.47994664e-02,\n",
       "         -8.77208635e-02, -5.55983633e-02, -1.07702225e-01,\n",
       "          6.17361367e-02,  8.45847800e-02,  1.26160353e-01,\n",
       "         -9.73083377e-02, -1.88949313e-02,  9.86187719e-03,\n",
       "          1.00746835e-02, -2.37446669e-02, -2.60967333e-02,\n",
       "         -6.99459668e-03,  5.93616702e-02, -7.81333968e-02,\n",
       "          2.49095000e-02, -1.71476826e-02,  9.41722468e-02,\n",
       "          1.38167083e-01, -1.44170448e-01, -1.20873801e-01,\n",
       "         -4.86093685e-02,  1.60052497e-02,  1.46589726e-01,\n",
       "          6.24081567e-02,  7.90742263e-02,  2.42598820e-02,\n",
       "          1.65316649e-02,  3.26377191e-02,  6.84115216e-02,\n",
       "         -4.51596715e-02,  5.11630401e-02, -5.53855579e-03,\n",
       "         -8.61976221e-02, -1.72126442e-01, -1.07791834e-01,\n",
       "         -7.05171824e-02,  1.49367407e-01, -1.27952397e-01,\n",
       "          2.00709641e-01, -6.57682493e-02,  1.42916024e-01,\n",
       "          5.00430092e-02, -1.43364027e-01,  1.87627673e-01,\n",
       "         -2.80455891e-02, -1.40227944e-01, -8.66904408e-02,\n",
       "          8.68248418e-02,  1.95333496e-01,  2.32966561e-02,\n",
       "         -1.19619362e-01,  2.99720429e-02,  6.81427196e-02,\n",
       "          3.27721201e-02, -5.14318459e-02, -4.32556160e-02,\n",
       "          5.85104451e-02, -6.03472963e-02,  9.88315791e-02,\n",
       "         -1.73649684e-01,  2.68135536e-02, -5.13870455e-02,\n",
       "          1.01519652e-01,  1.13257587e-01, -7.11780041e-03,\n",
       "          4.11499590e-02,  8.40471610e-02, -8.25239196e-02,\n",
       "          1.19798571e-01, -2.12581977e-02, -5.86896501e-02,\n",
       "         -6.53650388e-02,  1.27795590e-02,  1.87157262e-02,\n",
       "         -8.33751485e-02, -7.03379810e-02, -5.81520349e-02,\n",
       "         -1.77861005e-01, -1.69707179e-01,  1.26877174e-01,\n",
       "         -7.93878362e-02, -3.71626467e-02, -4.95501943e-02,\n",
       "          2.63879430e-02,  6.99795708e-02,  5.81520349e-02,\n",
       "          2.17958130e-02,  8.14038888e-02, -8.12694877e-02,\n",
       "         -5.55087626e-02, -3.73194478e-02, -2.07877845e-01,\n",
       "         -1.31267697e-01, -1.02258874e-02, -3.80138680e-02,\n",
       "         -6.61266595e-02, -7.27460440e-03, -6.81875199e-02,\n",
       "          1.31626099e-01, -5.36271073e-02],\n",
       "        [ 5.67238592e-02, -1.51263624e-01, -2.28416771e-02,\n",
       "          3.50123160e-02, -6.14617169e-02,  6.25918433e-02,\n",
       "         -4.58572209e-02, -1.11535192e-01, -1.78560629e-01,\n",
       "         -7.50232860e-02, -5.68107925e-02, -1.92556866e-02,\n",
       "         -2.76881997e-02, -1.12056792e-01,  1.28009021e-02,\n",
       "          1.44091649e-02,  1.65390261e-02,  1.00625083e-02,\n",
       "         -1.63173467e-01, -1.35789528e-01, -3.25129852e-02,\n",
       "         -1.51046300e-02, -1.52784958e-02,  8.95411149e-02,\n",
       "         -5.35508022e-02,  9.44963023e-02,  1.46482304e-01,\n",
       "         -3.58599126e-02, -2.43412741e-02, -1.34833276e-01,\n",
       "          1.35963395e-01,  3.90112363e-02,  9.78866965e-02,\n",
       "         -6.96334317e-02, -9.66696292e-02,  8.78459215e-02,\n",
       "         -2.65580676e-02, -8.89325812e-02, -1.04058944e-01,\n",
       "         -7.07961619e-03,  9.73650906e-03, -4.67700176e-02,\n",
       "         -9.24968421e-02,  1.42539750e-04,  3.74899083e-03,\n",
       "          4.53790873e-02, -1.21445566e-01, -5.83321229e-02,\n",
       "         -1.29704222e-01, -1.37180462e-01,  1.48394838e-01,\n",
       "         -2.25591455e-02,  5.81147894e-02,  6.00707866e-02,\n",
       "          1.11274391e-01,  3.95980366e-02, -1.04795163e-03,\n",
       "          3.60989794e-02,  1.24835961e-01,  5.75931929e-02,\n",
       "         -8.94541815e-02, -1.45352170e-01, -1.04580544e-01,\n",
       "         -9.98861566e-02,  1.17251044e-02, -5.76366596e-02,\n",
       "          3.78593728e-02, -3.86580708e-03,  6.22441135e-02,\n",
       "          9.51048359e-02, -1.14403985e-01,  8.99757817e-02,\n",
       "          9.31923017e-02, -6.01577200e-02, -1.45873770e-01,\n",
       "         -1.36702331e-02,  1.34485543e-01,  1.21619433e-01,\n",
       "         -5.17252050e-02,  7.12851584e-02,  7.96742067e-02,\n",
       "         -8.53710400e-04, -1.07536271e-01,  1.05102144e-01,\n",
       "          2.86879297e-02, -1.65781453e-01,  9.82344225e-02,\n",
       "         -1.96121112e-01, -8.01523402e-02, -1.11100525e-01,\n",
       "          7.83702061e-02,  1.35963395e-01,  9.97014251e-03,\n",
       "         -1.30399680e-02, -7.94134066e-02,  6.60691690e-03,\n",
       "          9.73650962e-02, -6.38089105e-02, -6.28526434e-02,\n",
       "          7.87614062e-02,  3.46645825e-02, -6.75904974e-02,\n",
       "          1.29095679e-02, -1.46395370e-01,  1.30138874e-01,\n",
       "         -5.62457293e-02, -1.17794380e-01,  1.38745263e-01,\n",
       "         -1.65259868e-01, -3.11220568e-02, -4.17930968e-02,\n",
       "          2.04971991e-03, -2.07552817e-02,  6.41566440e-02,\n",
       "         -1.65086001e-01,  1.53328292e-02, -1.55784145e-01,\n",
       "         -6.73297048e-02,  5.78105263e-02, -1.28313288e-01,\n",
       "         -1.13099992e-01,  8.65527894e-03, -4.30536270e-02,\n",
       "         -1.66129187e-01, -5.74845262e-03, -6.76774308e-02,\n",
       "          1.44200316e-02, -6.69819713e-02]]),\n",
       " 'documents': ['MS Dhoni, famously known as Captain Cool, has led Chennai Super Kings to multiple IPL titles. \\nHis finishing skills, wicketkeeping, and leadership are legendary.',\n",
       "  'Ravindra Jadeja is a dynamic all-rounder who contributes with both bat and ball. \\nRepresenting Chennai Super Kings, his quick fielding and match-winning performances make him a key player.',\n",
       "  'Jasprit Bumrah is considered one of the best fast bowlers in T20 cricket. \\nPlaying for Mumbai Indians, he is known for his yorkers and death-over expertise.',\n",
       "  \"Rohit Sharma is the most successful captain in IPL history, leading Mumbai Indians to five titles. \\nHe's known for his calm demeanor and ability to play big innings under pressure.\",\n",
       "  \"Virat Kohli, the former captain of Royal Challengers Bangalore (RCB), is renowned for his aggressive leadership and consistent batting performances. He holds the record for the most runs in IPL history, including multiple centuries in a single season. Despite RCB not winning an IPL title under his captaincy, Kohli's passion and fitness set a benchmark for the league. His ability to chase targets and anchor innings has made him one of the most dependable players in T20 cricket.\"],\n",
       " 'uris': None,\n",
       " 'included': ['embeddings', 'documents', 'metadatas'],\n",
       " 'data': None,\n",
       " 'metadatas': [{'team': 'CSK',\n",
       "   'source': 'VectorStore\\\\textDocument\\\\CSK_dhoni.txt'},\n",
       "  {'source': 'VectorStore\\\\textDocument\\\\CSK_jadeja.txt', 'team': 'CSK'},\n",
       "  {'source': 'VectorStore\\\\textDocument\\\\MI_bumrah.txt', 'team': 'MI'},\n",
       "  {'source': 'VectorStore\\\\textDocument\\\\MI_rohit.txt', 'team': 'MI'},\n",
       "  {'team': 'RCB', 'source': 'VectorStore\\\\textDocument\\\\RCB_virat.txt'}]}"
      ]
     },
     "execution_count": 22,
     "metadata": {},
     "output_type": "execute_result"
    }
   ],
   "source": [
    "# view documents\n",
    "chroma.get(include=['embeddings','documents', 'metadatas'])"
   ]
  },
  {
   "cell_type": "code",
   "execution_count": null,
   "id": "ded84ddc",
   "metadata": {},
   "outputs": [],
   "source": []
  },
  {
   "cell_type": "markdown",
   "id": "b3a2fc36",
   "metadata": {},
   "source": [
    "# to delete the vector in vector store database"
   ]
  },
  {
   "cell_type": "code",
   "execution_count": 23,
   "id": "a6aedce7",
   "metadata": {},
   "outputs": [],
   "source": [
    "chroma.delete(\n",
    "    ids ='ca83dbc1-ea29-4585-8d8f-757b063f534f'\n",
    "    \n",
    ")"
   ]
  },
  {
   "cell_type": "code",
   "execution_count": 24,
   "id": "102bb9a9",
   "metadata": {},
   "outputs": [
    {
     "data": {
      "text/plain": [
       "{'ids': ['63447478-e734-41c7-bf9f-f314a18b7880',\n",
       "  '15456d66-b0f7-458d-bb2d-a93040306a54',\n",
       "  '615e61f7-1687-4e20-ab02-2583dff5e43c',\n",
       "  '6955a72f-fec7-440e-ae7a-e632fdae9574'],\n",
       " 'embeddings': array([[ 0.21147315, -0.12693517, -0.04423499,  0.10522371,  0.02577169,\n",
       "          0.06312568, -0.03609318, -0.04530346, -0.02159394, -0.03085764,\n",
       "          0.01772605,  0.05141516, -0.01458472, -0.07962298, -0.06551906,\n",
       "          0.01970273, -0.05372307,  0.15420273, -0.09445345, -0.14676613,\n",
       "          0.0188159 , -0.07192993, -0.11650683,  0.00033006, -0.03252447,\n",
       "          0.04466238, -0.0295541 , -0.09146171, -0.05624468, -0.08338401,\n",
       "          0.05197076,  0.07688767,  0.23916809, -0.12941405, -0.18155576,\n",
       "          0.07970845, -0.03596497, -0.13727804,  0.06410868, -0.05004751,\n",
       "          0.04645742, -0.01444582, -0.03357157, -0.09069241, -0.00969644,\n",
       "          0.04991929, -0.25728947, -0.13009787, -0.05727042,  0.02649825,\n",
       "          0.15317699, -0.08231554, -0.01988437,  0.08321306, -0.00865467,\n",
       "          0.04000381, -0.00137032, -0.0005496 , -0.0463292 , -0.08650398,\n",
       "         -0.04923546, -0.17283699, -0.04357253, -0.01233023,  0.09077788,\n",
       "         -0.16266508,  0.08124706, -0.07449428,  0.11009596, -0.00313064,\n",
       "         -0.06175802,  0.18104289, -0.01346282, -0.04607277, -0.06227089,\n",
       "         -0.00734579,  0.22138862,  0.0268829 , -0.05624468,  0.00797085,\n",
       "          0.05521894, -0.00128151, -0.09154719,  0.09154719,  0.00280475,\n",
       "         -0.15249316, -0.08889736, -0.17181125, -0.08299936,  0.04487607,\n",
       "          0.17104195,  0.11060883, -0.00730305,  0.06692946, -0.03521703,\n",
       "         -0.04590181,  0.11795996,  0.04838068, -0.01657209, -0.05444963,\n",
       "         -0.11795996,  0.08381141,  0.07586193, -0.09915475, -0.07175898,\n",
       "         -0.12223388, -0.07022037,  0.04624372, -0.04327336, -0.05697124,\n",
       "          0.03113545, -0.03361432, -0.04316651,  0.08680315,  0.00205415,\n",
       "         -0.03013108, -0.10949761, -0.04842342,  0.09727423, -0.13531205,\n",
       "         -0.08458071,  0.02778043, -0.08906832,  0.02222434, -0.0822728 ,\n",
       "         -0.07863998,  0.05778329, -0.04043121],\n",
       "        [ 0.05292594, -0.09979302, -0.05096572,  0.05657908, -0.08633879,\n",
       "         -0.00452187, -0.04962921, -0.04744624, -0.02811134,  0.00743993,\n",
       "          0.10558458,  0.05466341,  0.0482927 , -0.13739361, -0.06397445,\n",
       "          0.18693371, -0.00896021,  0.06112323, -0.09854561, -0.015782  ,\n",
       "         -0.01601589,  0.00580827, -0.01646139,  0.01464596,  0.02441365,\n",
       "          0.0266189 ,  0.01450117, -0.07021152, -0.08348756, -0.0339029 ,\n",
       "          0.09057108, -0.00582497,  0.26427332, -0.06134598, -0.1067429 ,\n",
       "          0.1553029 ,  0.06936506, -0.08682884,  0.0197804 , -0.087408  ,\n",
       "          0.04541919, -0.11093064, -0.13382958, -0.01186156, -0.01436752,\n",
       "          0.1267015 , -0.10398076, -0.02526011, -0.06544462, -0.02822271,\n",
       "          0.09186304, -0.00828082, -0.05181218, -0.00864836,  0.04954011,\n",
       "          0.03232136,  0.05114393,  0.13142385,  0.02276528,  0.00305449,\n",
       "          0.09435787, -0.05092117, -0.06958781, -0.01989178,  0.01737468,\n",
       "         -0.13694811,  0.10540638,  0.00218854,  0.02403497,  0.04486231,\n",
       "         -0.0392044 ,  0.12474128, -0.00316865, -0.1559266 , -0.15717401,\n",
       "          0.04363717,  0.0104805 ,  0.07315185, -0.19085416,  0.0539506 ,\n",
       "          0.00715035, -0.0092832 , -0.2243561 ,  0.04187743,  0.11217805,\n",
       "         -0.0367764 ,  0.03742239, -0.17927104, -0.05265864, -0.05608902,\n",
       "          0.03503893,  0.1071884 ,  0.1265233 ,  0.04078594,  0.07515662,\n",
       "          0.08379941,  0.09783281, -0.01350993, -0.11476198,  0.0633953 ,\n",
       "          0.07203809, -0.09498157,  0.06121233, -0.24734414, -0.00204097,\n",
       "         -0.01414477, -0.23647383,  0.08076998, -0.058272  , -0.12108814,\n",
       "         -0.06188058, -0.05372785, -0.00284009,  0.2434237 ,  0.01248527,\n",
       "         -0.03782334, -0.11396006, -0.07622583,  0.00877087, -0.04668888,\n",
       "         -0.06793945,  0.05029747,  0.02657435,  0.05292594,  0.06811765,\n",
       "         -0.08036903,  0.13587889,  0.01260778],\n",
       "        [-0.01086969, -0.10061273, -0.03970894, -0.03049378,  0.05629621,\n",
       "          0.08306205, -0.1564063 , -0.04536369, -0.13646805,  0.10689579,\n",
       "         -0.01161319,  0.13135783,  0.06768949, -0.04197084, -0.08427677,\n",
       "          0.05030636,  0.11778642, -0.0119064 , -0.21060815, -0.06580458,\n",
       "         -0.03422173,  0.04314367,  0.01682813, -0.09374325,  0.05420186,\n",
       "          0.00995865,  0.07133367,  0.0081418 , -0.11167091,  0.06358457,\n",
       "          0.13303332,  0.03732137,  0.1006965 , -0.14643718, -0.0667261 ,\n",
       "          0.05663131,  0.09181645, -0.08628735, -0.03459872, -0.16277313,\n",
       "          0.03309078,  0.05290336,  0.03476626,  0.02402223, -0.02927906,\n",
       "          0.11343017, -0.06957442,  0.00475156, -0.02823188,  0.0085502 ,\n",
       "          0.18061702,  0.01916333,  0.07330237,  0.07682088,  0.11552452,\n",
       "         -0.02075504,  0.14099187,  0.12574497,  0.01648256,  0.00104063,\n",
       "          0.05457884, -0.16252181,  0.13496011, -0.045992  ,  0.01993824,\n",
       "          0.00463637,  0.24210723, -0.05348978, -0.06169965,  0.07192009,\n",
       "         -0.10371237,  0.07342803, -0.09952366, -0.22954111, -0.13144161,\n",
       "          0.07346991,  0.15012324,  0.08239186, -0.11460301,  0.11636227,\n",
       "         -0.02089117, -0.01839889, -0.08494697,  0.0430599 ,  0.09793196,\n",
       "         -0.01959267,  0.02293317, -0.18044947,  0.06706119,  0.02684961,\n",
       "          0.04557313,  0.12105361,  0.14032167,  0.03168757,  0.02041994,\n",
       "          0.06312381,  0.05357356,  0.06241173, -0.02984453,  0.11284375,\n",
       "          0.09307306, -0.08075826,  0.03445211, -0.04925919, -0.00078407,\n",
       "         -0.08205676, -0.22367692,  0.00269648, -0.00740354, -0.05382488,\n",
       "         -0.05717584,  0.01840937, -0.02098542,  0.10513653,  0.07434954,\n",
       "          0.03696533, -0.05876755, -0.04787691,  0.04364632, -0.08821416,\n",
       "          0.08771151, -0.02714282,  0.07271595, -0.03547834,  0.02268185,\n",
       "         -0.1725747 ,  0.03378192,  0.07728163],\n",
       "        [-0.00560576, -0.14139278, -0.04999821, -0.06316978, -0.08382316,\n",
       "         -0.00157504, -0.01664367, -0.04699652, -0.14381205,  0.00172765,\n",
       "         -0.1277732 ,  0.00213506, -0.13288054, -0.06218415, -0.1282212 ,\n",
       "          0.03868589, -0.05958568,  0.05954088, -0.10958388, -0.0534031 ,\n",
       "          0.08216551, -0.01547884, -0.13458298,  0.04287481,  0.00534815,\n",
       "         -0.04202358,  0.09479947, -0.08772086, -0.05559836, -0.10770223,\n",
       "          0.06173614,  0.08458478,  0.12616035, -0.09730834, -0.01889493,\n",
       "          0.00986188,  0.01007468, -0.02374467, -0.02609673, -0.0069946 ,\n",
       "          0.05936167, -0.0781334 ,  0.0249095 , -0.01714768,  0.09417225,\n",
       "          0.13816708, -0.14417045, -0.1208738 , -0.04860937,  0.01600525,\n",
       "          0.14658973,  0.06240816,  0.07907423,  0.02425988,  0.01653166,\n",
       "          0.03263772,  0.06841152, -0.04515967,  0.05116304, -0.00553856,\n",
       "         -0.08619762, -0.17212644, -0.10779183, -0.07051718,  0.14936741,\n",
       "         -0.1279524 ,  0.20070964, -0.06576825,  0.14291602,  0.05004301,\n",
       "         -0.14336403,  0.18762767, -0.02804559, -0.14022794, -0.08669044,\n",
       "          0.08682484,  0.1953335 ,  0.02329666, -0.11961936,  0.02997204,\n",
       "          0.06814272,  0.03277212, -0.05143185, -0.04325562,  0.05851045,\n",
       "         -0.0603473 ,  0.09883158, -0.17364968,  0.02681355, -0.05138705,\n",
       "          0.10151965,  0.11325759, -0.0071178 ,  0.04114996,  0.08404716,\n",
       "         -0.08252392,  0.11979857, -0.0212582 , -0.05868965, -0.06536504,\n",
       "          0.01277956,  0.01871573, -0.08337515, -0.07033798, -0.05815203,\n",
       "         -0.17786101, -0.16970718,  0.12687717, -0.07938784, -0.03716265,\n",
       "         -0.04955019,  0.02638794,  0.06997957,  0.05815203,  0.02179581,\n",
       "          0.08140389, -0.08126949, -0.05550876, -0.03731945, -0.20787784,\n",
       "         -0.1312677 , -0.01022589, -0.03801387, -0.06612666, -0.0072746 ,\n",
       "         -0.06818752,  0.1316261 , -0.05362711]]),\n",
       " 'documents': ['MS Dhoni, famously known as Captain Cool, has led Chennai Super Kings to multiple IPL titles. \\nHis finishing skills, wicketkeeping, and leadership are legendary.',\n",
       "  'Ravindra Jadeja is a dynamic all-rounder who contributes with both bat and ball. \\nRepresenting Chennai Super Kings, his quick fielding and match-winning performances make him a key player.',\n",
       "  'Jasprit Bumrah is considered one of the best fast bowlers in T20 cricket. \\nPlaying for Mumbai Indians, he is known for his yorkers and death-over expertise.',\n",
       "  \"Rohit Sharma is the most successful captain in IPL history, leading Mumbai Indians to five titles. \\nHe's known for his calm demeanor and ability to play big innings under pressure.\"],\n",
       " 'uris': None,\n",
       " 'included': ['embeddings', 'documents', 'metadatas'],\n",
       " 'data': None,\n",
       " 'metadatas': [{'team': 'CSK',\n",
       "   'source': 'VectorStore\\\\textDocument\\\\CSK_dhoni.txt'},\n",
       "  {'team': 'CSK', 'source': 'VectorStore\\\\textDocument\\\\CSK_jadeja.txt'},\n",
       "  {'team': 'MI', 'source': 'VectorStore\\\\textDocument\\\\MI_bumrah.txt'},\n",
       "  {'team': 'MI', 'source': 'VectorStore\\\\textDocument\\\\MI_rohit.txt'}]}"
      ]
     },
     "execution_count": 24,
     "metadata": {},
     "output_type": "execute_result"
    }
   ],
   "source": [
    "# view documents\n",
    "chroma.get(include=['embeddings','documents', 'metadatas'])"
   ]
  }
 ],
 "metadata": {
  "kernelspec": {
   "display_name": "hf-gpu",
   "language": "python",
   "name": "python3"
  },
  "language_info": {
   "codemirror_mode": {
    "name": "ipython",
    "version": 3
   },
   "file_extension": ".py",
   "mimetype": "text/x-python",
   "name": "python",
   "nbconvert_exporter": "python",
   "pygments_lexer": "ipython3",
   "version": "3.10.18"
  }
 },
 "nbformat": 4,
 "nbformat_minor": 5
}
