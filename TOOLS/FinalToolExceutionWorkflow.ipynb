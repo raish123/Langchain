{
 "cells": [
  {
   "cell_type": "code",
   "execution_count": 1,
   "id": "b95e27e2",
   "metadata": {},
   "outputs": [
    {
     "data": {
      "text/plain": [
       "True"
      ]
     },
     "execution_count": 1,
     "metadata": {},
     "output_type": "execute_result"
    }
   ],
   "source": [
    "import requests\n",
    "from langchain_core.messages import HumanMessage,AIMessage,SystemMessage\n",
    "from langchain_openai import ChatOpenAI\n",
    "from dotenv import load_dotenv\n",
    "\n",
    "load_dotenv()"
   ]
  },
  {
   "cell_type": "code",
   "execution_count": 2,
   "id": "478297d5",
   "metadata": {},
   "outputs": [
    {
     "data": {
      "text/plain": [
       "ChatOpenAI(client=<openai.resources.chat.completions.completions.Completions object at 0x0000023713820D30>, async_client=<openai.resources.chat.completions.completions.AsyncCompletions object at 0x000002371678BD30>, root_client=<openai.OpenAI object at 0x0000023713821030>, root_async_client=<openai.AsyncOpenAI object at 0x000002371678BCA0>, model_kwargs={}, openai_api_key=SecretStr('**********'))"
      ]
     },
     "execution_count": 2,
     "metadata": {},
     "output_type": "execute_result"
    }
   ],
   "source": [
    "#creating an model object\n",
    "model = ChatOpenAI()\n",
    "model"
   ]
  },
  {
   "cell_type": "markdown",
   "id": "84632d37",
   "metadata": {},
   "source": [
    "# step:1 creating tools"
   ]
  },
  {
   "cell_type": "code",
   "execution_count": 3,
   "id": "33449a74",
   "metadata": {},
   "outputs": [],
   "source": [
    "from langchain_core.tools import tool\n",
    "#tools in langchain is nothing but user defined function.\n",
    "\n",
    "@tool\n",
    "def multiplication(a:int,b:int) ->int:\n",
    "    \"\"\"Given 2 number a and b this tool will returns their product\"\"\"\n",
    "    return a*b"
   ]
  },
  {
   "cell_type": "code",
   "execution_count": null,
   "id": "12376a11",
   "metadata": {},
   "outputs": [],
   "source": []
  },
  {
   "cell_type": "markdown",
   "id": "c413bdcc",
   "metadata": {},
   "source": [
    "# step:2 binding tool with llm"
   ]
  },
  {
   "cell_type": "code",
   "execution_count": 4,
   "id": "631d314f",
   "metadata": {},
   "outputs": [
    {
     "data": {
      "text/plain": [
       "RunnableBinding(bound=ChatOpenAI(client=<openai.resources.chat.completions.completions.Completions object at 0x0000023713820D30>, async_client=<openai.resources.chat.completions.completions.AsyncCompletions object at 0x000002371678BD30>, root_client=<openai.OpenAI object at 0x0000023713821030>, root_async_client=<openai.AsyncOpenAI object at 0x000002371678BCA0>, model_kwargs={}, openai_api_key=SecretStr('**********')), kwargs={'tools': [{'type': 'function', 'function': {'name': 'multiplication', 'description': 'Given 2 number a and b this tool will returns their product', 'parameters': {'properties': {'a': {'type': 'integer'}, 'b': {'type': 'integer'}}, 'required': ['a', 'b'], 'type': 'object'}}}]}, config={}, config_factories=[])"
      ]
     },
     "execution_count": 4,
     "metadata": {},
     "output_type": "execute_result"
    }
   ],
   "source": [
    "#wrapping the tools with LLM\n",
    "bind_tool = model.bind_tools([multiplication])\n",
    "bind_tool"
   ]
  },
  {
   "cell_type": "code",
   "execution_count": 6,
   "id": "0d0ff6f9",
   "metadata": {},
   "outputs": [
    {
     "data": {
      "text/plain": [
       "[HumanMessage(content='can you multiply 2 with 10', additional_kwargs={}, response_metadata={})]"
      ]
     },
     "execution_count": 6,
     "metadata": {},
     "output_type": "execute_result"
    }
   ],
   "source": [
    "query = [HumanMessage(content=\"can you multiply 2 with 10\")]\n",
    "query"
   ]
  },
  {
   "cell_type": "markdown",
   "id": "bf05b8f3",
   "metadata": {},
   "source": [
    "# step:3 now passing the query to bind llm model"
   ]
  },
  {
   "cell_type": "code",
   "execution_count": 7,
   "id": "d538aad0",
   "metadata": {},
   "outputs": [
    {
     "data": {
      "text/plain": [
       "AIMessage(content='', additional_kwargs={'tool_calls': [{'id': 'call_FkehohFjQVMVziPVXQ75KzUE', 'function': {'arguments': '{\"a\":2,\"b\":10}', 'name': 'multiplication'}, 'type': 'function'}], 'refusal': None}, response_metadata={'token_usage': {'completion_tokens': 19, 'prompt_tokens': 63, 'total_tokens': 82, 'completion_tokens_details': {'accepted_prediction_tokens': 0, 'audio_tokens': 0, 'reasoning_tokens': 0, 'rejected_prediction_tokens': 0}, 'prompt_tokens_details': {'audio_tokens': 0, 'cached_tokens': 0}}, 'model_name': 'gpt-3.5-turbo-0125', 'system_fingerprint': None, 'id': 'chatcmpl-CAGJO4dlJwwe7k5YrL8ykVUF3wVwN', 'service_tier': 'default', 'finish_reason': 'tool_calls', 'logprobs': None}, id='run--86cbaeaf-6ba0-4d6c-90d5-773758917092-0', tool_calls=[{'name': 'multiplication', 'args': {'a': 2, 'b': 10}, 'id': 'call_FkehohFjQVMVziPVXQ75KzUE', 'type': 'tool_call'}], usage_metadata={'input_tokens': 63, 'output_tokens': 19, 'total_tokens': 82, 'input_token_details': {'audio': 0, 'cache_read': 0}, 'output_token_details': {'audio': 0, 'reasoning': 0}})"
      ]
     },
     "execution_count": 7,
     "metadata": {},
     "output_type": "execute_result"
    }
   ],
   "source": [
    "result = bind_tool.invoke(query)\n",
    "result"
   ]
  },
  {
   "cell_type": "code",
   "execution_count": 8,
   "id": "df9764ae",
   "metadata": {},
   "outputs": [
    {
     "data": {
      "text/plain": [
       "[HumanMessage(content='can you multiply 2 with 10', additional_kwargs={}, response_metadata={}),\n",
       " AIMessage(content='', additional_kwargs={'tool_calls': [{'id': 'call_FkehohFjQVMVziPVXQ75KzUE', 'function': {'arguments': '{\"a\":2,\"b\":10}', 'name': 'multiplication'}, 'type': 'function'}], 'refusal': None}, response_metadata={'token_usage': {'completion_tokens': 19, 'prompt_tokens': 63, 'total_tokens': 82, 'completion_tokens_details': {'accepted_prediction_tokens': 0, 'audio_tokens': 0, 'reasoning_tokens': 0, 'rejected_prediction_tokens': 0}, 'prompt_tokens_details': {'audio_tokens': 0, 'cached_tokens': 0}}, 'model_name': 'gpt-3.5-turbo-0125', 'system_fingerprint': None, 'id': 'chatcmpl-CAGJO4dlJwwe7k5YrL8ykVUF3wVwN', 'service_tier': 'default', 'finish_reason': 'tool_calls', 'logprobs': None}, id='run--86cbaeaf-6ba0-4d6c-90d5-773758917092-0', tool_calls=[{'name': 'multiplication', 'args': {'a': 2, 'b': 10}, 'id': 'call_FkehohFjQVMVziPVXQ75KzUE', 'type': 'tool_call'}], usage_metadata={'input_tokens': 63, 'output_tokens': 19, 'total_tokens': 82, 'input_token_details': {'audio': 0, 'cache_read': 0}, 'output_token_details': {'audio': 0, 'reasoning': 0}})]"
      ]
     },
     "execution_count": 8,
     "metadata": {},
     "output_type": "execute_result"
    }
   ],
   "source": [
    "#append ai message to query list\n",
    "query.append(result)\n",
    "query"
   ]
  },
  {
   "cell_type": "markdown",
   "id": "87bb3fd9",
   "metadata": {},
   "source": [
    "# step:4 Exceuting the tools"
   ]
  },
  {
   "cell_type": "code",
   "execution_count": 10,
   "id": "f2f41b2e",
   "metadata": {},
   "outputs": [
    {
     "data": {
      "text/plain": [
       "ToolMessage(content='20', name='multiplication', tool_call_id='call_FkehohFjQVMVziPVXQ75KzUE')"
      ]
     },
     "execution_count": 10,
     "metadata": {},
     "output_type": "execute_result"
    }
   ],
   "source": [
    "tool_msg = multiplication.invoke(result.tool_calls[0]) #now taking out tool message storing them to query list\n",
    "tool_msg"
   ]
  },
  {
   "cell_type": "code",
   "execution_count": 11,
   "id": "734b0ec4",
   "metadata": {},
   "outputs": [
    {
     "data": {
      "text/plain": [
       "[HumanMessage(content='can you multiply 2 with 10', additional_kwargs={}, response_metadata={}),\n",
       " AIMessage(content='', additional_kwargs={'tool_calls': [{'id': 'call_FkehohFjQVMVziPVXQ75KzUE', 'function': {'arguments': '{\"a\":2,\"b\":10}', 'name': 'multiplication'}, 'type': 'function'}], 'refusal': None}, response_metadata={'token_usage': {'completion_tokens': 19, 'prompt_tokens': 63, 'total_tokens': 82, 'completion_tokens_details': {'accepted_prediction_tokens': 0, 'audio_tokens': 0, 'reasoning_tokens': 0, 'rejected_prediction_tokens': 0}, 'prompt_tokens_details': {'audio_tokens': 0, 'cached_tokens': 0}}, 'model_name': 'gpt-3.5-turbo-0125', 'system_fingerprint': None, 'id': 'chatcmpl-CAGJO4dlJwwe7k5YrL8ykVUF3wVwN', 'service_tier': 'default', 'finish_reason': 'tool_calls', 'logprobs': None}, id='run--86cbaeaf-6ba0-4d6c-90d5-773758917092-0', tool_calls=[{'name': 'multiplication', 'args': {'a': 2, 'b': 10}, 'id': 'call_FkehohFjQVMVziPVXQ75KzUE', 'type': 'tool_call'}], usage_metadata={'input_tokens': 63, 'output_tokens': 19, 'total_tokens': 82, 'input_token_details': {'audio': 0, 'cache_read': 0}, 'output_token_details': {'audio': 0, 'reasoning': 0}}),\n",
       " ToolMessage(content='20', name='multiplication', tool_call_id='call_FkehohFjQVMVziPVXQ75KzUE')]"
      ]
     },
     "execution_count": 11,
     "metadata": {},
     "output_type": "execute_result"
    }
   ],
   "source": [
    "#again appending them to lst object.\n",
    "query.append(tool_msg)\n",
    "query"
   ]
  },
  {
   "cell_type": "code",
   "execution_count": null,
   "id": "9a59c7f6",
   "metadata": {},
   "outputs": [],
   "source": []
  },
  {
   "cell_type": "markdown",
   "id": "ca179c76",
   "metadata": {},
   "source": [
    "# step: final again sending all the context to bind llm model"
   ]
  },
  {
   "cell_type": "code",
   "execution_count": 12,
   "id": "ed6d19e6",
   "metadata": {},
   "outputs": [
    {
     "data": {
      "text/plain": [
       "AIMessage(content='The product of 2 and 10 is 20.', additional_kwargs={'refusal': None}, response_metadata={'token_usage': {'completion_tokens': 13, 'prompt_tokens': 91, 'total_tokens': 104, 'completion_tokens_details': {'accepted_prediction_tokens': 0, 'audio_tokens': 0, 'reasoning_tokens': 0, 'rejected_prediction_tokens': 0}, 'prompt_tokens_details': {'audio_tokens': 0, 'cached_tokens': 0}}, 'model_name': 'gpt-3.5-turbo-0125', 'system_fingerprint': None, 'id': 'chatcmpl-CAGOe1s4eLFkKLry4Du52K0XlTdyC', 'service_tier': 'default', 'finish_reason': 'stop', 'logprobs': None}, id='run--848517a2-b595-4b94-b851-a20056ac618d-0', usage_metadata={'input_tokens': 91, 'output_tokens': 13, 'total_tokens': 104, 'input_token_details': {'audio': 0, 'cache_read': 0}, 'output_token_details': {'audio': 0, 'reasoning': 0}})"
      ]
     },
     "execution_count": 12,
     "metadata": {},
     "output_type": "execute_result"
    }
   ],
   "source": [
    "response = bind_tool.invoke(query)\n",
    "response"
   ]
  },
  {
   "cell_type": "code",
   "execution_count": 13,
   "id": "b6f80ada",
   "metadata": {},
   "outputs": [
    {
     "data": {
      "text/plain": [
       "'The product of 2 and 10 is 20.'"
      ]
     },
     "execution_count": 13,
     "metadata": {},
     "output_type": "execute_result"
    }
   ],
   "source": [
    "response.content"
   ]
  }
 ],
 "metadata": {
  "kernelspec": {
   "display_name": "hf-gpu",
   "language": "python",
   "name": "python3"
  },
  "language_info": {
   "codemirror_mode": {
    "name": "ipython",
    "version": 3
   },
   "file_extension": ".py",
   "mimetype": "text/x-python",
   "name": "python",
   "nbconvert_exporter": "python",
   "pygments_lexer": "ipython3",
   "version": "3.10.18"
  }
 },
 "nbformat": 4,
 "nbformat_minor": 5
}
