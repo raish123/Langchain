{
 "cells": [
  {
   "cell_type": "code",
   "execution_count": 1,
   "id": "55531ced",
   "metadata": {},
   "outputs": [
    {
     "data": {
      "text/plain": [
       "True"
      ]
     },
     "execution_count": 1,
     "metadata": {},
     "output_type": "execute_result"
    }
   ],
   "source": [
    "import requests\n",
    "from langchain_core.messages import HumanMessage,AIMessage,SystemMessage\n",
    "from langchain_openai import ChatOpenAI\n",
    "from dotenv import load_dotenv\n",
    "\n",
    "load_dotenv()"
   ]
  },
  {
   "cell_type": "code",
   "execution_count": 2,
   "id": "1c28f9fa",
   "metadata": {},
   "outputs": [
    {
     "data": {
      "text/plain": [
       "ChatOpenAI(client=<openai.resources.chat.completions.completions.Completions object at 0x00000180892C7400>, async_client=<openai.resources.chat.completions.completions.AsyncCompletions object at 0x000001808A79FB80>, root_client=<openai.OpenAI object at 0x00000180892C5240>, root_async_client=<openai.AsyncOpenAI object at 0x000001808A79FAF0>, model_kwargs={}, openai_api_key=SecretStr('**********'))"
      ]
     },
     "execution_count": 2,
     "metadata": {},
     "output_type": "execute_result"
    }
   ],
   "source": [
    "#creating an model object\n",
    "model = ChatOpenAI()\n",
    "model"
   ]
  },
  {
   "cell_type": "markdown",
   "id": "b5f39b77",
   "metadata": {},
   "source": [
    "# first creating Custom Tools"
   ]
  },
  {
   "cell_type": "markdown",
   "id": "3d80a12e",
   "metadata": {},
   "source": [
    "# step1:- created custom tool"
   ]
  },
  {
   "cell_type": "code",
   "execution_count": 3,
   "id": "970b3911",
   "metadata": {},
   "outputs": [],
   "source": [
    "from langchain_core.tools import tool\n",
    "#tools in langchain is nothing but user defined function.\n",
    "\n",
    "@tool\n",
    "def multiplication(a:int,b:int) ->int:\n",
    "    \"\"\"Given 2 number a and b this tool will returns their product\"\"\"\n",
    "    return a*b"
   ]
  },
  {
   "cell_type": "markdown",
   "id": "d687d3bf",
   "metadata": {},
   "source": [
    "# step:2 Binding the tool with llm"
   ]
  },
  {
   "cell_type": "markdown",
   "id": "c00a45bd",
   "metadata": {},
   "source": [
    "# now binding the tool with llm"
   ]
  },
  {
   "cell_type": "code",
   "execution_count": null,
   "id": "7c1b7c77",
   "metadata": {},
   "outputs": [
    {
     "data": {
      "text/plain": [
       "RunnableBinding(bound=ChatOpenAI(client=<openai.resources.chat.completions.completions.Completions object at 0x00000180892C7400>, async_client=<openai.resources.chat.completions.completions.AsyncCompletions object at 0x000001808A79FB80>, root_client=<openai.OpenAI object at 0x00000180892C5240>, root_async_client=<openai.AsyncOpenAI object at 0x000001808A79FAF0>, model_kwargs={}, openai_api_key=SecretStr('**********')), kwargs={'tools': [{'type': 'function', 'function': {'name': 'multiplication', 'description': 'Given 2 number a and b this tool will returns their product', 'parameters': {'properties': {'a': {'type': 'integer'}, 'b': {'type': 'integer'}}, 'required': ['a', 'b'], 'type': 'object'}}}]}, config={}, config_factories=[])"
      ]
     },
     "execution_count": 4,
     "metadata": {},
     "output_type": "execute_result"
    }
   ],
   "source": [
    "#wrapping the tools with LLM\n",
    "bind_tool = model.bind_tools([multiplication])\n",
    "bind_tool"
   ]
  },
  {
   "cell_type": "code",
   "execution_count": null,
   "id": "d9f7bc24",
   "metadata": {},
   "outputs": [],
   "source": []
  },
  {
   "cell_type": "markdown",
   "id": "b1543cf8",
   "metadata": {},
   "source": [
    "# Impt step:- Here we gonna discuss how llm model use specific tool or call tool based on the task"
   ]
  },
  {
   "cell_type": "markdown",
   "id": "702e3869",
   "metadata": {},
   "source": [
    "# TOOL CALLING"
   ]
  },
  {
   "cell_type": "code",
   "execution_count": null,
   "id": "8d553fc4",
   "metadata": {},
   "outputs": [
    {
     "data": {
      "text/plain": [
       "AIMessage(content=\"Hello! I'm here and ready to assist you. How can I help you today?\", additional_kwargs={'refusal': None}, response_metadata={'token_usage': {'completion_tokens': 19, 'prompt_tokens': 59, 'total_tokens': 78, 'completion_tokens_details': {'accepted_prediction_tokens': 0, 'audio_tokens': 0, 'reasoning_tokens': 0, 'rejected_prediction_tokens': 0}, 'prompt_tokens_details': {'audio_tokens': 0, 'cached_tokens': 0}}, 'model_name': 'gpt-3.5-turbo-0125', 'system_fingerprint': None, 'id': 'chatcmpl-CAFrzKpayHvHgYf6Utlx4WRql2GOX', 'service_tier': 'default', 'finish_reason': 'stop', 'logprobs': None}, id='run--d8e17064-7181-424f-a6c0-ea0fa1c28f86-0', usage_metadata={'input_tokens': 59, 'output_tokens': 19, 'total_tokens': 78, 'input_token_details': {'audio': 0, 'cache_read': 0}, 'output_token_details': {'audio': 0, 'reasoning': 0}})"
      ]
     },
     "execution_count": 5,
     "metadata": {},
     "output_type": "execute_result"
    }
   ],
   "source": [
    "#if i ask generally query to llm it will respond sam manner like below example\n",
    "bind_tool.invoke(\"hi how are you\")"
   ]
  },
  {
   "cell_type": "code",
   "execution_count": null,
   "id": "4613e4eb",
   "metadata": {},
   "outputs": [
    {
     "data": {
      "text/plain": [
       "AIMessage(content='', additional_kwargs={'tool_calls': [{'id': 'call_7sGx6zpHt4E9rXZj5NgSYGvz', 'function': {'arguments': '{\"a\":3,\"b\":2}', 'name': 'multiplication'}, 'type': 'function'}], 'refusal': None}, response_metadata={'token_usage': {'completion_tokens': 19, 'prompt_tokens': 63, 'total_tokens': 82, 'completion_tokens_details': {'accepted_prediction_tokens': 0, 'audio_tokens': 0, 'reasoning_tokens': 0, 'rejected_prediction_tokens': 0}, 'prompt_tokens_details': {'audio_tokens': 0, 'cached_tokens': 0}}, 'model_name': 'gpt-3.5-turbo-0125', 'system_fingerprint': None, 'id': 'chatcmpl-CAFtiP7sXhl31346pqNRpRn0NWR95', 'service_tier': 'default', 'finish_reason': 'tool_calls', 'logprobs': None}, id='run--b20b0636-b9a3-4126-afcf-76d21167caa8-0', tool_calls=[{'name': 'multiplication', 'args': {'a': 3, 'b': 2}, 'id': 'call_7sGx6zpHt4E9rXZj5NgSYGvz', 'type': 'tool_call'}], usage_metadata={'input_tokens': 63, 'output_tokens': 19, 'total_tokens': 82, 'input_token_details': {'audio': 0, 'cache_read': 0}, 'output_token_details': {'audio': 0, 'reasoning': 0}})"
      ]
     },
     "execution_count": 6,
     "metadata": {},
     "output_type": "execute_result"
    }
   ],
   "source": [
    "#case:-2 \n",
    "bind_tool.invoke(\"can you multiply 3 with 2\") #in this response you are getting empty content "
   ]
  },
  {
   "cell_type": "markdown",
   "id": "52977054",
   "metadata": {},
   "source": [
    "```\n",
    "Note:- the llm doesnt actually run the tools--->it just suggests the tool(given query ke liye konsa tool sahi rahegha) and the input arguments.\n",
    "the actually execution is handled by you or Langchain\n",
    "```"
   ]
  },
  {
   "cell_type": "code",
   "execution_count": 7,
   "id": "de884be3",
   "metadata": {},
   "outputs": [
    {
     "data": {
      "text/plain": [
       "[{'name': 'multiplication',\n",
       "  'args': {'a': 3, 'b': 2},\n",
       "  'id': 'call_RQKyHjljHEq9Zx73TwZS96q4',\n",
       "  'type': 'tool_call'}]"
      ]
     },
     "execution_count": 7,
     "metadata": {},
     "output_type": "execute_result"
    }
   ],
   "source": [
    "#we can fetch the tool call attributes\n",
    "bind_tool.invoke(\"can you multiply 3 with 2\").tool_calls"
   ]
  },
  {
   "cell_type": "code",
   "execution_count": 8,
   "id": "0a617ca0",
   "metadata": {},
   "outputs": [
    {
     "data": {
      "text/plain": [
       "{'name': 'multiplication',\n",
       " 'args': {'a': 3, 'b': 2},\n",
       " 'id': 'call_65CYMqCXhM2obFjT5ZFq2EQN',\n",
       " 'type': 'tool_call'}"
      ]
     },
     "execution_count": 8,
     "metadata": {},
     "output_type": "execute_result"
    }
   ],
   "source": [
    "#fetching 0th position tool call from lst object\n",
    "\n",
    "bind_tool.invoke(\"can you multiply 3 with 2\").tool_calls[0]"
   ]
  },
  {
   "cell_type": "code",
   "execution_count": null,
   "id": "cf5d5721",
   "metadata": {},
   "outputs": [],
   "source": []
  },
  {
   "cell_type": "markdown",
   "id": "a35fa215",
   "metadata": {},
   "source": [
    "# step:3 Exceuting the tools"
   ]
  },
  {
   "cell_type": "markdown",
   "id": "7944c630",
   "metadata": {},
   "source": [
    "```\n",
    "tools execution means :- actual python function(tool that created user defined func ki help se) is run by using the INPUT ARGUMENT suggested by LLM during tool calling\n",
    "\n",
    "```"
   ]
  },
  {
   "cell_type": "code",
   "execution_count": null,
   "id": "12c0bd39",
   "metadata": {},
   "outputs": [
    {
     "data": {
      "text/plain": [
       "AIMessage(content='', additional_kwargs={'tool_calls': [{'id': 'call_Mh76QowpjYoBezAdBfoXoZuJ', 'function': {'arguments': '{\"a\":3,\"b\":2}', 'name': 'multiplication'}, 'type': 'function'}], 'refusal': None}, response_metadata={'token_usage': {'completion_tokens': 19, 'prompt_tokens': 63, 'total_tokens': 82, 'completion_tokens_details': {'accepted_prediction_tokens': 0, 'audio_tokens': 0, 'reasoning_tokens': 0, 'rejected_prediction_tokens': 0}, 'prompt_tokens_details': {'audio_tokens': 0, 'cached_tokens': 0}}, 'model_name': 'gpt-3.5-turbo-0125', 'system_fingerprint': None, 'id': 'chatcmpl-CAG7vLwEyIVgOlrEnfy7lsyjy5cze', 'service_tier': 'default', 'finish_reason': 'tool_calls', 'logprobs': None}, id='run--8a3287a5-c5bd-4b13-be85-7bcb10f104b3-0', tool_calls=[{'name': 'multiplication', 'args': {'a': 3, 'b': 2}, 'id': 'call_Mh76QowpjYoBezAdBfoXoZuJ', 'type': 'tool_call'}], usage_metadata={'input_tokens': 63, 'output_tokens': 19, 'total_tokens': 82, 'input_token_details': {'audio': 0, 'cache_read': 0}, 'output_token_details': {'audio': 0, 'reasoning': 0}})"
      ]
     },
     "execution_count": 9,
     "metadata": {},
     "output_type": "execute_result"
    }
   ],
   "source": [
    "#bind the tool with llm\n",
    "result = bind_tool.invoke(\"can you multiply 3 with 2\")\n",
    "result"
   ]
  },
  {
   "cell_type": "code",
   "execution_count": 11,
   "id": "59d56b16",
   "metadata": {},
   "outputs": [
    {
     "data": {
      "text/plain": [
       "{'name': 'multiplication',\n",
       " 'args': {'a': 3, 'b': 2},\n",
       " 'id': 'call_Mh76QowpjYoBezAdBfoXoZuJ',\n",
       " 'type': 'tool_call'}"
      ]
     },
     "execution_count": 11,
     "metadata": {},
     "output_type": "execute_result"
    }
   ],
   "source": [
    "result.tool_calls[0]"
   ]
  },
  {
   "cell_type": "code",
   "execution_count": 12,
   "id": "dc683a02",
   "metadata": {},
   "outputs": [
    {
     "data": {
      "text/plain": [
       "6"
      ]
     },
     "execution_count": 12,
     "metadata": {},
     "output_type": "execute_result"
    }
   ],
   "source": [
    "#now executing the tools\n",
    "multiplication.invoke(input=result.tool_calls[0]['args'])"
   ]
  },
  {
   "cell_type": "code",
   "execution_count": null,
   "id": "77a6c4a3",
   "metadata": {},
   "outputs": [
    {
     "data": {
      "text/plain": [
       "ToolMessage(content='6', name='multiplication', tool_call_id='call_Mh76QowpjYoBezAdBfoXoZuJ')"
      ]
     },
     "execution_count": 13,
     "metadata": {},
     "output_type": "execute_result"
    }
   ],
   "source": [
    "multiplication.invoke(input=result.tool_calls[0]) #tool msg we get only whenever any tool executed by model."
   ]
  },
  {
   "cell_type": "code",
   "execution_count": null,
   "id": "1adf5ec2",
   "metadata": {},
   "outputs": [],
   "source": []
  },
  {
   "cell_type": "code",
   "execution_count": null,
   "id": "d8e10cf4",
   "metadata": {},
   "outputs": [],
   "source": []
  },
  {
   "cell_type": "code",
   "execution_count": null,
   "id": "c498ade4",
   "metadata": {},
   "outputs": [],
   "source": []
  },
  {
   "cell_type": "code",
   "execution_count": null,
   "id": "d4b0bee1",
   "metadata": {},
   "outputs": [],
   "source": []
  },
  {
   "cell_type": "code",
   "execution_count": null,
   "id": "dd16e7de",
   "metadata": {},
   "outputs": [],
   "source": []
  },
  {
   "cell_type": "code",
   "execution_count": null,
   "id": "4cfcc124",
   "metadata": {},
   "outputs": [],
   "source": []
  }
 ],
 "metadata": {
  "kernelspec": {
   "display_name": "hf-gpu",
   "language": "python",
   "name": "python3"
  },
  "language_info": {
   "codemirror_mode": {
    "name": "ipython",
    "version": 3
   },
   "file_extension": ".py",
   "mimetype": "text/x-python",
   "name": "python",
   "nbconvert_exporter": "python",
   "pygments_lexer": "ipython3",
   "version": "3.10.18"
  }
 },
 "nbformat": 4,
 "nbformat_minor": 5
}
