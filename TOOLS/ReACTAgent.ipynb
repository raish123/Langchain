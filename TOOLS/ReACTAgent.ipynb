{
 "cells": [
  {
   "cell_type": "code",
   "execution_count": 1,
   "id": "9d9c4a89",
   "metadata": {},
   "outputs": [
    {
     "data": {
      "text/plain": [
       "True"
      ]
     },
     "execution_count": 1,
     "metadata": {},
     "output_type": "execute_result"
    }
   ],
   "source": [
    "#importing library\n",
    "from langchain_groq import ChatGroq\n",
    "from langchain_community.tools import DuckDuckGoSearchRun\n",
    "from langchain_core.output_parsers import StrOutputParser,PydanticOutputParser\n",
    "from pydantic import BaseModel,Field\n",
    "import requests\n",
    "from langchain.tools import tool\n",
    "from langchain_core.tools import StructuredTool,BaseTool\n",
    "from dotenv import load_dotenv\n",
    "\n",
    "load_dotenv()"
   ]
  },
  {
   "cell_type": "code",
   "execution_count": 2,
   "id": "e36502d8",
   "metadata": {},
   "outputs": [
    {
     "data": {
      "text/plain": [
       "ChatGroq(client=<groq.resources.chat.completions.Completions object at 0x000002251F8B4190>, async_client=<groq.resources.chat.completions.AsyncCompletions object at 0x000002251F9C1870>, model_name='llama-3.1-8b-instant', temperature=1e-08, model_kwargs={}, groq_api_key=SecretStr('**********'))"
      ]
     },
     "execution_count": 2,
     "metadata": {},
     "output_type": "execute_result"
    }
   ],
   "source": [
    "#creating an object of grog model class.\n",
    "model = ChatGroq(\n",
    "    model=\"llama-3.1-8b-instant\",\n",
    "    temperature=0\n",
    ")\n",
    "model"
   ]
  },
  {
   "cell_type": "code",
   "execution_count": 3,
   "id": "aeb9b4af",
   "metadata": {},
   "outputs": [
    {
     "data": {
      "text/plain": [
       "AIMessage(content='Hello. How can I assist you today?', additional_kwargs={}, response_metadata={'token_usage': {'completion_tokens': 10, 'prompt_tokens': 36, 'total_tokens': 46, 'completion_time': 0.005806151, 'prompt_time': 0.005550967, 'queue_time': 0.046201753, 'total_time': 0.011357118}, 'model_name': 'llama-3.1-8b-instant', 'system_fingerprint': 'fp_c40956ddc4', 'service_tier': 'on_demand', 'finish_reason': 'stop', 'logprobs': None}, id='run--3a60c12f-aee4-4146-b6fd-2050b710ecdf-0', usage_metadata={'input_tokens': 36, 'output_tokens': 10, 'total_tokens': 46})"
      ]
     },
     "execution_count": 3,
     "metadata": {},
     "output_type": "execute_result"
    }
   ],
   "source": [
    "model.invoke('hello')"
   ]
  },
  {
   "cell_type": "code",
   "execution_count": 4,
   "id": "ba67a476",
   "metadata": {},
   "outputs": [],
   "source": [
    "from langchain_core.prompts import PromptTemplate,ChatPromptTemplate"
   ]
  },
  {
   "cell_type": "code",
   "execution_count": 5,
   "id": "1951dfc3",
   "metadata": {},
   "outputs": [],
   "source": [
    "# from langchain_tavily import TavilySearch\n",
    "\n",
    "# search_tool = TavilySearch(\n",
    "#     max_results=5,\n",
    "#     topic=\"general\"\n",
    "# )\n",
    "\n",
    "# # Run your query\n",
    "# result = search_tool.invoke({\"query\": \"top news in CNN\"})\n",
    "# print(result)\n"
   ]
  },
  {
   "cell_type": "code",
   "execution_count": 6,
   "id": "4e2c860e",
   "metadata": {},
   "outputs": [],
   "source": [
    "#creating an object of duckduck search tool.\n",
    "#as we know that search tool is a runnable futhure we can used in chains or invoke\n",
    "search_tool = DuckDuckGoSearchRun()\n",
    "\n",
    "\n",
    "# result = search_tool.invoke(\"top news in CNN\")\n",
    "# result"
   ]
  },
  {
   "cell_type": "markdown",
   "id": "2fefcd19",
   "metadata": {},
   "source": [
    "# using built in agent class from langchain"
   ]
  },
  {
   "cell_type": "markdown",
   "id": "c6920597",
   "metadata": {},
   "source": [
    "```\n",
    "2. from langchain.agents import create_react_agent\n",
    "Ye function ek ReAct agent banata hai.\n",
    "ReAct = Reasoning + Acting framework (paper se inspired).\n",
    "Agent ko LLM + tools + prompt ke sath wrap karta hai taaki wo “reasoning steps likhe → tool call kare → final answer de”.\n",
    "\n",
    "\n",
    "🔹 3. from langchain.agents import AgentExecutor\n",
    "AgentExecutor = runner jo agent ko actually execute karta hai.\n",
    "Ye input leta hai, reasoning + tool calls orchestrate karta hai, aur final output return karta hai.\n",
    "```"
   ]
  },
  {
   "cell_type": "code",
   "execution_count": 7,
   "id": "ff7cb45a",
   "metadata": {},
   "outputs": [],
   "source": [
    "#ek central prompt store hai jo LangChain ne banaya hai.\n",
    "from langchain import hub #using this class we can get or pull standard reAct agaent prompt.\n",
    "from langchain.agents import create_react_agent,AgentExecutor\n"
   ]
  },
  {
   "cell_type": "markdown",
   "id": "6c2323f5",
   "metadata": {},
   "source": [
    "# prompt hub "
   ]
  },
  {
   "cell_type": "code",
   "execution_count": 8,
   "id": "013f0c51",
   "metadata": {},
   "outputs": [
    {
     "name": "stderr",
     "output_type": "stream",
     "text": [
      "c:\\anaconda\\envs\\hf-gpu\\lib\\site-packages\\langsmith\\client.py:272: LangSmithMissingAPIKeyWarning: API key must be provided when using hosted LangSmith API\n",
      "  warnings.warn(\n"
     ]
    },
    {
     "data": {
      "text/plain": [
       "PromptTemplate(input_variables=['agent_scratchpad', 'input', 'tool_names', 'tools'], input_types={}, partial_variables={}, metadata={'lc_hub_owner': 'hwchase17', 'lc_hub_repo': 'react', 'lc_hub_commit_hash': 'd15fe3c426f1c4b3f37c9198853e4a86e20c425ca7f4752ec0c9b0e97ca7ea4d'}, template='Answer the following questions as best you can. You have access to the following tools:\\n\\n{tools}\\n\\nUse the following format:\\n\\nQuestion: the input question you must answer\\nThought: you should always think about what to do\\nAction: the action to take, should be one of [{tool_names}]\\nAction Input: the input to the action\\nObservation: the result of the action\\n... (this Thought/Action/Action Input/Observation can repeat N times)\\nThought: I now know the final answer\\nFinal Answer: the final answer to the original input question\\n\\nBegin!\\n\\nQuestion: {input}\\nThought:{agent_scratchpad}')"
      ]
     },
     "execution_count": 8,
     "metadata": {},
     "output_type": "execute_result"
    }
   ],
   "source": [
    "#step 2: pulling the ReAct prompt(built in prompt) from langchain hub  \n",
    "prompt = hub.pull(\"hwchase17/react\")\n",
    "prompt"
   ]
  },
  {
   "cell_type": "markdown",
   "id": "d4881459",
   "metadata": {},
   "source": [
    "# create the reAct agent"
   ]
  },
  {
   "cell_type": "code",
   "execution_count": 9,
   "id": "64ba36e5",
   "metadata": {},
   "outputs": [
    {
     "data": {
      "text/plain": [
       "RunnableAssign(mapper={\n",
       "  agent_scratchpad: RunnableLambda(lambda x: format_log_to_str(x['intermediate_steps']))\n",
       "})\n",
       "| PromptTemplate(input_variables=['agent_scratchpad', 'input'], input_types={}, partial_variables={'tools': 'duckduckgo_search - A wrapper around DuckDuckGo Search. Useful for when you need to answer questions about current events. Input should be a search query.', 'tool_names': 'duckduckgo_search'}, metadata={'lc_hub_owner': 'hwchase17', 'lc_hub_repo': 'react', 'lc_hub_commit_hash': 'd15fe3c426f1c4b3f37c9198853e4a86e20c425ca7f4752ec0c9b0e97ca7ea4d'}, template='Answer the following questions as best you can. You have access to the following tools:\\n\\n{tools}\\n\\nUse the following format:\\n\\nQuestion: the input question you must answer\\nThought: you should always think about what to do\\nAction: the action to take, should be one of [{tool_names}]\\nAction Input: the input to the action\\nObservation: the result of the action\\n... (this Thought/Action/Action Input/Observation can repeat N times)\\nThought: I now know the final answer\\nFinal Answer: the final answer to the original input question\\n\\nBegin!\\n\\nQuestion: {input}\\nThought:{agent_scratchpad}')\n",
       "| RunnableBinding(bound=ChatGroq(client=<groq.resources.chat.completions.Completions object at 0x000002251F8B4190>, async_client=<groq.resources.chat.completions.AsyncCompletions object at 0x000002251F9C1870>, model_name='llama-3.1-8b-instant', temperature=1e-08, model_kwargs={}, groq_api_key=SecretStr('**********')), kwargs={'stop': ['\\nObservation']}, config={}, config_factories=[])\n",
       "| ReActSingleInputOutputParser()"
      ]
     },
     "execution_count": 9,
     "metadata": {},
     "output_type": "execute_result"
    }
   ],
   "source": [
    "#step 3: create the reAct agent manually with the pulled prompt\n",
    "#agent what it will do :- it will think/reasoning plan which tool will be used for Task\n",
    "agent = create_react_agent(\n",
    "    llm=model,\n",
    "    prompt=prompt,\n",
    "    tools=[search_tool]\n",
    ")\n",
    "agent"
   ]
  },
  {
   "cell_type": "markdown",
   "id": "5a444936",
   "metadata": {},
   "source": [
    "# wrap it with agentExecutor "
   ]
  },
  {
   "cell_type": "code",
   "execution_count": 10,
   "id": "5f04de91",
   "metadata": {},
   "outputs": [
    {
     "data": {
      "text/plain": [
       "AgentExecutor(verbose=True, agent=RunnableAgent(runnable=RunnableAssign(mapper={\n",
       "  agent_scratchpad: RunnableLambda(lambda x: format_log_to_str(x['intermediate_steps']))\n",
       "})\n",
       "| PromptTemplate(input_variables=['agent_scratchpad', 'input'], input_types={}, partial_variables={'tools': 'duckduckgo_search - A wrapper around DuckDuckGo Search. Useful for when you need to answer questions about current events. Input should be a search query.', 'tool_names': 'duckduckgo_search'}, metadata={'lc_hub_owner': 'hwchase17', 'lc_hub_repo': 'react', 'lc_hub_commit_hash': 'd15fe3c426f1c4b3f37c9198853e4a86e20c425ca7f4752ec0c9b0e97ca7ea4d'}, template='Answer the following questions as best you can. You have access to the following tools:\\n\\n{tools}\\n\\nUse the following format:\\n\\nQuestion: the input question you must answer\\nThought: you should always think about what to do\\nAction: the action to take, should be one of [{tool_names}]\\nAction Input: the input to the action\\nObservation: the result of the action\\n... (this Thought/Action/Action Input/Observation can repeat N times)\\nThought: I now know the final answer\\nFinal Answer: the final answer to the original input question\\n\\nBegin!\\n\\nQuestion: {input}\\nThought:{agent_scratchpad}')\n",
       "| RunnableBinding(bound=ChatGroq(client=<groq.resources.chat.completions.Completions object at 0x000002251F8B4190>, async_client=<groq.resources.chat.completions.AsyncCompletions object at 0x000002251F9C1870>, model_name='llama-3.1-8b-instant', temperature=1e-08, model_kwargs={}, groq_api_key=SecretStr('**********')), kwargs={'stop': ['\\nObservation']}, config={}, config_factories=[])\n",
       "| ReActSingleInputOutputParser(), input_keys_arg=[], return_keys_arg=[], stream_runnable=True), tools=[DuckDuckGoSearchRun(api_wrapper=DuckDuckGoSearchAPIWrapper(region='wt-wt', safesearch='moderate', time='y', max_results=5, backend='auto', source='text'))])"
      ]
     },
     "execution_count": 10,
     "metadata": {},
     "output_type": "execute_result"
    }
   ],
   "source": [
    "#step 4: wrap it with agentExecutor class\n",
    "#agentExecutor will execute the task\n",
    "agent_executor = AgentExecutor(\n",
    "    agent=agent,\n",
    "    tools=[search_tool],\n",
    "    verbose=True\n",
    "    \n",
    ")\n",
    "agent_executor"
   ]
  },
  {
   "cell_type": "markdown",
   "id": "224964fc",
   "metadata": {},
   "source": [
    "# invoke"
   ]
  },
  {
   "cell_type": "code",
   "execution_count": 11,
   "id": "bcf9a23e",
   "metadata": {},
   "outputs": [
    {
     "name": "stdout",
     "output_type": "stream",
     "text": [
      "\n",
      "\n",
      "\u001b[1m> Entering new AgentExecutor chain...\u001b[0m\n",
      "\u001b[32;1m\u001b[1;3mThought: To find the fastest ways to reach Goa from Mumbai, I should search for reliable travel information sources.\n",
      "Action: duckduckgo_search\n",
      "Action Input: \"fastest ways to reach Goa from Mumbai\"\u001b[0m"
     ]
    },
    {
     "name": "stderr",
     "output_type": "stream",
     "text": [
      "c:\\anaconda\\envs\\hf-gpu\\lib\\site-packages\\langchain_community\\utilities\\duckduckgo_search.py:63: RuntimeWarning: This package (`duckduckgo_search`) has been renamed to `ddgs`! Use `pip install ddgs` instead.\n",
      "  with DDGS() as ddgs:\n"
     ]
    },
    {
     "name": "stdout",
     "output_type": "stream",
     "text": [
      "\u001b[36;1m\u001b[1;3mAug 23, 2025 · Discover the best ways to reach Goa from Mumbai by flight, train, bus, and car. Easy travel tips, routes, and timings for a smooth journey. Dec 5, 2024 · Taking a Mumbai to Goa road trip is always an amazing experience. If you have no clue where to begin with, this quick guide you need to know. Feb 25, 2025 · Whether you're an adventure seeker, a nature lover, or a foodie, this ultimate guide will help you plan the perfect road trip from Mumbai to Goa! There are three main routes … Nov 4, 2024 · Planning a Mumbai to Goa road trip? Discover the best routes, top attractions, scenic stopovers, and essential tips to make it an adventure. 5 days ago · From Mumbai, the journey is simple and well connected by train, bus, car, and flight. Each option has its pros – trains and buses are budget-friendly, cars offer comfort and …\u001b[0m\u001b[32;1m\u001b[1;3mQuestion: show me summary 3 ways to reach goa from mumbai fast dont take to much time\n",
      "Thought: To find the fastest ways to reach Goa from Mumbai, I should search for reliable travel information sources.\n",
      "Action: duckduckgo_search\n",
      "Action Input: \"fastest ways to reach Goa from Mumbai\"\u001b[0m"
     ]
    },
    {
     "name": "stderr",
     "output_type": "stream",
     "text": [
      "c:\\anaconda\\envs\\hf-gpu\\lib\\site-packages\\langchain_community\\utilities\\duckduckgo_search.py:63: RuntimeWarning: This package (`duckduckgo_search`) has been renamed to `ddgs`! Use `pip install ddgs` instead.\n",
      "  with DDGS() as ddgs:\n"
     ]
    },
    {
     "name": "stdout",
     "output_type": "stream",
     "text": [
      "\u001b[36;1m\u001b[1;3mAug 23, 2025 · Discover the best ways to reach Goa from Mumbai by flight, train, bus, and car. Easy travel tips, routes, and … May 6, 2025 · This article will give you some insight into the best ways to get from Mumbai to Goa. Goa is the smallest state in the country, but definitely one of the most loved. Dec 5, 2024 · Taking a Mumbai to Goa road trip is always an amazing experience. If you have no clue where to begin with, this … Feb 25, 2025 · Whether you're an adventure seeker, a nature lover, or a foodie, this ultimate guide will help you plan the … Nov 4, 2024 · Planning a Mumbai to Goa road trip? Discover the best routes, top attractions, scenic stopovers, and …\u001b[0m\u001b[32;1m\u001b[1;3mQuestion: show me summary 3 ways to reach goa from mumbai fast dont take to much time\n",
      "Thought: To find the fastest ways to reach Goa from Mumbai, I should search for reliable travel information sources.\n",
      "Action: duckduckgo_search\n",
      "Action Input: \"fastest ways to reach Goa from Mumbai\"\u001b[0m"
     ]
    },
    {
     "name": "stderr",
     "output_type": "stream",
     "text": [
      "c:\\anaconda\\envs\\hf-gpu\\lib\\site-packages\\langchain_community\\utilities\\duckduckgo_search.py:63: RuntimeWarning: This package (`duckduckgo_search`) has been renamed to `ddgs`! Use `pip install ddgs` instead.\n",
      "  with DDGS() as ddgs:\n"
     ]
    },
    {
     "name": "stdout",
     "output_type": "stream",
     "text": [
      "\u001b[36;1m\u001b[1;3mNo good DuckDuckGo Search Result was found\u001b[0m\u001b[32;1m\u001b[1;3mQuestion: show me summary 3 ways to reach goa from mumbai fast dont take to much time\n",
      "Thought: To find the fastest ways to reach Goa from Mumbai, I should search for reliable travel information sources.\n",
      "Action: duckduckgo_search\n",
      "Action Input: \"Mumbai to Goa fastest travel options\"\u001b[0m"
     ]
    },
    {
     "name": "stderr",
     "output_type": "stream",
     "text": [
      "c:\\anaconda\\envs\\hf-gpu\\lib\\site-packages\\langchain_community\\utilities\\duckduckgo_search.py:63: RuntimeWarning: This package (`duckduckgo_search`) has been renamed to `ddgs`! Use `pip install ddgs` instead.\n",
      "  with DDGS() as ddgs:\n"
     ]
    },
    {
     "name": "stdout",
     "output_type": "stream",
     "text": [
      "\u001b[36;1m\u001b[1;3mMumbai Tourism - Get Mumbai travel & tourism related information including tourist places, transport, nightlife, weather, photos, … Aug 18, 2025 · Mumbai rain Highlights: 7 people dead across Maharashtra, says CM Devendra Fadnavis Heavy monsoon rains lashed … Aug 19, 2025 · Mumbai Rains: Schools, colleges, offices, banks, OPEN or CLOSED today, August 19? Details here The India Meteorological … Aug 19, 2025 · Mumbai local train tracks under water, waterlogging between Ghatkopar and Dadar, central railway, western and harbour … Jun 19, 2025 · FASTag annual pass is not valid for two expressways, one is Meerut Expressway, other is…; how will 200 trips be counted in Rs …\u001b[0m\u001b[32;1m\u001b[1;3mQuestion: show me summary 3 ways to reach goa from mumbai fast dont take to much time\n",
      "Thought: To find the fastest ways to reach Goa from Mumbai, I should search for reliable travel information sources.\n",
      "Action: duckduckgo_search\n",
      "Action Input: \"Mumbai to Goa fastest travel options\"\u001b[0m"
     ]
    },
    {
     "name": "stderr",
     "output_type": "stream",
     "text": [
      "c:\\anaconda\\envs\\hf-gpu\\lib\\site-packages\\langchain_community\\utilities\\duckduckgo_search.py:63: RuntimeWarning: This package (`duckduckgo_search`) has been renamed to `ddgs`! Use `pip install ddgs` instead.\n",
      "  with DDGS() as ddgs:\n"
     ]
    },
    {
     "name": "stdout",
     "output_type": "stream",
     "text": [
      "\u001b[36;1m\u001b[1;3mMumbai Tourism - Get Mumbai travel & tourism related information including tourist places, transport, nightlife, weather, photos, entertainment, shopping, festivals, maps, and attractions of ... Aug 18, 2025 · Mumbai rain Highlights: 7 people dead across Maharashtra, says CM Devendra Fadnavis Heavy monsoon rains lashed Mumbai on Monday morning, causing disruptions to traffic … Aug 19, 2025 · Mumbai Rains: Schools, colleges, offices, banks, OPEN or CLOSED today, August 19? Details here The India Meteorological Department (IMD) issued a red alert for Gujarat, … Aug 19, 2025 · Mumbai local train tracks under water, waterlogging between Ghatkopar and Dadar, central railway, western and harbour line delayed by 40 minutes According to regional news … Jun 19, 2025 · FASTag annual pass is not valid for two expressways, one is Meerut Expressway, other is…; how will 200 trips be counted in Rs 3000, know calculation here he FASTag annual …\u001b[0m\u001b[32;1m\u001b[1;3mQuestion: show me summary 3 ways to reach goa from mumbai fast dont take to much time\n",
      "Thought: To find the fastest ways to reach Goa from Mumbai, I should search for reliable travel information sources.\n",
      "Action: duckduckgo_search\n",
      "Action Input: \"Mumbai to Goa fastest travel options\"\u001b[0m"
     ]
    },
    {
     "name": "stderr",
     "output_type": "stream",
     "text": [
      "c:\\anaconda\\envs\\hf-gpu\\lib\\site-packages\\langchain_community\\utilities\\duckduckgo_search.py:63: RuntimeWarning: This package (`duckduckgo_search`) has been renamed to `ddgs`! Use `pip install ddgs` instead.\n",
      "  with DDGS() as ddgs:\n"
     ]
    },
    {
     "name": "stdout",
     "output_type": "stream",
     "text": [
      "\u001b[36;1m\u001b[1;3mFeb 25, 2025 · A road trip from Mumbai to Goa is one of the most thrilling travel experiences in India, offering scenic views, delicious food, adventure, and relaxation. Whether you choose the … Apr 12, 2025 · Explore our comprehensive guide on the best trains from Mumbai to Goa. Get essential travel tips and make your journey unforgettable. 4 days ago · Whether you're looking for government bus booking or specific services like RTC online booking, redBus makes it easy to access the best bus travel options for your needs. … Apr 19, 2025 · Plan your Mumbai to Goa ferry trip with the latest info on schedules, ticket prices, and travel tips. Discover a scenic and convenient way to explore Goa by sea 1 day ago · The average bus ticket price from Mumbai to Goa is approximately INR 550. With redBus, you can access exclusive offers, discounts, and deals, ensuring you get the cheapest …\u001b[0m\u001b[32;1m\u001b[1;3mThought: I now know the final answer\n",
      "Final Answer: The fastest ways to reach Goa from Mumbai are by flight, train, and bus. Flight is the fastest option, taking approximately 1 hour. Train and bus options take around 8-10 hours, depending on the route and type of service.\u001b[0m\n",
      "\n",
      "\u001b[1m> Finished chain.\u001b[0m\n"
     ]
    },
    {
     "data": {
      "text/plain": [
       "{'input': 'show me summary 3 ways to reach goa from mumbai fast dont take to much time',\n",
       " 'output': 'The fastest ways to reach Goa from Mumbai are by flight, train, and bus. Flight is the fastest option, taking approximately 1 hour. Train and bus options take around 8-10 hours, depending on the route and type of service.'}"
      ]
     },
     "execution_count": 11,
     "metadata": {},
     "output_type": "execute_result"
    }
   ],
   "source": [
    "result = agent_executor.invoke({'input': \"show me summary 3 ways to reach goa from mumbai fast dont take to much time\"})\n",
    "result"
   ]
  },
  {
   "cell_type": "code",
   "execution_count": 12,
   "id": "cc621cdd",
   "metadata": {},
   "outputs": [
    {
     "name": "stdout",
     "output_type": "stream",
     "text": [
      "The fastest ways to reach Goa from Mumbai are by flight, train, and bus. Flight is the fastest option, taking approximately 1 hour. Train and bus options take around 8-10 hours, depending on the route and type of service.\n"
     ]
    }
   ],
   "source": [
    "print(result[\"output\"])"
   ]
  },
  {
   "cell_type": "markdown",
   "id": "2ed61300",
   "metadata": {},
   "source": [
    "```\n",
    "ReAct when to use:- jab websearch, database lookup karna tab we can be used\n",
    "\n",
    "react mein  thought-->action--->observation loop hota based on the user query\n",
    "\n",
    "agaentexecutor will run the react loop\n",
    "\n",
    "```"
   ]
  },
  {
   "cell_type": "code",
   "execution_count": null,
   "id": "d595f8b7",
   "metadata": {},
   "outputs": [],
   "source": []
  }
 ],
 "metadata": {
  "kernelspec": {
   "display_name": "hf-gpu",
   "language": "python",
   "name": "python3"
  },
  "language_info": {
   "codemirror_mode": {
    "name": "ipython",
    "version": 3
   },
   "file_extension": ".py",
   "mimetype": "text/x-python",
   "name": "python",
   "nbconvert_exporter": "python",
   "pygments_lexer": "ipython3",
   "version": "3.10.18"
  }
 },
 "nbformat": 4,
 "nbformat_minor": 5
}
