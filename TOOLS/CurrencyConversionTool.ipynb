{
 "cells": [
  {
   "cell_type": "code",
   "execution_count": 1,
   "id": "1a8c7986",
   "metadata": {},
   "outputs": [
    {
     "data": {
      "text/plain": [
       "True"
      ]
     },
     "execution_count": 1,
     "metadata": {},
     "output_type": "execute_result"
    }
   ],
   "source": [
    "import requests\n",
    "from langchain_core.messages import HumanMessage,AIMessage,SystemMessage\n",
    "from langchain_openai import ChatOpenAI\n",
    "from dotenv import load_dotenv\n",
    "\n",
    "load_dotenv()"
   ]
  },
  {
   "cell_type": "code",
   "execution_count": 2,
   "id": "3c31f3f9",
   "metadata": {},
   "outputs": [
    {
     "data": {
      "text/plain": [
       "ChatOpenAI(client=<openai.resources.chat.completions.completions.Completions object at 0x0000020B878AB8E0>, async_client=<openai.resources.chat.completions.completions.AsyncCompletions object at 0x0000020B8A80FCD0>, root_client=<openai.OpenAI object at 0x0000020B878A8E20>, root_async_client=<openai.AsyncOpenAI object at 0x0000020B8A80FC40>, model_kwargs={}, openai_api_key=SecretStr('**********'))"
      ]
     },
     "execution_count": 2,
     "metadata": {},
     "output_type": "execute_result"
    }
   ],
   "source": [
    "#creating an model object\n",
    "model = ChatOpenAI()\n",
    "model"
   ]
  },
  {
   "cell_type": "markdown",
   "id": "466abd70",
   "metadata": {},
   "source": [
    "# step:1 creating Tools by using tool decorator"
   ]
  },
  {
   "cell_type": "code",
   "execution_count": 3,
   "id": "77778f29",
   "metadata": {},
   "outputs": [],
   "source": [
    "from langchain.tools import tool\n",
    "from langchain_core.tools import InjectedToolArg\n",
    "from typing import Annotated\n",
    "\n",
    "@tool\n",
    "def get_conversion_factor(base_currency: str,target_currency:str) -> float:\n",
    "    \"\"\"this function will return conversion factor between given base currency and target currency\"\"\"\n",
    "    url = f\"https://v6.exchangerate-api.com/v6/33aec66e25e1df4937114926/pair/{base_currency}/{target_currency}\"\n",
    "    \n",
    "    #now sending the request to this URL.\n",
    "    response = requests.get(url=url)\n",
    "    \n",
    "    if response.status_code == 200 :\n",
    "        return response.json()\n",
    "    else:\n",
    "        return \"Wrong API KEY\"\n",
    "\n",
    "\n",
    "# result = get_conversion_factor.invoke({'base_currency':\"USD\",'target_currency':\"INR\"})\n",
    "# result"
   ]
  },
  {
   "cell_type": "code",
   "execution_count": 4,
   "id": "29a766c7",
   "metadata": {},
   "outputs": [],
   "source": [
    "# result[\"conversion_rate\"]"
   ]
  },
  {
   "cell_type": "markdown",
   "id": "1acc95d9",
   "metadata": {},
   "source": [
    "```\n",
    "InjectedToolArg means do not fill these argument i developer will inject this value after running earlier tools\n",
    "```"
   ]
  },
  {
   "cell_type": "code",
   "execution_count": 5,
   "id": "94da7430",
   "metadata": {},
   "outputs": [],
   "source": [
    "#creating another who perform multiplication btn base_currency and conversion factor.\n",
    "\n",
    "@tool\n",
    "def convert(base_currency_value:float,conversion_factor:Annotated[float,InjectedToolArg]) ->float:\n",
    "    \"\"\"given a currency conversion rate this function calculate target currency value from given base currency value\"\"\"\n",
    "    \n",
    "    return base_currency_value* conversion_factor"
   ]
  },
  {
   "cell_type": "code",
   "execution_count": 6,
   "id": "3b0ecf2f",
   "metadata": {},
   "outputs": [],
   "source": [
    "#convert.invoke({'base_currency_value':10,'conversion_factor':result[\"conversion_rate\"]})"
   ]
  },
  {
   "cell_type": "markdown",
   "id": "0e78a98e",
   "metadata": {},
   "source": [
    "# step:2 now binding the tool with llm"
   ]
  },
  {
   "cell_type": "code",
   "execution_count": 7,
   "id": "9b59c577",
   "metadata": {},
   "outputs": [
    {
     "data": {
      "text/plain": [
       "RunnableBinding(bound=ChatOpenAI(client=<openai.resources.chat.completions.completions.Completions object at 0x0000020B878AB8E0>, async_client=<openai.resources.chat.completions.completions.AsyncCompletions object at 0x0000020B8A80FCD0>, root_client=<openai.OpenAI object at 0x0000020B878A8E20>, root_async_client=<openai.AsyncOpenAI object at 0x0000020B8A80FC40>, model_kwargs={}, openai_api_key=SecretStr('**********')), kwargs={'tools': [{'type': 'function', 'function': {'name': 'get_conversion_factor', 'description': 'this function will return conversion factor between given base currency and target currency', 'parameters': {'properties': {'base_currency': {'type': 'string'}, 'target_currency': {'type': 'string'}}, 'required': ['base_currency', 'target_currency'], 'type': 'object'}}}, {'type': 'function', 'function': {'name': 'convert', 'description': 'given a currency conversion rate this function calculate target currency value from given base currency value', 'parameters': {'properties': {'base_currency_value': {'type': 'number'}}, 'required': ['base_currency_value'], 'type': 'object'}}}]}, config={}, config_factories=[])"
      ]
     },
     "execution_count": 7,
     "metadata": {},
     "output_type": "execute_result"
    }
   ],
   "source": [
    "llm_with_tool = model.bind_tools([get_conversion_factor,convert])\n",
    "llm_with_tool"
   ]
  },
  {
   "cell_type": "markdown",
   "id": "050637fd",
   "metadata": {},
   "source": [
    "# query forming"
   ]
  },
  {
   "cell_type": "code",
   "execution_count": 8,
   "id": "ac9d7089",
   "metadata": {},
   "outputs": [],
   "source": [
    "message = [\n",
    "    HumanMessage(content=\"What is the conversion factor between USD and INR, and based on that can you convert 6 usd to inr\")\n",
    "]"
   ]
  },
  {
   "cell_type": "markdown",
   "id": "532e869a",
   "metadata": {},
   "source": [
    "# step:3 calling the tools"
   ]
  },
  {
   "cell_type": "code",
   "execution_count": 9,
   "id": "cc70e159",
   "metadata": {},
   "outputs": [
    {
     "data": {
      "text/plain": [
       "AIMessage(content='', additional_kwargs={'tool_calls': [{'id': 'call_XWQyhHE7y7qneam95NLV1mE8', 'function': {'arguments': '{\"base_currency\": \"USD\", \"target_currency\": \"INR\"}', 'name': 'get_conversion_factor'}, 'type': 'function'}, {'id': 'call_gRbAvCaXJxc3XVA7PuJKcwk6', 'function': {'arguments': '{\"base_currency_value\": 6}', 'name': 'convert'}, 'type': 'function'}], 'refusal': None}, response_metadata={'token_usage': {'completion_tokens': 52, 'prompt_tokens': 117, 'total_tokens': 169, 'completion_tokens_details': {'accepted_prediction_tokens': 0, 'audio_tokens': 0, 'reasoning_tokens': 0, 'rejected_prediction_tokens': 0}, 'prompt_tokens_details': {'audio_tokens': 0, 'cached_tokens': 0}}, 'model_name': 'gpt-3.5-turbo-0125', 'system_fingerprint': None, 'id': 'chatcmpl-CAHmqlZQEKQNPCKXnZb9oDpzhJVcB', 'service_tier': 'default', 'finish_reason': 'tool_calls', 'logprobs': None}, id='run--19b51c2d-9b9c-4185-986c-2d6be1f5ed59-0', tool_calls=[{'name': 'get_conversion_factor', 'args': {'base_currency': 'USD', 'target_currency': 'INR'}, 'id': 'call_XWQyhHE7y7qneam95NLV1mE8', 'type': 'tool_call'}, {'name': 'convert', 'args': {'base_currency_value': 6}, 'id': 'call_gRbAvCaXJxc3XVA7PuJKcwk6', 'type': 'tool_call'}], usage_metadata={'input_tokens': 117, 'output_tokens': 52, 'total_tokens': 169, 'input_token_details': {'audio': 0, 'cache_read': 0}, 'output_token_details': {'audio': 0, 'reasoning': 0}})"
      ]
     },
     "execution_count": 9,
     "metadata": {},
     "output_type": "execute_result"
    }
   ],
   "source": [
    "ai_msg = llm_with_tool.invoke(message)\n",
    "ai_msg"
   ]
  },
  {
   "cell_type": "code",
   "execution_count": 10,
   "id": "84c7cb46",
   "metadata": {},
   "outputs": [
    {
     "data": {
      "text/plain": [
       "[{'name': 'get_conversion_factor',\n",
       "  'args': {'base_currency': 'USD', 'target_currency': 'INR'},\n",
       "  'id': 'call_XWQyhHE7y7qneam95NLV1mE8',\n",
       "  'type': 'tool_call'},\n",
       " {'name': 'convert',\n",
       "  'args': {'base_currency_value': 6},\n",
       "  'id': 'call_gRbAvCaXJxc3XVA7PuJKcwk6',\n",
       "  'type': 'tool_call'}]"
      ]
     },
     "execution_count": 10,
     "metadata": {},
     "output_type": "execute_result"
    }
   ],
   "source": [
    "ai_msg.tool_calls"
   ]
  },
  {
   "cell_type": "code",
   "execution_count": 11,
   "id": "8c6447d9",
   "metadata": {},
   "outputs": [],
   "source": [
    "message.append(ai_msg)"
   ]
  },
  {
   "cell_type": "code",
   "execution_count": 12,
   "id": "efd46cc1",
   "metadata": {},
   "outputs": [
    {
     "data": {
      "text/plain": [
       "[HumanMessage(content='What is the conversion factor between USD and INR, and based on that can you convert 6 usd to inr', additional_kwargs={}, response_metadata={}),\n",
       " AIMessage(content='', additional_kwargs={'tool_calls': [{'id': 'call_XWQyhHE7y7qneam95NLV1mE8', 'function': {'arguments': '{\"base_currency\": \"USD\", \"target_currency\": \"INR\"}', 'name': 'get_conversion_factor'}, 'type': 'function'}, {'id': 'call_gRbAvCaXJxc3XVA7PuJKcwk6', 'function': {'arguments': '{\"base_currency_value\": 6}', 'name': 'convert'}, 'type': 'function'}], 'refusal': None}, response_metadata={'token_usage': {'completion_tokens': 52, 'prompt_tokens': 117, 'total_tokens': 169, 'completion_tokens_details': {'accepted_prediction_tokens': 0, 'audio_tokens': 0, 'reasoning_tokens': 0, 'rejected_prediction_tokens': 0}, 'prompt_tokens_details': {'audio_tokens': 0, 'cached_tokens': 0}}, 'model_name': 'gpt-3.5-turbo-0125', 'system_fingerprint': None, 'id': 'chatcmpl-CAHmqlZQEKQNPCKXnZb9oDpzhJVcB', 'service_tier': 'default', 'finish_reason': 'tool_calls', 'logprobs': None}, id='run--19b51c2d-9b9c-4185-986c-2d6be1f5ed59-0', tool_calls=[{'name': 'get_conversion_factor', 'args': {'base_currency': 'USD', 'target_currency': 'INR'}, 'id': 'call_XWQyhHE7y7qneam95NLV1mE8', 'type': 'tool_call'}, {'name': 'convert', 'args': {'base_currency_value': 6}, 'id': 'call_gRbAvCaXJxc3XVA7PuJKcwk6', 'type': 'tool_call'}], usage_metadata={'input_tokens': 117, 'output_tokens': 52, 'total_tokens': 169, 'input_token_details': {'audio': 0, 'cache_read': 0}, 'output_token_details': {'audio': 0, 'reasoning': 0}})]"
      ]
     },
     "execution_count": 12,
     "metadata": {},
     "output_type": "execute_result"
    }
   ],
   "source": [
    "message"
   ]
  },
  {
   "cell_type": "markdown",
   "id": "bceb48e0",
   "metadata": {},
   "source": [
    "# iterating the message"
   ]
  },
  {
   "cell_type": "code",
   "execution_count": 13,
   "id": "8cd805a8",
   "metadata": {},
   "outputs": [
    {
     "data": {
      "text/plain": [
       "[HumanMessage(content='What is the conversion factor between USD and INR, and based on that can you convert 6 usd to inr', additional_kwargs={}, response_metadata={}),\n",
       " AIMessage(content='', additional_kwargs={'tool_calls': [{'id': 'call_XWQyhHE7y7qneam95NLV1mE8', 'function': {'arguments': '{\"base_currency\": \"USD\", \"target_currency\": \"INR\"}', 'name': 'get_conversion_factor'}, 'type': 'function'}, {'id': 'call_gRbAvCaXJxc3XVA7PuJKcwk6', 'function': {'arguments': '{\"base_currency_value\": 6}', 'name': 'convert'}, 'type': 'function'}], 'refusal': None}, response_metadata={'token_usage': {'completion_tokens': 52, 'prompt_tokens': 117, 'total_tokens': 169, 'completion_tokens_details': {'accepted_prediction_tokens': 0, 'audio_tokens': 0, 'reasoning_tokens': 0, 'rejected_prediction_tokens': 0}, 'prompt_tokens_details': {'audio_tokens': 0, 'cached_tokens': 0}}, 'model_name': 'gpt-3.5-turbo-0125', 'system_fingerprint': None, 'id': 'chatcmpl-CAHmqlZQEKQNPCKXnZb9oDpzhJVcB', 'service_tier': 'default', 'finish_reason': 'tool_calls', 'logprobs': None}, id='run--19b51c2d-9b9c-4185-986c-2d6be1f5ed59-0', tool_calls=[{'name': 'get_conversion_factor', 'args': {'base_currency': 'USD', 'target_currency': 'INR'}, 'id': 'call_XWQyhHE7y7qneam95NLV1mE8', 'type': 'tool_call'}, {'name': 'convert', 'args': {'base_currency_value': 6, 'conversion_factor': 88.0985}, 'id': 'call_gRbAvCaXJxc3XVA7PuJKcwk6', 'type': 'tool_call'}], usage_metadata={'input_tokens': 117, 'output_tokens': 52, 'total_tokens': 169, 'input_token_details': {'audio': 0, 'cache_read': 0}, 'output_token_details': {'audio': 0, 'reasoning': 0}}),\n",
       " ToolMessage(content='{\"result\": \"success\", \"documentation\": \"https://www.exchangerate-api.com/docs\", \"terms_of_use\": \"https://www.exchangerate-api.com/terms\", \"time_last_update_unix\": 1756512002, \"time_last_update_utc\": \"Sat, 30 Aug 2025 00:00:02 +0000\", \"time_next_update_unix\": 1756598402, \"time_next_update_utc\": \"Sun, 31 Aug 2025 00:00:02 +0000\", \"base_code\": \"USD\", \"target_code\": \"INR\", \"conversion_rate\": 88.0985}', name='get_conversion_factor', tool_call_id='call_XWQyhHE7y7qneam95NLV1mE8'),\n",
       " ToolMessage(content='528.591', name='convert', tool_call_id='call_gRbAvCaXJxc3XVA7PuJKcwk6')]"
      ]
     },
     "execution_count": 13,
     "metadata": {},
     "output_type": "execute_result"
    }
   ],
   "source": [
    "import json\n",
    "for tool_call in ai_msg.tool_calls:\n",
    "    #executing the 1st tools and get the conversion rate value.\n",
    "    if tool_call[\"name\"] == \"get_conversion_factor\":\n",
    "        tool_msg1 = get_conversion_factor.invoke(tool_call)\n",
    "        #print(tool_msg1)\n",
    "    \n",
    "        #fetching the conversion rate.\n",
    "        conversion_rate = json.loads(tool_msg1.content)[\"conversion_rate\"]\n",
    "        \n",
    "        #appending the tool msg to lst object\n",
    "        message.append(tool_msg1)\n",
    "    \n",
    "    \n",
    "        \n",
    "    #then execute the second tool using the conversion rate from tool 1.\n",
    "    if tool_call[\"name\"] == \"convert\":\n",
    "        #fetch the current argument and ingesting with tool1 answer\n",
    "        tool_call['args']['conversion_factor'] = conversion_rate\n",
    "        \n",
    "        #calling tool2 \n",
    "        tool_msg2 = convert.invoke(tool_call)\n",
    "        \n",
    "        #appending the tool msg to lst object\n",
    "        message.append(tool_msg2)\n",
    "        \n",
    "        \n",
    "    \n",
    "message"
   ]
  },
  {
   "cell_type": "code",
   "execution_count": null,
   "id": "4bafb406",
   "metadata": {},
   "outputs": [],
   "source": []
  },
  {
   "cell_type": "markdown",
   "id": "ab91da02",
   "metadata": {},
   "source": [
    "# finally sending this msg to llm to get response"
   ]
  },
  {
   "cell_type": "code",
   "execution_count": 15,
   "id": "bc4a8e8f",
   "metadata": {},
   "outputs": [
    {
     "data": {
      "text/plain": [
       "AIMessage(content='The conversion factor between USD and INR is 88.0985. \\n\\nBased on this conversion factor, 6 USD is equivalent to approximately 528.59 INR.', additional_kwargs={'refusal': None}, response_metadata={'token_usage': {'completion_tokens': 37, 'prompt_tokens': 328, 'total_tokens': 365, 'completion_tokens_details': {'accepted_prediction_tokens': 0, 'audio_tokens': 0, 'reasoning_tokens': 0, 'rejected_prediction_tokens': 0}, 'prompt_tokens_details': {'audio_tokens': 0, 'cached_tokens': 0}}, 'model_name': 'gpt-3.5-turbo-0125', 'system_fingerprint': None, 'id': 'chatcmpl-CAHqHOA3LugFnQ0HROUURzc9AkWeE', 'service_tier': 'default', 'finish_reason': 'stop', 'logprobs': None}, id='run--b1b91fe6-140d-4fb0-abdb-1d27955c1785-0', usage_metadata={'input_tokens': 328, 'output_tokens': 37, 'total_tokens': 365, 'input_token_details': {'audio': 0, 'cache_read': 0}, 'output_token_details': {'audio': 0, 'reasoning': 0}})"
      ]
     },
     "execution_count": 15,
     "metadata": {},
     "output_type": "execute_result"
    }
   ],
   "source": [
    "response = llm_with_tool.invoke(message)\n",
    "response"
   ]
  },
  {
   "cell_type": "code",
   "execution_count": 16,
   "id": "7c24e614",
   "metadata": {},
   "outputs": [
    {
     "data": {
      "text/plain": [
       "'The conversion factor between USD and INR is 88.0985. \\n\\nBased on this conversion factor, 6 USD is equivalent to approximately 528.59 INR.'"
      ]
     },
     "execution_count": 16,
     "metadata": {},
     "output_type": "execute_result"
    }
   ],
   "source": [
    "response.content"
   ]
  }
 ],
 "metadata": {
  "kernelspec": {
   "display_name": "hf-gpu",
   "language": "python",
   "name": "python3"
  },
  "language_info": {
   "codemirror_mode": {
    "name": "ipython",
    "version": 3
   },
   "file_extension": ".py",
   "mimetype": "text/x-python",
   "name": "python",
   "nbconvert_exporter": "python",
   "pygments_lexer": "ipython3",
   "version": "3.10.18"
  }
 },
 "nbformat": 4,
 "nbformat_minor": 5
}
