{
 "cells": [
  {
   "cell_type": "code",
   "execution_count": 1,
   "id": "84880e63",
   "metadata": {},
   "outputs": [],
   "source": [
    "#importing module\n",
    "from langchain_community.tools import DuckDuckGoSearchRun\n",
    "#dependency need to be install first pip install -U duckduckgo-search"
   ]
  },
  {
   "cell_type": "markdown",
   "id": "d045642a",
   "metadata": {},
   "source": [
    "# using Some Built in Tools in langchain"
   ]
  },
  {
   "cell_type": "code",
   "execution_count": 2,
   "id": "3dfef722",
   "metadata": {},
   "outputs": [
    {
     "name": "stderr",
     "output_type": "stream",
     "text": [
      "c:\\anaconda\\envs\\hf-gpu\\lib\\site-packages\\langchain_community\\utilities\\duckduckgo_search.py:63: RuntimeWarning: This package (`duckduckgo_search`) has been renamed to `ddgs`! Use `pip install ddgs` instead.\n",
      "  with DDGS() as ddgs:\n"
     ]
    },
    {
     "data": {
      "text/plain": [
       "'3 days ago · A 50 percent tariff on India will impact trade worth billions of dollars and risk Washington-New Delhi ties. 2 days ago · Trump India Tariffs Impact LIVE News Updates: The 50% US tariff, which is one … Aug 7, 2025 · US Tariff on India: Trump imposed an additional 25% Tariff on Indian goods. … Tariff news highlights: The additional 25% tariffs on Indian imports, imposed by US President … Aug 7, 2025 · The US has imposed a sweeping 50% tariff on Indian exports, pushing US-India …'"
      ]
     },
     "execution_count": 2,
     "metadata": {},
     "output_type": "execute_result"
    }
   ],
   "source": [
    "#creating an object of DuckDuckGoSearchRun class.\n",
    "search_engine = DuckDuckGoSearchRun()\n",
    "answer = search_engine.invoke(input = \"effect of tariff war in india \")\n",
    "answer"
   ]
  },
  {
   "cell_type": "code",
   "execution_count": null,
   "id": "744f6e0d",
   "metadata": {},
   "outputs": [],
   "source": []
  },
  {
   "cell_type": "markdown",
   "id": "81e0cbdb",
   "metadata": {},
   "source": [
    "# 3 ways to create custom tools in langchain futhure we can add this tool to llm to take action again defined task"
   ]
  },
  {
   "cell_type": "markdown",
   "id": "b4581b66",
   "metadata": {},
   "source": [
    "# way-1:  by using decorator tools we can create "
   ]
  },
  {
   "cell_type": "code",
   "execution_count": 3,
   "id": "f36dd165",
   "metadata": {},
   "outputs": [],
   "source": [
    "from langchain_core.tools import tool\n",
    "\n",
    "\n",
    "#tools in langchain is nothing but user defined function.\n",
    "\n",
    "@tool\n",
    "def multiplication(a:int,b:int) ->int:\n",
    "    \"\"\"multipliying two numbers\"\"\"\n",
    "    return a*b"
   ]
  },
  {
   "cell_type": "code",
   "execution_count": 4,
   "id": "364b16e0",
   "metadata": {},
   "outputs": [
    {
     "data": {
      "text/plain": [
       "6"
      ]
     },
     "execution_count": 4,
     "metadata": {},
     "output_type": "execute_result"
    }
   ],
   "source": [
    "#As we know that tools is a runnable means futhure tool can  be used in chains,so that we can invoke the tool .\n",
    "result = multiplication.invoke(input={'a':3,'b':2})\n",
    "result\n"
   ]
  },
  {
   "cell_type": "code",
   "execution_count": 5,
   "id": "e5a52ef3",
   "metadata": {},
   "outputs": [
    {
     "name": "stdout",
     "output_type": "stream",
     "text": [
      "{'description': 'multipliying two numbers', 'properties': {'a': {'title': 'A', 'type': 'integer'}, 'b': {'title': 'B', 'type': 'integer'}}, 'required': ['a', 'b'], 'title': 'multiplication', 'type': 'object'}\n"
     ]
    }
   ],
   "source": [
    "# if i want to show the schema of above tools that can also will be seen by LLM Model.\n",
    "print(multiplication.args_schema.model_json_schema())"
   ]
  },
  {
   "cell_type": "code",
   "execution_count": 6,
   "id": "0e89a7c6",
   "metadata": {},
   "outputs": [
    {
     "name": "stdout",
     "output_type": "stream",
     "text": [
      "multiplication\n",
      "multipliying two numbers\n",
      "{'a': {'title': 'A', 'type': 'integer'}, 'b': {'title': 'B', 'type': 'integer'}}\n"
     ]
    }
   ],
   "source": [
    "print(multiplication.name)\n",
    "print(multiplication.description)\n",
    "print(multiplication.args)"
   ]
  },
  {
   "cell_type": "markdown",
   "id": "03fb62a0",
   "metadata": {},
   "source": [
    "# way-2 : to create tools by using SturctureTools(using pydantic it achieve) class"
   ]
  },
  {
   "cell_type": "code",
   "execution_count": 7,
   "id": "a33b2203",
   "metadata": {},
   "outputs": [],
   "source": [
    "from langchain.tools import StructuredTool\n",
    "from pydantic import BaseModel,Field\n",
    "from typing import Annotated,Literal,TypedDict\n",
    "\n",
    "\n",
    "\n",
    "#creating pydantic class to validate the types of field\n",
    "class MultiplyingFactor(BaseModel):\n",
    "    a : Annotated[int,Field(...,description=\"provided first integer variable to multiply\")]\n",
    "    b : Annotated[int,Field(...,description=\"provided second integer variable to multiply\")]"
   ]
  },
  {
   "cell_type": "code",
   "execution_count": 8,
   "id": "a075a086",
   "metadata": {},
   "outputs": [],
   "source": [
    "def multiplication(a:int,b:int) ->int:\n",
    "    \"\"\"multipliying two numbers\"\"\"\n",
    "    return a*b\n",
    "\n",
    "\n",
    "#now creating an object of Sturcture toll class\n",
    "structure = StructuredTool.from_function(\n",
    "    func=multiplication,\n",
    "    name=\"multiplying two numbers\",\n",
    "    args_schema=MultiplyingFactor\n",
    ")"
   ]
  },
  {
   "cell_type": "code",
   "execution_count": 9,
   "id": "2f79965b",
   "metadata": {},
   "outputs": [
    {
     "data": {
      "text/plain": [
       "6"
      ]
     },
     "execution_count": 9,
     "metadata": {},
     "output_type": "execute_result"
    }
   ],
   "source": [
    "#calling the tool\n",
    "result = structure.invoke(input={'a':2,'b':3})\n",
    "result"
   ]
  },
  {
   "cell_type": "code",
   "execution_count": 10,
   "id": "564c9c18",
   "metadata": {},
   "outputs": [
    {
     "name": "stdout",
     "output_type": "stream",
     "text": [
      "multiplying two numbers\n",
      "multipliying two numbers\n",
      "{'a': {'description': 'provided first integer variable to multiply', 'title': 'A', 'type': 'integer'}, 'b': {'description': 'provided second integer variable to multiply', 'title': 'B', 'type': 'integer'}}\n",
      "False\n"
     ]
    }
   ],
   "source": [
    "# Let's inspect some of the attributes associated with the tool.\n",
    "print(structure.name)\n",
    "print(structure.description)\n",
    "print(structure.args)\n",
    "print(structure.return_direct)"
   ]
  },
  {
   "cell_type": "code",
   "execution_count": null,
   "id": "5a77997d",
   "metadata": {},
   "outputs": [],
   "source": []
  },
  {
   "cell_type": "markdown",
   "id": "2c01761d",
   "metadata": {},
   "source": [
    "# way:3 By using BaseTool class of Langchain we can create Custom Tool"
   ]
  },
  {
   "cell_type": "code",
   "execution_count": 11,
   "id": "b044de47",
   "metadata": {},
   "outputs": [],
   "source": [
    "from langchain.tools import BaseTool\n",
    "from pydantic import BaseModel,Field\n",
    "from typing import Annotated,Literal,TypedDict,Optional\n"
   ]
  },
  {
   "cell_type": "code",
   "execution_count": 12,
   "id": "9e2c53c4",
   "metadata": {},
   "outputs": [],
   "source": [
    "#creating pydantic class to validate the types of field\n",
    "class MultiplyingFactor(BaseModel):\n",
    "    a : Annotated[int,Field(...,description=\"provided first integer variable to multiply\")]\n",
    "    b : Annotated[int,Field(...,description=\"provided second integer variable to multiply\")]"
   ]
  },
  {
   "cell_type": "markdown",
   "id": "a266bd5a",
   "metadata": {},
   "source": [
    "# below we are creating custom class by inheriting property from BaseTool class"
   ]
  },
  {
   "cell_type": "code",
   "execution_count": 13,
   "id": "c36dad79",
   "metadata": {},
   "outputs": [],
   "source": [
    "class Multiplication1(BaseTool):\n",
    "    #now defining the meta data about this custom tool class\n",
    "    name : str = \"multiplication of two numbers\"\n",
    "    description :str = \"useful for when you need to answer questions about math\"\n",
    "    args_schema : type[BaseModel]  = MultiplyingFactor\n",
    "    \n",
    "    \n",
    "    #using magic method to define mthod of this class\n",
    "    def _run(self,a,b ):\n",
    "        return a*b\n",
    "        \n",
    "    "
   ]
  },
  {
   "cell_type": "code",
   "execution_count": 14,
   "id": "ebf493cc",
   "metadata": {},
   "outputs": [
    {
     "data": {
      "text/plain": [
       "6"
      ]
     },
     "execution_count": 14,
     "metadata": {},
     "output_type": "execute_result"
    }
   ],
   "source": [
    "#creating an object of this class\n",
    "multi = Multiplication1()\n",
    "result = multi.invoke(input={'a':2,'b':3})\n",
    "result"
   ]
  },
  {
   "cell_type": "code",
   "execution_count": 15,
   "id": "9c563522",
   "metadata": {},
   "outputs": [
    {
     "name": "stdout",
     "output_type": "stream",
     "text": [
      "multiplication of two numbers\n",
      "useful for when you need to answer questions about math\n",
      "{'a': {'description': 'provided first integer variable to multiply', 'title': 'A', 'type': 'integer'}, 'b': {'description': 'provided second integer variable to multiply', 'title': 'B', 'type': 'integer'}}\n",
      "False\n"
     ]
    }
   ],
   "source": [
    "# to see the meta data abou this tools\n",
    "print(multi.name)\n",
    "print(multi.description)\n",
    "print(multi.args)\n",
    "print(multi.return_direct)"
   ]
  },
  {
   "cell_type": "code",
   "execution_count": null,
   "id": "4d719fe1",
   "metadata": {},
   "outputs": [],
   "source": []
  },
  {
   "cell_type": "code",
   "execution_count": null,
   "id": "8b63f682",
   "metadata": {},
   "outputs": [],
   "source": []
  },
  {
   "cell_type": "code",
   "execution_count": null,
   "id": "d615029b",
   "metadata": {},
   "outputs": [],
   "source": []
  },
  {
   "cell_type": "code",
   "execution_count": null,
   "id": "7fb8f7ad",
   "metadata": {},
   "outputs": [],
   "source": []
  }
 ],
 "metadata": {
  "kernelspec": {
   "display_name": "hf-gpu",
   "language": "python",
   "name": "python3"
  },
  "language_info": {
   "codemirror_mode": {
    "name": "ipython",
    "version": 3
   },
   "file_extension": ".py",
   "mimetype": "text/x-python",
   "name": "python",
   "nbconvert_exporter": "python",
   "pygments_lexer": "ipython3",
   "version": "3.10.18"
  }
 },
 "nbformat": 4,
 "nbformat_minor": 5
}
