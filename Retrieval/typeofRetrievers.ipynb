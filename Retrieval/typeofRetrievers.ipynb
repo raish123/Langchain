{
 "cells": [
  {
   "cell_type": "code",
   "execution_count": 1,
   "id": "fddf47f9",
   "metadata": {},
   "outputs": [],
   "source": [
    "#importing the module\n",
    "from langchain_openai import OpenAIEmbeddings #this class we used to load openai embedding models\n",
    "from langchain_core.prompts import PromptTemplate,ChatPromptTemplate #this class we used to create dynamic or role based prompt\n",
    "import os\n",
    "from langchain_core.runnables import RunnableBranch,RunnableParallel,RunnablePassthrough,RunnableLambda,RunnableSequence\n",
    "from langchain_openai import ChatOpenAI #this class we used to load openai llm models\n",
    "from langchain_chroma import Chroma #this class we used to create chroma vector store database\n",
    "from langchain_community.document_loaders import TextLoader,PDFPlumberLoader,DirectoryLoader\n",
    "from langchain_core.output_parsers import StrOutputParser,PydanticOutputParser\n",
    "from langchain.text_splitter import RecursiveCharacterTextSplitter,CharacterTextSplitter\n",
    "from typing import TypedDict,Literal,Annotated\n",
    "from pydantic import BaseModel,Field,computed_field\n",
    "\n",
    "from dotenv import load_dotenv\n"
   ]
  },
  {
   "cell_type": "code",
   "execution_count": 2,
   "id": "29ad98b4",
   "metadata": {},
   "outputs": [],
   "source": [
    "from langchain_community.retrievers import WikipediaRetriever"
   ]
  },
  {
   "cell_type": "code",
   "execution_count": 3,
   "id": "2a5ae8d8",
   "metadata": {},
   "outputs": [
    {
     "data": {
      "text/plain": [
       "WikipediaRetriever(wiki_client=<module 'wikipedia' from 'c:\\\\anaconda\\\\envs\\\\hf-gpu\\\\lib\\\\site-packages\\\\wikipedia\\\\__init__.py'>, top_k_results=2)"
      ]
     },
     "execution_count": 3,
     "metadata": {},
     "output_type": "execute_result"
    }
   ],
   "source": [
    "#creating an object of WikipediaRetriever class\n",
    "retriever = WikipediaRetriever(\n",
    "    top_k_results=2,\n",
    "    lang=\"en\"\n",
    ")\n",
    "retriever"
   ]
  },
  {
   "cell_type": "markdown",
   "id": "6867c769",
   "metadata": {},
   "source": [
    "# defining query"
   ]
  },
  {
   "cell_type": "code",
   "execution_count": 5,
   "id": "d24693b7",
   "metadata": {},
   "outputs": [
    {
     "data": {
      "text/plain": [
       "'the geopolitical history of india and pakistan from the perspective of a china'"
      ]
     },
     "execution_count": 5,
     "metadata": {},
     "output_type": "execute_result"
    }
   ],
   "source": [
    "query = \"the geopolitical history of india and pakistan from the perspective of a china\"\n",
    "query"
   ]
  },
  {
   "cell_type": "markdown",
   "id": "8a66189e",
   "metadata": {},
   "source": [
    "# retrieving the document from wikepedia website"
   ]
  },
  {
   "cell_type": "code",
   "execution_count": 6,
   "id": "f6e17ecd",
   "metadata": {},
   "outputs": [
    {
     "data": {
      "text/plain": [
       "[Document(metadata={'title': 'China–India relations', 'summary': \"China and India maintained peaceful relations for thousands of years, but their relationship has varied since the Chinese Communist Party (CCP)'s victory in the Chinese Civil War in 1949 and the annexation of Tibet by the People's Republic of China. The two nations have sought economic cooperation with each other, while frequent border disputes and economic nationalism in both countries are major points of contention.\\nCultural and economic relations between China and India date back to ancient times. The Silk Road not only served as a major trade route between India and China, but is also credited for facilitating the spread of Buddhism from India to East Asia. During the 19th century, China was involved in a growing opium trade with the East India Company, which exported opium grown in India. During World War II, both British India and the Republic of China (ROC) played a crucial role in halting the progress of Imperial Japan. After India became independent in 1947, it established relations with the ROC. The modern Sino-Indian diplomatic relationship began in 1950, when India was among the first noncommunist countries to end formal relations with the Republic of China and recognise the PRC as the legitimate government of both Mainland China and Taiwan. China and India are two of the major regional powers in Asia, and are the two most populous countries and among the fastest growing major economies in the world.\\nGrowth in diplomatic and economic influence has increased the significance of their bilateral relationship. Between 2008 and 2021, China has been India's largest trading partner, and the two countries have also extended their strategic and military relations. However, conflict of interest leads to hostility. India has a large trade deficit that is favoured towards China. The two countries failed to resolve their border dispute and Indian media outlets have repeatedly reported Chinese military incursions into Indian territory. And relations between contemporary China and India have been characterised by border disputes, resulting in three military conflicts – the Sino-Indian War of 1962, the border clashes in Nathu La and Cho La in 1967, and the 1987 Sumdorong Chu standoff. Since the late 1980s, both countries have successfully rebuilt diplomatic and economic ties.\\nSince 2013, border disputes have reemerged to take centre stage in the two countries' mutual relations. In early 2018, the two armies got engaged in a standoff at the Doklam plateau along the disputed Bhutan-China border. Since summer 2020, armed standoffs and skirmishes at multiple locations along the entire Sino-Indian border escalated. A serious clash occurred in the Galwan Valley, resulting in the death of 20 Indian soldiers and many Chinese soldiers. Both countries have steadily established military infrastructure along border areas, including amidst the 2020 China–India skirmishes. Additionally, India remains wary about China's strong strategic bilateral relations with Pakistan, and China's relations to separatist groups in Northeast India, while China has expressed concerns about Indian military and economic activities in the disputed South China Sea as well as hosting of anti-China activity from Tibetan exiles. Today, the South Asian region is the premier site of intensified great power competition between China and India.\", 'source': 'https://en.wikipedia.org/wiki/China%E2%80%93India_relations'}, page_content='China and India maintained peaceful relations for thousands of years, but their relationship has varied since the Chinese Communist Party (CCP)\\'s victory in the Chinese Civil War in 1949 and the annexation of Tibet by the People\\'s Republic of China. The two nations have sought economic cooperation with each other, while frequent border disputes and economic nationalism in both countries are major points of contention.\\nCultural and economic relations between China and India date back to ancient times. The Silk Road not only served as a major trade route between India and China, but is also credited for facilitating the spread of Buddhism from India to East Asia. During the 19th century, China was involved in a growing opium trade with the East India Company, which exported opium grown in India. During World War II, both British India and the Republic of China (ROC) played a crucial role in halting the progress of Imperial Japan. After India became independent in 1947, it established relations with the ROC. The modern Sino-Indian diplomatic relationship began in 1950, when India was among the first noncommunist countries to end formal relations with the Republic of China and recognise the PRC as the legitimate government of both Mainland China and Taiwan. China and India are two of the major regional powers in Asia, and are the two most populous countries and among the fastest growing major economies in the world.\\nGrowth in diplomatic and economic influence has increased the significance of their bilateral relationship. Between 2008 and 2021, China has been India\\'s largest trading partner, and the two countries have also extended their strategic and military relations. However, conflict of interest leads to hostility. India has a large trade deficit that is favoured towards China. The two countries failed to resolve their border dispute and Indian media outlets have repeatedly reported Chinese military incursions into Indian territory. And relations between contemporary China and India have been characterised by border disputes, resulting in three military conflicts – the Sino-Indian War of 1962, the border clashes in Nathu La and Cho La in 1967, and the 1987 Sumdorong Chu standoff. Since the late 1980s, both countries have successfully rebuilt diplomatic and economic ties.\\nSince 2013, border disputes have reemerged to take centre stage in the two countries\\' mutual relations. In early 2018, the two armies got engaged in a standoff at the Doklam plateau along the disputed Bhutan-China border. Since summer 2020, armed standoffs and skirmishes at multiple locations along the entire Sino-Indian border escalated. A serious clash occurred in the Galwan Valley, resulting in the death of 20 Indian soldiers and many Chinese soldiers. Both countries have steadily established military infrastructure along border areas, including amidst the 2020 China–India skirmishes. Additionally, India remains wary about China\\'s strong strategic bilateral relations with Pakistan, and China\\'s relations to separatist groups in Northeast India, while China has expressed concerns about Indian military and economic activities in the disputed South China Sea as well as hosting of anti-China activity from Tibetan exiles. Today, the South Asian region is the premier site of intensified great power competition between China and India.\\n\\n\\n== Geopolitical overview ==\\n\\nThe China–India border straddles the Himalayas, with Nepal and Bhutan acting as buffer states. Parts of the disputed Kashmir region claimed by India (J&K and Ladakh) are claimed and administered by either Pakistan (Azad Kashmir and Gilgit Baltistan) or by the PRC (Aksai Chin). The Government of Pakistan, on its maps, shows the Aksai Chin area as mostly within China and labels the boundary \"Frontier Undefined\", while India holds that Aksai Chin is illegally occupied by the PRC. China and India also dispute most of Arunachal Pradesh.\\nNot only is China\\'s India policy shaped by greater competition with the'),\n",
       " Document(metadata={'title': 'Indo-Pakistani war of 1971', 'summary': \"The Indo-Pakistani war of 1971, also known as the third Indo-Pakistani war, was a military confrontation between India and Pakistan that occurred during the Bangladesh Liberation War in East Pakistan from 3 December 1971 until the Pakistani capitulation in Dhaka on 16 December 1971.  The war began with Pakistan's Operation Chengiz Khan, consisting of preemptive aerial strikes on eight Indian air stations. The strikes led to India declaring war on Pakistan, marking their entry into the war for East Pakistan's independence, on the side of Bengali nationalist forces. India's entry expanded the existing conflict with Indian and Pakistani forces engaging on both the eastern and western fronts. \\nThirteen days after the war started, India achieved a clear upper hand, and the Eastern Command of the Pakistan military signed the instrument of surrender on 16 December 1971 in Dhaka, marking the formation of East Pakistan as the new nation of Bangladesh. Approximately 93,000 Pakistani servicemen were taken prisoner by the Indian Army, which included 79,676 to 81,000 uniformed personnel of the Pakistan Armed Forces, including some Bengali soldiers who had remained loyal to Pakistan. The remaining 10,324 to 12,500 prisoners were civilians, either family members of the military personnel or collaborators (Razakars).\\nIt is estimated that members of the Pakistani military and supporting pro-Pakistani Islamist militias killed between 300,000 and 3,000,000 civilians in Bangladesh. As a result of the conflict, a further eight to ten million people fled the country to seek refuge in India.\\nDuring the war, members of the Pakistani military and supporting pro-Pakistani Islamist militias called the Razakars raped between 200,000 and 400,000 Bangladeshi women and girls in a systematic campaign of genocidal rape.\", 'source': 'https://en.wikipedia.org/wiki/Indo-Pakistani_war_of_1971'}, page_content=\"The Indo-Pakistani war of 1971, also known as the third Indo-Pakistani war, was a military confrontation between India and Pakistan that occurred during the Bangladesh Liberation War in East Pakistan from 3 December 1971 until the Pakistani capitulation in Dhaka on 16 December 1971.  The war began with Pakistan's Operation Chengiz Khan, consisting of preemptive aerial strikes on eight Indian air stations. The strikes led to India declaring war on Pakistan, marking their entry into the war for East Pakistan's independence, on the side of Bengali nationalist forces. India's entry expanded the existing conflict with Indian and Pakistani forces engaging on both the eastern and western fronts. \\nThirteen days after the war started, India achieved a clear upper hand, and the Eastern Command of the Pakistan military signed the instrument of surrender on 16 December 1971 in Dhaka, marking the formation of East Pakistan as the new nation of Bangladesh. Approximately 93,000 Pakistani servicemen were taken prisoner by the Indian Army, which included 79,676 to 81,000 uniformed personnel of the Pakistan Armed Forces, including some Bengali soldiers who had remained loyal to Pakistan. The remaining 10,324 to 12,500 prisoners were civilians, either family members of the military personnel or collaborators (Razakars).\\nIt is estimated that members of the Pakistani military and supporting pro-Pakistani Islamist militias killed between 300,000 and 3,000,000 civilians in Bangladesh. As a result of the conflict, a further eight to ten million people fled the country to seek refuge in India.\\nDuring the war, members of the Pakistani military and supporting pro-Pakistani Islamist militias called the Razakars raped between 200,000 and 400,000 Bangladeshi women and girls in a systematic campaign of genocidal rape.\\n\\n\\n== Background ==\\n\\nThe Indo-Pakistani conflict was sparked by the Bangladesh Liberation War, which was a result of the violation of the rights of East Pakistan by the Pakistan Army. The political tensions in East Pakistan had its origin in the creation of Pakistan as a result of the partition of India by the United Kingdom in 1947; the popular language movement in 1950; mass riots in East Bengal in 1964; and the mass protests in 1969. These led to the resignation of President Ayub Khan, who invited army chief General Yahya Khan to take over the central government. The geographical distance between the eastern and western wings of Pakistan was vast; East Pakistan lay over 1,600 kilometres (1,000 mi) away, which greatly hampered any attempt to integrate the Bengali and the Pakistani cultures.\\nTo overcome the Bengali domination and prevent formation of the central government in Islamabad, the controversial One Unit programme established the two wings of East and West Pakistan. West Pakistanis' opposition to these efforts made it difficult to effectively govern both wings. In 1969, President Yahya Khan announced the first general elections and disestablished the status of West Pakistan as a single province in 1970, in order to restore it to its original heterogeneous status comprising four provinces, as defined at the time of establishment of Pakistan in 1947. In addition, there were religious and racial tensions between Bengalis and the multi-ethnic West Pakistanis, as Bengalis looked different from the dominant West Pakistanis.\\nThe East Pakistan's Awami League leader Sheikh Mujibur Rahman stressed his political position by presenting his Six Points and endorsing the Bengalis' right to govern. The 1970 Pakistani general election, resulted in Awami League gaining 167 out of 169 seats for the East Pakistan Legislative Assembly, and a near-absolute majority in the 313-seat National Assembly, while the vote in West Pakistan was mostly won by the socialist Pakistan Peoples Party. The League's election success caused many West Pakistanis to fear that it would allow the Bengalis to draft the constitution based on the six-points and liberalism.\\nTo resol\")]"
      ]
     },
     "execution_count": 6,
     "metadata": {},
     "output_type": "execute_result"
    }
   ],
   "source": [
    "#based on the query we r checking the information or document on wikepedia website\n",
    "response = retriever.invoke(input=query)\n",
    "response"
   ]
  },
  {
   "cell_type": "code",
   "execution_count": 10,
   "id": "83b4e6f4",
   "metadata": {},
   "outputs": [
    {
     "name": "stdout",
     "output_type": "stream",
     "text": [
      "\n",
      "--- Result 1 ---\n",
      "content:\n",
      "China and India maintained peaceful relations for thousands of years, but their relationship has varied since the Chinese Communist Party (CCP)'s victory in the Chinese Civil War in 1949 and the annexation of Tibet by the People's Republic of China. The two nations have sought economic cooperation with each other, while frequent border disputes and economic nationalism in both countries are major points of contention.\n",
      "Cultural and economic relations between China and India date back to ancient times. The Silk Road not only served as a major trade route between India and China, but is also credited for facilitating the spread of Buddhism from India to East Asia. During the 19th century, China was involved in a growing opium trade with the East India Company, which exported opium grown in India. During World War II, both British India and the Republic of China (ROC) played a crucial role in halting the progress of Imperial Japan. After India became independent in 1947, it established relations with the ROC. The modern Sino-Indian diplomatic relationship began in 1950, when India was among the first noncommunist countries to end formal relations with the Republic of China and recognise the PRC as the legitimate government of both Mainland China and Taiwan. China and India are two of the major regional powers in Asia, and are the two most populous countries and among the fastest growing major economies in the world.\n",
      "Growth in diplomatic and economic influence has increased the significance of their bilateral relationship. Between 2008 and 2021, China has been India's largest trading partner, and the two countries have also extended their strategic and military relations. However, conflict of interest leads to hostility. India has a large trade deficit that is favoured towards China. The two countries failed to resolve their border dispute and Indian media outlets have repeatedly reported Chinese military incursions into Indian territory. And relations between contemporary China and India have been characterised by border disputes, resulting in three military conflicts – the Sino-Indian War of 1962, the border clashes in Nathu La and Cho La in 1967, and the 1987 Sumdorong Chu standoff. Since the late 1980s, both countries have successfully rebuilt diplomatic and economic ties.\n",
      "Since 2013, border disputes have reemerged to take centre stage in the two countries' mutual relations. In early 2018, the two armies got engaged in a standoff at the Doklam plateau along the disputed Bhutan-China border. Since summer 2020, armed standoffs and skirmishes at multiple locations along the entire Sino-Indian border escalated. A serious clash occurred in the Galwan Valley, resulting in the death of 20 Indian soldiers and many Chinese soldiers. Both countries have steadily established military infrastructure along border areas, including amidst the 2020 China–India skirmishes. Additionally, India remains wary about China's strong strategic bilateral relations with Pakistan, and China's relations to separatist groups in Northeast India, while China has expressed concerns about Indian military and economic activities in the disputed South China Sea as well as hosting of anti-China activity from Tibetan exiles. Today, the South Asian region is the premier site of intensified great power competition between China and India.\n",
      "\n",
      "\n",
      "== Geopolitical overview ==\n",
      "\n",
      "The China–India border straddles the Himalayas, with Nepal and Bhutan acting as buffer states. Parts of the disputed Kashmir region claimed by India (J&K and Ladakh) are claimed and administered by either Pakistan (Azad Kashmir and Gilgit Baltistan) or by the PRC (Aksai Chin). The Government of Pakistan, on its maps, shows the Aksai Chin area as mostly within China and labels the boundary \"Frontier Undefined\", while India holds that Aksai Chin is illegally occupied by the PRC. China and India also dispute most of Arunachal Pradesh.\n",
      "Not only is China's India policy shaped by greater competition with the\n",
      "\n",
      "--- Result 2 ---\n",
      "content:\n",
      "The Indo-Pakistani war of 1971, also known as the third Indo-Pakistani war, was a military confrontation between India and Pakistan that occurred during the Bangladesh Liberation War in East Pakistan from 3 December 1971 until the Pakistani capitulation in Dhaka on 16 December 1971.  The war began with Pakistan's Operation Chengiz Khan, consisting of preemptive aerial strikes on eight Indian air stations. The strikes led to India declaring war on Pakistan, marking their entry into the war for East Pakistan's independence, on the side of Bengali nationalist forces. India's entry expanded the existing conflict with Indian and Pakistani forces engaging on both the eastern and western fronts. \n",
      "Thirteen days after the war started, India achieved a clear upper hand, and the Eastern Command of the Pakistan military signed the instrument of surrender on 16 December 1971 in Dhaka, marking the formation of East Pakistan as the new nation of Bangladesh. Approximately 93,000 Pakistani servicemen were taken prisoner by the Indian Army, which included 79,676 to 81,000 uniformed personnel of the Pakistan Armed Forces, including some Bengali soldiers who had remained loyal to Pakistan. The remaining 10,324 to 12,500 prisoners were civilians, either family members of the military personnel or collaborators (Razakars).\n",
      "It is estimated that members of the Pakistani military and supporting pro-Pakistani Islamist militias killed between 300,000 and 3,000,000 civilians in Bangladesh. As a result of the conflict, a further eight to ten million people fled the country to seek refuge in India.\n",
      "During the war, members of the Pakistani military and supporting pro-Pakistani Islamist militias called the Razakars raped between 200,000 and 400,000 Bangladeshi women and girls in a systematic campaign of genocidal rape.\n",
      "\n",
      "\n",
      "== Background ==\n",
      "\n",
      "The Indo-Pakistani conflict was sparked by the Bangladesh Liberation War, which was a result of the violation of the rights of East Pakistan by the Pakistan Army. The political tensions in East Pakistan had its origin in the creation of Pakistan as a result of the partition of India by the United Kingdom in 1947; the popular language movement in 1950; mass riots in East Bengal in 1964; and the mass protests in 1969. These led to the resignation of President Ayub Khan, who invited army chief General Yahya Khan to take over the central government. The geographical distance between the eastern and western wings of Pakistan was vast; East Pakistan lay over 1,600 kilometres (1,000 mi) away, which greatly hampered any attempt to integrate the Bengali and the Pakistani cultures.\n",
      "To overcome the Bengali domination and prevent formation of the central government in Islamabad, the controversial One Unit programme established the two wings of East and West Pakistan. West Pakistanis' opposition to these efforts made it difficult to effectively govern both wings. In 1969, President Yahya Khan announced the first general elections and disestablished the status of West Pakistan as a single province in 1970, in order to restore it to its original heterogeneous status comprising four provinces, as defined at the time of establishment of Pakistan in 1947. In addition, there were religious and racial tensions between Bengalis and the multi-ethnic West Pakistanis, as Bengalis looked different from the dominant West Pakistanis.\n",
      "The East Pakistan's Awami League leader Sheikh Mujibur Rahman stressed his political position by presenting his Six Points and endorsing the Bengalis' right to govern. The 1970 Pakistani general election, resulted in Awami League gaining 167 out of 169 seats for the East Pakistan Legislative Assembly, and a near-absolute majority in the 313-seat National Assembly, while the vote in West Pakistan was mostly won by the socialist Pakistan Peoples Party. The League's election success caused many West Pakistanis to fear that it would allow the Bengalis to draft the constitution based on the six-points and liberalism.\n",
      "To resol\n"
     ]
    }
   ],
   "source": [
    "for i,doc in enumerate(response):\n",
    "    print(f\"\\n--- Result {i+1} ---\")\n",
    "    print(f\"content:\\n{doc.page_content}\")"
   ]
  },
  {
   "cell_type": "code",
   "execution_count": null,
   "id": "f8cdeab8",
   "metadata": {},
   "outputs": [],
   "source": []
  },
  {
   "cell_type": "markdown",
   "id": "7ef2da0f",
   "metadata": {},
   "source": [
    "# vector store retrievers"
   ]
  },
  {
   "cell_type": "code",
   "execution_count": 11,
   "id": "10fe3b38",
   "metadata": {},
   "outputs": [],
   "source": [
    "load_dotenv()\n",
    "\n",
    "\n",
    "#creating an object of embedding models\n",
    "emb_models = OpenAIEmbeddings(\n",
    "    model=\"text-embedding-3-large\",\n",
    "    dimensions=128\n",
    ")\n",
    "\n",
    "\n",
    "#creating and object llm chatmodel \n",
    "chat_model = ChatOpenAI(\n",
    "    temperature=0 #we called as creative parameter\n",
    ")\n"
   ]
  },
  {
   "cell_type": "code",
   "execution_count": 12,
   "id": "4eaa4ead",
   "metadata": {},
   "outputs": [
    {
     "data": {
      "text/plain": [
       "[Document(metadata={}, page_content='LangChain helps developers build LLM applications easily.'),\n",
       " Document(metadata={}, page_content='Chroma is a vector database optimized for LLM-based search.'),\n",
       " Document(metadata={}, page_content='Embeddings convert text into high-dimensional vectors.'),\n",
       " Document(metadata={}, page_content='OpenAI provides powerful embedding models.')]"
      ]
     },
     "execution_count": 12,
     "metadata": {},
     "output_type": "execute_result"
    }
   ],
   "source": [
    "# Step 1: Your source documents\n",
    "from langchain.schema import Document\n",
    "documents = [\n",
    "    Document(page_content=\"LangChain helps developers build LLM applications easily.\"),\n",
    "    Document(page_content=\"Chroma is a vector database optimized for LLM-based search.\"),\n",
    "    Document(page_content=\"Embeddings convert text into high-dimensional vectors.\"),\n",
    "    Document(page_content=\"OpenAI provides powerful embedding models.\"),\n",
    "]\n",
    "documents"
   ]
  },
  {
   "cell_type": "code",
   "execution_count": 16,
   "id": "1b022a89",
   "metadata": {},
   "outputs": [
    {
     "data": {
      "text/plain": [
       "<langchain_chroma.vectorstores.Chroma at 0x18250bfe620>"
      ]
     },
     "execution_count": 16,
     "metadata": {},
     "output_type": "execute_result"
    }
   ],
   "source": [
    "#creating a chroma vector store database \n",
    "from langchain_chroma import Chroma #this class we used to create chroma vector store database\n",
    "vector_store = Chroma(\n",
    "    collection_name=\"raees\",\n",
    "    embedding_function=emb_models,\n",
    "    persist_directory=\"sample_chromaDB\",\n",
    "    \n",
    ")\n",
    "vector_store"
   ]
  },
  {
   "cell_type": "markdown",
   "id": "94d4bb90",
   "metadata": {},
   "source": [
    "# if i want to add document in vector store DB"
   ]
  },
  {
   "cell_type": "code",
   "execution_count": 18,
   "id": "6d836b79",
   "metadata": {},
   "outputs": [
    {
     "data": {
      "text/plain": [
       "['2c7443ab-ba87-408e-93cd-b83d6b7bd2cc',\n",
       " 'a8574e38-bc4f-4b1f-9500-0196c4786244',\n",
       " 'e55bdb75-31d5-4576-8155-7c565299651f',\n",
       " '7c5afb8c-4be0-4480-a5c1-92f918a6b3c2']"
      ]
     },
     "execution_count": 18,
     "metadata": {},
     "output_type": "execute_result"
    }
   ],
   "source": [
    "vector_store.add_documents(documents=documents)"
   ]
  },
  {
   "cell_type": "code",
   "execution_count": 19,
   "id": "c44241b9",
   "metadata": {},
   "outputs": [
    {
     "data": {
      "text/plain": [
       "{'ids': ['2c7443ab-ba87-408e-93cd-b83d6b7bd2cc',\n",
       "  'a8574e38-bc4f-4b1f-9500-0196c4786244',\n",
       "  'e55bdb75-31d5-4576-8155-7c565299651f',\n",
       "  '7c5afb8c-4be0-4480-a5c1-92f918a6b3c2'],\n",
       " 'embeddings': None,\n",
       " 'documents': ['LangChain helps developers build LLM applications easily.',\n",
       "  'Chroma is a vector database optimized for LLM-based search.',\n",
       "  'Embeddings convert text into high-dimensional vectors.',\n",
       "  'OpenAI provides powerful embedding models.'],\n",
       " 'uris': None,\n",
       " 'included': ['metadatas', 'documents'],\n",
       " 'data': None,\n",
       " 'metadatas': [None, None, None, None]}"
      ]
     },
     "execution_count": 19,
     "metadata": {},
     "output_type": "execute_result"
    }
   ],
   "source": [
    "#to show the embedding vector is store in vectore storeDB or not.\n",
    "vector_store.get(include=[\"metadatas\", \"documents\"])\n"
   ]
  },
  {
   "cell_type": "markdown",
   "id": "9ac59345",
   "metadata": {},
   "source": [
    "# Convert vectorstore into a retriever"
   ]
  },
  {
   "cell_type": "code",
   "execution_count": 23,
   "id": "240fcdbb",
   "metadata": {},
   "outputs": [
    {
     "data": {
      "text/plain": [
       "VectorStoreRetriever(tags=['Chroma', 'OpenAIEmbeddings'], vectorstore=<langchain_chroma.vectorstores.Chroma object at 0x0000018250BFE620>, search_kwargs={'k': 2})"
      ]
     },
     "execution_count": 23,
     "metadata": {},
     "output_type": "execute_result"
    }
   ],
   "source": [
    "# Convert vectorstore into a retriever\n",
    "retriever2 = vector_store.as_retriever(search_kwargs={'k': 2},search_type=\"similarity\")\n",
    "retriever2"
   ]
  },
  {
   "cell_type": "code",
   "execution_count": 24,
   "id": "9a6cdde1",
   "metadata": {},
   "outputs": [
    {
     "data": {
      "text/plain": [
       "[Document(id='a8574e38-bc4f-4b1f-9500-0196c4786244', metadata={}, page_content='Chroma is a vector database optimized for LLM-based search.'),\n",
       " Document(id='2c7443ab-ba87-408e-93cd-b83d6b7bd2cc', metadata={}, page_content='LangChain helps developers build LLM applications easily.')]"
      ]
     },
     "execution_count": 24,
     "metadata": {},
     "output_type": "execute_result"
    }
   ],
   "source": [
    "#defining query from user\n",
    "query2 = \"What is Chroma used for?\"\n",
    "\n",
    "#searching the query on vector store DB\n",
    "result = retriever2.invoke(query2)\n",
    "result"
   ]
  },
  {
   "cell_type": "code",
   "execution_count": 25,
   "id": "8cd96082",
   "metadata": {},
   "outputs": [
    {
     "name": "stdout",
     "output_type": "stream",
     "text": [
      "\n",
      "--- Result 1 ---\n",
      "content:\n",
      "Chroma is a vector database optimized for LLM-based search.\n",
      "\n",
      "--- Result 2 ---\n",
      "content:\n",
      "LangChain helps developers build LLM applications easily.\n"
     ]
    }
   ],
   "source": [
    "for i,doc in enumerate(result):\n",
    "    print(f\"\\n--- Result {i+1} ---\")\n",
    "    print(f\"content:\\n{doc.page_content}\")"
   ]
  },
  {
   "cell_type": "code",
   "execution_count": null,
   "id": "2eae8052",
   "metadata": {},
   "outputs": [
    {
     "data": {
      "text/plain": [
       "[(Document(id='a8574e38-bc4f-4b1f-9500-0196c4786244', metadata={}, page_content='Chroma is a vector database optimized for LLM-based search.'),\n",
       "  0.6989080309867859),\n",
       " (Document(id='2c7443ab-ba87-408e-93cd-b83d6b7bd2cc', metadata={}, page_content='LangChain helps developers build LLM applications easily.'),\n",
       "  1.4694808721542358),\n",
       " (Document(id='e55bdb75-31d5-4576-8155-7c565299651f', metadata={}, page_content='Embeddings convert text into high-dimensional vectors.'),\n",
       "  1.8060450553894043)]"
      ]
     },
     "execution_count": 27,
     "metadata": {},
     "output_type": "execute_result"
    }
   ],
   "source": [
    "vector_store.similarity_search_with_score(query2, k=3) #if i want to show similarity score too then we have to used this method"
   ]
  },
  {
   "cell_type": "code",
   "execution_count": null,
   "id": "7fcb0df8",
   "metadata": {},
   "outputs": [
    {
     "data": {
      "text/plain": [
       "'\\nvector_store.similarity_search_with_score(query2, k=3) \\nagar above syntax used karta hu toh woh query ko vector database mei search karke result degha lekin algorithm jo used kar \\nraha hai woh hai COSINE SIMILARITY\\n\\nagar koi searching technique karne ho toh retrievers object used karna hai jismei hum algorithm define kar sakte hai\\nlike MMR\\n'"
      ]
     },
     "execution_count": 28,
     "metadata": {},
     "output_type": "execute_result"
    }
   ],
   "source": [
    "'''\n",
    "vector_store.similarity_search_with_score(query2, k=3) \n",
    "agar above syntax used karta hu toh woh query ko vector database mei search karke result degha lekin algorithm jo used kar \n",
    "raha hai woh hai COSINE SIMILARITY\n",
    "\n",
    "agar koi searching technique karne ho toh retrievers object used karna hai jismei hum algorithm define kar sakte hai\n",
    "like MMR(maxial marginal relevance)\n",
    "'''"
   ]
  },
  {
   "cell_type": "code",
   "execution_count": null,
   "id": "9c5c021c",
   "metadata": {},
   "outputs": [],
   "source": []
  },
  {
   "cell_type": "markdown",
   "id": "6a203f5b",
   "metadata": {},
   "source": [
    "# MMR(maxial marginal relevance) kab used karna hai jab vector database mei duplicat vector bohat ho avoid karne ke liye"
   ]
  },
  {
   "cell_type": "code",
   "execution_count": 29,
   "id": "566535d5",
   "metadata": {},
   "outputs": [],
   "source": [
    "from langchain_community.vectorstores import FAISS"
   ]
  },
  {
   "cell_type": "code",
   "execution_count": 32,
   "id": "5b1405b7",
   "metadata": {},
   "outputs": [
    {
     "data": {
      "text/plain": [
       "[Document(metadata={}, page_content='LangChain makes it easy to work with LLMs.'),\n",
       " Document(metadata={}, page_content='LangChain is used to build LLM based applications.'),\n",
       " Document(metadata={}, page_content='Chroma is used to store and search document embeddings.'),\n",
       " Document(metadata={}, page_content='Embeddings are vector representations of text.'),\n",
       " Document(metadata={}, page_content='MMR helps you get diverse results when doing similarity search.'),\n",
       " Document(metadata={}, page_content='LangChain supports Chroma, FAISS, Pinecone, and more.')]"
      ]
     },
     "execution_count": 32,
     "metadata": {},
     "output_type": "execute_result"
    }
   ],
   "source": [
    "# Sample documents\n",
    "docs1 = [\n",
    "    Document(page_content=\"LangChain makes it easy to work with LLMs.\"),\n",
    "    Document(page_content=\"LangChain is used to build LLM based applications.\"),\n",
    "    Document(page_content=\"Chroma is used to store and search document embeddings.\"),\n",
    "    Document(page_content=\"Embeddings are vector representations of text.\"),\n",
    "    Document(page_content=\"MMR helps you get diverse results when doing similarity search.\"),\n",
    "    Document(page_content=\"LangChain supports Chroma, FAISS, Pinecone, and more.\"),\n",
    "]\n",
    "docs1"
   ]
  },
  {
   "cell_type": "code",
   "execution_count": 36,
   "id": "5f829cb2",
   "metadata": {},
   "outputs": [
    {
     "data": {
      "text/plain": [
       "<langchain_community.vectorstores.faiss.FAISS at 0x182518efbb0>"
      ]
     },
     "execution_count": 36,
     "metadata": {},
     "output_type": "execute_result"
    }
   ],
   "source": [
    "#creating an object of FAISS vectore store database\n",
    "vector_db_faiss = FAISS.from_documents(\n",
    "    embedding=emb_models,\n",
    "    documents=docs1,\n",
    "    \n",
    ")\n",
    "vector_db_faiss"
   ]
  },
  {
   "cell_type": "markdown",
   "id": "29639c0f",
   "metadata": {},
   "source": [
    "# converting faiss vector store database to retrievers"
   ]
  },
  {
   "cell_type": "code",
   "execution_count": 41,
   "id": "e59c0786",
   "metadata": {},
   "outputs": [
    {
     "data": {
      "text/plain": [
       "VectorStoreRetriever(tags=['FAISS', 'OpenAIEmbeddings'], vectorstore=<langchain_community.vectorstores.faiss.FAISS object at 0x00000182518EFBB0>, search_type='mmr', search_kwargs={'k': 6, 'lambda_mult': 0.5})"
      ]
     },
     "execution_count": 41,
     "metadata": {},
     "output_type": "execute_result"
    }
   ],
   "source": [
    "retriever3 = vector_db_faiss.as_retriever(\n",
    "    # Retrieve more documents with higher diversity\n",
    "    # Useful if your dataset has many similar documents\n",
    "   \n",
    "        search_type=\"mmr\",\n",
    "        search_kwargs={'k': 6, 'lambda_mult': 0.5} #lambda_mult varies from 0 to 1 agar 1 hua behave cosine similarity ki tarah\n",
    "        #0 means bohat diverse result i am getting\n",
    "    )\n",
    "retriever3"
   ]
  },
  {
   "cell_type": "code",
   "execution_count": 44,
   "id": "6d2e52a1",
   "metadata": {},
   "outputs": [],
   "source": [
    "#defining query from user\n",
    "query3 = \"What is Langchain?\""
   ]
  },
  {
   "cell_type": "code",
   "execution_count": 45,
   "id": "9a9d2f34",
   "metadata": {},
   "outputs": [
    {
     "data": {
      "text/plain": [
       "[Document(id='4af58273-521f-48ea-a859-32ef8a85ba46', metadata={}, page_content='LangChain is used to build LLM based applications.'),\n",
       " Document(id='a4eb6327-230d-4169-a07d-7cf1e7b5a349', metadata={}, page_content='Chroma is used to store and search document embeddings.'),\n",
       " Document(id='7426aa6d-7097-482d-8c06-b9ccbabef5b8', metadata={}, page_content='LangChain supports Chroma, FAISS, Pinecone, and more.'),\n",
       " Document(id='745511e8-65b8-4e55-b31b-47500a0e2051', metadata={}, page_content='LangChain makes it easy to work with LLMs.'),\n",
       " Document(id='791d1eda-d641-4e5e-b8de-e125d0763b20', metadata={}, page_content='Embeddings are vector representations of text.'),\n",
       " Document(id='7e94ae86-9568-454f-bdd7-54137767112d', metadata={}, page_content='MMR helps you get diverse results when doing similarity search.')]"
      ]
     },
     "execution_count": 45,
     "metadata": {},
     "output_type": "execute_result"
    }
   ],
   "source": [
    "solution = retriever3.invoke(input=query3)\n",
    "solution"
   ]
  },
  {
   "cell_type": "code",
   "execution_count": null,
   "id": "c431dd70",
   "metadata": {},
   "outputs": [],
   "source": []
  },
  {
   "cell_type": "markdown",
   "id": "b3baa3cb",
   "metadata": {},
   "source": [
    "# multi query Retrieval kab used karna hai:- jab user ke input query mei ambuigity or multiple meaning ho sakti hai or incorrect query ho sakti tab we have to used"
   ]
  },
  {
   "cell_type": "code",
   "execution_count": 46,
   "id": "8b886612",
   "metadata": {},
   "outputs": [],
   "source": [
    "from langchain.retrievers import MultiQueryRetriever"
   ]
  },
  {
   "cell_type": "code",
   "execution_count": 47,
   "id": "ff1abe16",
   "metadata": {},
   "outputs": [
    {
     "data": {
      "text/plain": [
       "[Document(metadata={'source': 'H1'}, page_content='Regular walking boosts heart health and can reduce symptoms of depression.'),\n",
       " Document(metadata={'source': 'H2'}, page_content='Consuming leafy greens and fruits helps detox the body and improve longevity.'),\n",
       " Document(metadata={'source': 'H3'}, page_content='Deep sleep is crucial for cellular repair and emotional regulation.'),\n",
       " Document(metadata={'source': 'H4'}, page_content='Mindfulness and controlled breathing lower cortisol and improve mental clarity.'),\n",
       " Document(metadata={'source': 'H5'}, page_content='Drinking sufficient water throughout the day helps maintain metabolism and energy.'),\n",
       " Document(metadata={'source': 'I1'}, page_content='The solar energy system in modern homes helps balance electricity demand.'),\n",
       " Document(metadata={'source': 'I2'}, page_content='Python balances readability with power, making it a popular system design language.'),\n",
       " Document(metadata={'source': 'I3'}, page_content='Photosynthesis enables plants to produce energy by converting sunlight.'),\n",
       " Document(metadata={'source': 'I4'}, page_content='The 2022 FIFA World Cup was held in Qatar and drew global energy and excitement.'),\n",
       " Document(metadata={'source': 'I5'}, page_content='Black holes bend spacetime and store immense gravitational energy.')]"
      ]
     },
     "execution_count": 47,
     "metadata": {},
     "output_type": "execute_result"
    }
   ],
   "source": [
    "# Relevant health & wellness documents\n",
    "all_docs = [\n",
    "    Document(page_content=\"Regular walking boosts heart health and can reduce symptoms of depression.\", metadata={\"source\": \"H1\"}),\n",
    "    Document(page_content=\"Consuming leafy greens and fruits helps detox the body and improve longevity.\", metadata={\"source\": \"H2\"}),\n",
    "    Document(page_content=\"Deep sleep is crucial for cellular repair and emotional regulation.\", metadata={\"source\": \"H3\"}),\n",
    "    Document(page_content=\"Mindfulness and controlled breathing lower cortisol and improve mental clarity.\", metadata={\"source\": \"H4\"}),\n",
    "    Document(page_content=\"Drinking sufficient water throughout the day helps maintain metabolism and energy.\", metadata={\"source\": \"H5\"}),\n",
    "    Document(page_content=\"The solar energy system in modern homes helps balance electricity demand.\", metadata={\"source\": \"I1\"}),\n",
    "    Document(page_content=\"Python balances readability with power, making it a popular system design language.\", metadata={\"source\": \"I2\"}),\n",
    "    Document(page_content=\"Photosynthesis enables plants to produce energy by converting sunlight.\", metadata={\"source\": \"I3\"}),\n",
    "    Document(page_content=\"The 2022 FIFA World Cup was held in Qatar and drew global energy and excitement.\", metadata={\"source\": \"I4\"}),\n",
    "    Document(page_content=\"Black holes bend spacetime and store immense gravitational energy.\", metadata={\"source\": \"I5\"}),\n",
    "]\n",
    "all_docs"
   ]
  },
  {
   "cell_type": "code",
   "execution_count": 48,
   "id": "9a56e06a",
   "metadata": {},
   "outputs": [
    {
     "data": {
      "text/plain": [
       "<langchain_community.vectorstores.faiss.FAISS at 0x182518f33d0>"
      ]
     },
     "execution_count": 48,
     "metadata": {},
     "output_type": "execute_result"
    }
   ],
   "source": [
    "# Create FAISS vector store\n",
    "vectorstorefaiss = FAISS.from_documents(documents=all_docs, embedding=emb_models)\n",
    "vectorstorefaiss"
   ]
  },
  {
   "cell_type": "code",
   "execution_count": 49,
   "id": "02b8c48e",
   "metadata": {},
   "outputs": [
    {
     "data": {
      "text/plain": [
       "MultiQueryRetriever(retriever=VectorStoreRetriever(tags=['FAISS', 'OpenAIEmbeddings'], vectorstore=<langchain_community.vectorstores.faiss.FAISS object at 0x00000182518F33D0>, search_type='mmr', search_kwargs={'k': 2, 'lambda_mult': 0.25}), llm_chain=PromptTemplate(input_variables=['question'], input_types={}, partial_variables={}, template='You are an AI language model assistant. Your task is\\n    to generate 3 different versions of the given user\\n    question to retrieve relevant documents from a vector  database.\\n    By generating multiple perspectives on the user question,\\n    your goal is to help the user overcome some of the limitations\\n    of distance-based similarity search. Provide these alternative\\n    questions separated by newlines. Original question: {question}')\n",
       "| ChatOpenAI(client=<openai.resources.chat.completions.completions.Completions object at 0x000001824DE4A620>, async_client=<openai.resources.chat.completions.completions.AsyncCompletions object at 0x000001824DBFF160>, root_client=<openai.OpenAI object at 0x000001824DBBF520>, root_async_client=<openai.AsyncOpenAI object at 0x000001824DBFEB30>, temperature=0.0, model_kwargs={}, openai_api_key=SecretStr('**********'))\n",
       "| LineListOutputParser())"
      ]
     },
     "execution_count": 49,
     "metadata": {},
     "output_type": "execute_result"
    }
   ],
   "source": [
    "# converting vectorstorefaiss  database object to retriever using MultiQueryRetriever class\n",
    "multi_retrivers = MultiQueryRetriever.from_llm(retriever=vectorstorefaiss.as_retriever(search_type=\"mmr\",\n",
    "        search_kwargs={'k': 2, 'lambda_mult': 0.25}),\n",
    "                                          llm=chat_model\n",
    "                                          )\n",
    "multi_retrivers"
   ]
  },
  {
   "cell_type": "code",
   "execution_count": 50,
   "id": "56c351d5",
   "metadata": {},
   "outputs": [
    {
     "data": {
      "text/plain": [
       "'How to improve energy levels and maintain balance?'"
      ]
     },
     "execution_count": 50,
     "metadata": {},
     "output_type": "execute_result"
    }
   ],
   "source": [
    "# Query\n",
    "query = \"How to improve energy levels and maintain balance?\"\n",
    "query"
   ]
  },
  {
   "cell_type": "code",
   "execution_count": 51,
   "id": "c2b05a6f",
   "metadata": {},
   "outputs": [
    {
     "name": "stdout",
     "output_type": "stream",
     "text": [
      "\n",
      "--- Result 1 ---\n",
      "Drinking sufficient water throughout the day helps maintain metabolism and energy.\n",
      "\n",
      "--- Result 2 ---\n",
      "The 2022 FIFA World Cup was held in Qatar and drew global energy and excitement.\n"
     ]
    }
   ],
   "source": [
    "multiquery_results= multi_retrivers.invoke(query)\n",
    "for i, doc in enumerate(multiquery_results):\n",
    "    print(f\"\\n--- Result {i+1} ---\")\n",
    "    print(doc.page_content)"
   ]
  },
  {
   "cell_type": "code",
   "execution_count": null,
   "id": "07b5d98e",
   "metadata": {},
   "outputs": [],
   "source": []
  },
  {
   "cell_type": "markdown",
   "id": "ec0da7a7",
   "metadata": {},
   "source": [
    "# ContextualCompressionRetriever kab used karna hai user query ke hisab se response dikhana hai applying contextual compression"
   ]
  },
  {
   "cell_type": "code",
   "execution_count": 52,
   "id": "67232fd2",
   "metadata": {},
   "outputs": [],
   "source": [
    "from langchain_community.vectorstores import FAISS\n",
    "from langchain_openai import OpenAIEmbeddings, ChatOpenAI\n",
    "from langchain.retrievers.contextual_compression import ContextualCompressionRetriever\n",
    "from langchain.retrievers.document_compressors import LLMChainExtractor\n",
    "from langchain_core.documents import Document"
   ]
  },
  {
   "cell_type": "code",
   "execution_count": 53,
   "id": "ca04cb0c",
   "metadata": {},
   "outputs": [
    {
     "data": {
      "text/plain": [
       "[Document(metadata={'source': 'Doc1'}, page_content='The Grand Canyon is one of the most visited natural wonders in the world.\\n        Photosynthesis is the process by which green plants convert sunlight into energy.\\n        Millions of tourists travel to see it every year. The rocks date back millions of years.'),\n",
       " Document(metadata={'source': 'Doc2'}, page_content='In medieval Europe, castles were built primarily for defense.\\n        The chlorophyll in plant cells captures sunlight during photosynthesis.\\n        Knights wore armor made of metal. Siege weapons were often used to breach castle walls.'),\n",
       " Document(metadata={'source': 'Doc3'}, page_content='Basketball was invented by Dr. James Naismith in the late 19th century.\\n        It was originally played with a soccer ball and peach baskets. NBA is now a global league.'),\n",
       " Document(metadata={'source': 'Doc4'}, page_content='The history of cinema began in the late 1800s. Silent films were the earliest form.\\n        Thomas Edison was among the pioneers. Photosynthesis does not occur in animal cells.\\n        Modern filmmaking involves complex CGI and sound design.')]"
      ]
     },
     "execution_count": 53,
     "metadata": {},
     "output_type": "execute_result"
    }
   ],
   "source": [
    "# Recreate the document objects from the previous data\n",
    "docs = [\n",
    "    Document(page_content=(\n",
    "        \"\"\"The Grand Canyon is one of the most visited natural wonders in the world.\n",
    "        Photosynthesis is the process by which green plants convert sunlight into energy.\n",
    "        Millions of tourists travel to see it every year. The rocks date back millions of years.\"\"\"\n",
    "    ), metadata={\"source\": \"Doc1\"}),\n",
    "\n",
    "    Document(page_content=(\n",
    "        \"\"\"In medieval Europe, castles were built primarily for defense.\n",
    "        The chlorophyll in plant cells captures sunlight during photosynthesis.\n",
    "        Knights wore armor made of metal. Siege weapons were often used to breach castle walls.\"\"\"\n",
    "    ), metadata={\"source\": \"Doc2\"}),\n",
    "\n",
    "    Document(page_content=(\n",
    "        \"\"\"Basketball was invented by Dr. James Naismith in the late 19th century.\n",
    "        It was originally played with a soccer ball and peach baskets. NBA is now a global league.\"\"\"\n",
    "    ), metadata={\"source\": \"Doc3\"}),\n",
    "\n",
    "    Document(page_content=(\n",
    "        \"\"\"The history of cinema began in the late 1800s. Silent films were the earliest form.\n",
    "        Thomas Edison was among the pioneers. Photosynthesis does not occur in animal cells.\n",
    "        Modern filmmaking involves complex CGI and sound design.\"\"\"\n",
    "    ), metadata={\"source\": \"Doc4\"})\n",
    "]\n",
    "docs"
   ]
  },
  {
   "cell_type": "code",
   "execution_count": null,
   "id": "89143e09",
   "metadata": {},
   "outputs": [],
   "source": []
  },
  {
   "cell_type": "markdown",
   "id": "04fb8f15",
   "metadata": {},
   "source": [
    "# # Create a FAISS vector DB to store from the documents"
   ]
  },
  {
   "cell_type": "code",
   "execution_count": 54,
   "id": "a79bb1fc",
   "metadata": {},
   "outputs": [],
   "source": [
    "# Create a FAISS vector store from the documents\n",
    "embedding_model = OpenAIEmbeddings()\n",
    "vectorstore = FAISS.from_documents(docs, embedding_model)"
   ]
  },
  {
   "cell_type": "markdown",
   "id": "b21b5730",
   "metadata": {},
   "source": [
    "# converting vector store db object to retrievrs"
   ]
  },
  {
   "cell_type": "code",
   "execution_count": 55,
   "id": "138d7085",
   "metadata": {},
   "outputs": [
    {
     "data": {
      "text/plain": [
       "VectorStoreRetriever(tags=['FAISS', 'OpenAIEmbeddings'], vectorstore=<langchain_community.vectorstores.faiss.FAISS object at 0x0000018286A606A0>, search_type='mmr', search_kwargs={'k': 5, 'lambda_mult': 0.25})"
      ]
     },
     "execution_count": 55,
     "metadata": {},
     "output_type": "execute_result"
    }
   ],
   "source": [
    "base_retriever = vectorstore.as_retriever(search_kwargs={\"k\": 5,'lambda_mult': 0.25},search_type=\"mmr\")\n",
    "base_retriever"
   ]
  },
  {
   "cell_type": "markdown",
   "id": "cd781c20",
   "metadata": {},
   "source": [
    "# # Set up the compressor using an LLM"
   ]
  },
  {
   "cell_type": "code",
   "execution_count": 56,
   "id": "8242f452",
   "metadata": {},
   "outputs": [],
   "source": [
    "# Set up the compressor using an LLM\n",
    "llm = ChatOpenAI(model=\"gpt-3.5-turbo\")\n",
    "compressor = LLMChainExtractor.from_llm(llm)"
   ]
  },
  {
   "cell_type": "markdown",
   "id": "7db9023d",
   "metadata": {},
   "source": [
    "# Create the contextual compression retriever"
   ]
  },
  {
   "cell_type": "code",
   "execution_count": 57,
   "id": "1fbd6fd3",
   "metadata": {},
   "outputs": [
    {
     "data": {
      "text/plain": [
       "ContextualCompressionRetriever(base_compressor=LLMChainExtractor(llm_chain=PromptTemplate(input_variables=['context', 'question'], input_types={}, output_parser=NoOutputParser(), partial_variables={}, template='Given the following question and context, extract any part of the context *AS IS* that is relevant to answer the question. If none of the context is relevant return NO_OUTPUT.\\n\\nRemember, *DO NOT* edit the extracted parts of the context.\\n\\n> Question: {question}\\n> Context:\\n>>>\\n{context}\\n>>>\\nExtracted relevant parts:')\n",
       "| ChatOpenAI(client=<openai.resources.chat.completions.completions.Completions object at 0x0000018286A60FA0>, async_client=<openai.resources.chat.completions.completions.AsyncCompletions object at 0x0000018286A61C00>, root_client=<openai.OpenAI object at 0x0000018286A63D30>, root_async_client=<openai.AsyncOpenAI object at 0x0000018286A61120>, model_kwargs={}, openai_api_key=SecretStr('**********'))\n",
       "| NoOutputParser(), get_input=<function default_get_input at 0x0000018233355E10>), base_retriever=VectorStoreRetriever(tags=['FAISS', 'OpenAIEmbeddings'], vectorstore=<langchain_community.vectorstores.faiss.FAISS object at 0x0000018286A606A0>, search_type='mmr', search_kwargs={'k': 5, 'lambda_mult': 0.25}))"
      ]
     },
     "execution_count": 57,
     "metadata": {},
     "output_type": "execute_result"
    }
   ],
   "source": [
    "# Create the contextual compression retriever\n",
    "compression_retriever = ContextualCompressionRetriever(\n",
    "    base_retriever=base_retriever,\n",
    "    base_compressor=compressor\n",
    ")\n",
    "compression_retriever"
   ]
  },
  {
   "cell_type": "code",
   "execution_count": 58,
   "id": "bd5b764b",
   "metadata": {},
   "outputs": [
    {
     "data": {
      "text/plain": [
       "[Document(metadata={'source': 'Doc1'}, page_content='Photosynthesis is the process by which green plants convert sunlight into energy.'),\n",
       " Document(metadata={'source': 'Doc2'}, page_content='The chlorophyll in plant cells captures sunlight during photosynthesis.')]"
      ]
     },
     "execution_count": 58,
     "metadata": {},
     "output_type": "execute_result"
    }
   ],
   "source": [
    "# Query the retriever\n",
    "query = \"What is photosynthesis?\"\n",
    "compressed_results = compression_retriever.invoke(query)\n",
    "compressed_results"
   ]
  },
  {
   "cell_type": "code",
   "execution_count": 59,
   "id": "21e5e8c9",
   "metadata": {},
   "outputs": [
    {
     "name": "stdout",
     "output_type": "stream",
     "text": [
      "\n",
      "--- Result 1 ---\n",
      "Photosynthesis is the process by which green plants convert sunlight into energy.\n",
      "\n",
      "--- Result 2 ---\n",
      "The chlorophyll in plant cells captures sunlight during photosynthesis.\n"
     ]
    }
   ],
   "source": [
    "for i, doc in enumerate(compressed_results):\n",
    "    print(f\"\\n--- Result {i+1} ---\")\n",
    "    print(doc.page_content)"
   ]
  },
  {
   "cell_type": "code",
   "execution_count": null,
   "id": "61116db2",
   "metadata": {},
   "outputs": [],
   "source": []
  },
  {
   "cell_type": "code",
   "execution_count": null,
   "id": "b601667d",
   "metadata": {},
   "outputs": [],
   "source": []
  }
 ],
 "metadata": {
  "kernelspec": {
   "display_name": "hf-gpu",
   "language": "python",
   "name": "python3"
  },
  "language_info": {
   "codemirror_mode": {
    "name": "ipython",
    "version": 3
   },
   "file_extension": ".py",
   "mimetype": "text/x-python",
   "name": "python",
   "nbconvert_exporter": "python",
   "pygments_lexer": "ipython3",
   "version": "3.10.18"
  }
 },
 "nbformat": 4,
 "nbformat_minor": 5
}
